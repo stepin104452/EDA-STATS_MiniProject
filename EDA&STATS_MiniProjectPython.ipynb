{
 "cells": [
  {
   "cell_type": "code",
   "execution_count": 1,
   "id": "79df31c0",
   "metadata": {},
   "outputs": [],
   "source": [
    "# import 'pandas' \n",
    "import pandas as pd \n",
    "\n",
    "# import 'numpy' \n",
    "import numpy as np\n",
    "\n",
    "# import subpackage of matplotlib\n",
    "import matplotlib.pyplot as plt\n",
    "from matplotlib import gridspec\n",
    "%matplotlib inline\n",
    "\n",
    "# import 'seaborn'\n",
    "import seaborn as sns\n",
    "\n",
    "# to suppress warnings \n",
    "from warnings import filterwarnings\n",
    "filterwarnings('ignore')\n",
    "\n",
    "import statistics\n",
    "\n",
    "import scipy.stats\n",
    "\n",
    "# import 'stats' package from scipy library\n",
    "from scipy import stats\n",
    "from scipy.stats import randint\n",
    "from scipy.stats import skewnorm\n",
    "\n",
    "# import 'random' to generate a random sample\n",
    "import random"
   ]
  },
  {
   "cell_type": "markdown",
   "id": "b09327e8",
   "metadata": {},
   "source": [
    "# PART - A"
   ]
  },
  {
   "cell_type": "code",
   "execution_count": 2,
   "id": "f9ca1ed1",
   "metadata": {},
   "outputs": [],
   "source": [
    "age = [42,44,62,35,20,30,56,20,23,41,55,22,31,27,66,21,18,24,42,25,32,50,31,26,36,39,40,18,36,22]"
   ]
  },
  {
   "cell_type": "markdown",
   "id": "621ef41b",
   "metadata": {},
   "source": [
    "<table align=\"left\">\n",
    "    <tr>\n",
    "        <td width=\"6%\">\n",
    "            <img src=\"question_icon.png\">\n",
    "        </td>\n",
    "        <td>\n",
    "            <div align=\"left\", style=\"font-size:120%\">\n",
    "                <font color=\"#21618C\">\n",
    "                    <b>Q1. Compute the mean, median and the mode of the data.</b>\n",
    "                </font>\n",
    "            </div>\n",
    "        </td>\n",
    "    </tr>\n",
    "</table>"
   ]
  },
  {
   "cell_type": "code",
   "execution_count": 3,
   "id": "4b52563d",
   "metadata": {},
   "outputs": [
    {
     "data": {
      "text/plain": [
       "34.46666666666667"
      ]
     },
     "execution_count": 3,
     "metadata": {},
     "output_type": "execute_result"
    }
   ],
   "source": [
    "statistics.mean(age)"
   ]
  },
  {
   "cell_type": "code",
   "execution_count": 4,
   "id": "10a85d2b",
   "metadata": {},
   "outputs": [
    {
     "data": {
      "text/plain": [
       "31.5"
      ]
     },
     "execution_count": 4,
     "metadata": {},
     "output_type": "execute_result"
    }
   ],
   "source": [
    "statistics.median(age)"
   ]
  },
  {
   "cell_type": "code",
   "execution_count": 5,
   "id": "f1c388fc",
   "metadata": {},
   "outputs": [
    {
     "data": {
      "text/plain": [
       "42"
      ]
     },
     "execution_count": 5,
     "metadata": {},
     "output_type": "execute_result"
    }
   ],
   "source": [
    "statistics.mode(age)"
   ]
  },
  {
   "cell_type": "markdown",
   "id": "aaba931c",
   "metadata": {},
   "source": [
    "<table align=\"left\">\n",
    "    <tr>\n",
    "        <td width=\"6%\">\n",
    "            <img src=\"question_icon.png\">\n",
    "        </td>\n",
    "        <td>\n",
    "            <div align=\"left\", style=\"font-size:120%\">\n",
    "                <font color=\"#21618C\">\n",
    "                    <b>Q2. Compute the range , variance and standard deviation of customer ages.</b>\n",
    "                </font>\n",
    "            </div>\n",
    "        </td>\n",
    "    </tr>\n",
    "</table>"
   ]
  },
  {
   "cell_type": "code",
   "execution_count": 6,
   "id": "f8ad57d2",
   "metadata": {},
   "outputs": [
    {
     "data": {
      "text/plain": [
       "48"
      ]
     },
     "execution_count": 6,
     "metadata": {},
     "output_type": "execute_result"
    }
   ],
   "source": [
    "range_age = max(age) - min(age)\n",
    "range_age"
   ]
  },
  {
   "cell_type": "code",
   "execution_count": 7,
   "id": "8933439c",
   "metadata": {},
   "outputs": [
    {
     "data": {
      "text/plain": [
       "177.36091954022987"
      ]
     },
     "execution_count": 7,
     "metadata": {},
     "output_type": "execute_result"
    }
   ],
   "source": [
    "statistics.variance(age)"
   ]
  },
  {
   "cell_type": "code",
   "execution_count": 8,
   "id": "145a76f6",
   "metadata": {},
   "outputs": [
    {
     "data": {
      "text/plain": [
       "13.31769197497186"
      ]
     },
     "execution_count": 8,
     "metadata": {},
     "output_type": "execute_result"
    }
   ],
   "source": [
    "statistics.stdev(age)"
   ]
  },
  {
   "cell_type": "markdown",
   "id": "5567b7a8",
   "metadata": {},
   "source": [
    "<table align=\"left\">\n",
    "    <tr>\n",
    "        <td width=\"6%\">\n",
    "            <img src=\"question_icon.png\">\n",
    "        </td>\n",
    "        <td>\n",
    "            <div align=\"left\", style=\"font-size:120%\">\n",
    "                <font color=\"#21618C\">\n",
    "                    <b>Q3. Find the mean deviation for the data.</b>\n",
    "                </font>\n",
    "            </div>\n",
    "        </td>\n",
    "    </tr>\n",
    "</table>"
   ]
  },
  {
   "cell_type": "markdown",
   "id": "e5931070",
   "metadata": {},
   "source": [
    "Mean Deviation is how deviated are each of the elements of the list from the list mean. "
   ]
  },
  {
   "cell_type": "code",
   "execution_count": 9,
   "id": "6dab61eb",
   "metadata": {},
   "outputs": [
    {
     "name": "stdout",
     "output_type": "stream",
     "text": [
      "The original list is : [42, 44, 62, 35, 20, 30, 56, 20, 23, 41, 55, 22, 31, 27, 66, 21, 18, 24, 42, 25, 32, 50, 31, 26, 36, 39, 40, 18, 36, 22]\n",
      "Mean deviations : [7.533333333333331, 9.533333333333331, 27.53333333333333, 0.5333333333333314, 14.466666666666669, 4.466666666666669, 21.53333333333333, 14.466666666666669, 11.466666666666669, 6.533333333333331, 20.53333333333333, 12.466666666666669, 3.4666666666666686, 7.466666666666669, 31.53333333333333, 13.466666666666669, 16.46666666666667, 10.466666666666669, 7.533333333333331, 9.466666666666669, 2.4666666666666686, 15.533333333333331, 3.4666666666666686, 8.466666666666669, 1.5333333333333314, 4.533333333333331, 5.533333333333331, 16.46666666666667, 1.5333333333333314, 12.466666666666669]\n"
     ]
    }
   ],
   "source": [
    "print(\"The original list is : \" + str(age))\n",
    "  \n",
    "res = []\n",
    "  \n",
    "# getting mean\n",
    "mean_val = np.mean(age)\n",
    "  \n",
    "for ele in age:\n",
    "    # getting deviation\n",
    "    res.append(abs( ele - mean_val ))\n",
    "    \n",
    "print(\"Mean deviations : \" + str(res))"
   ]
  },
  {
   "cell_type": "markdown",
   "id": "2c5a169b",
   "metadata": {},
   "source": [
    "<table align=\"left\">\n",
    "    <tr>\n",
    "        <td width=\"6%\">\n",
    "            <img src=\"question_icon.png\">\n",
    "        </td>\n",
    "        <td>\n",
    "            <div align=\"left\", style=\"font-size:120%\">\n",
    "                <font color=\"#21618C\">\n",
    "                    <b> Q4. Calculate the Pearson coefficient of skewness and comment on the\n",
    "skewness of the data.\n",
    "                        \n",
    "[A measure to determine the skewness of a distribution is called the Pearson\n",
    "coefficient of skewness.\n",
    "                        The value of the coefficient if skewness usually ranges from –3 to 3. When the\n",
    "distribution is symmetric, the coefficient is zero; when the distribution is\n",
    "positively skewed , the coefficient is positive, and when the distribution is\n",
    "negatively skewed the coefficient is negative. ]\n",
    "</b>\n",
    "                </font>\n",
    "            </div>\n",
    "        </td>\n",
    "    </tr>\n",
    "</table>"
   ]
  },
  {
   "cell_type": "code",
   "execution_count": 10,
   "id": "242067b1",
   "metadata": {},
   "outputs": [
    {
     "data": {
      "text/plain": [
       "<AxesSubplot:ylabel='Density'>"
      ]
     },
     "execution_count": 10,
     "metadata": {},
     "output_type": "execute_result"
    },
    {
     "data": {
      "image/png": "[encoded data removed]",
      "text/plain": [
       "<Figure size 432x288 with 1 Axes>"
      ]
     },
     "metadata": {
      "needs_background": "light"
     },
     "output_type": "display_data"
    }
   ],
   "source": [
    "sns.kdeplot(age) "
   ]
  },
  {
   "cell_type": "markdown",
   "id": "d142aaa4",
   "metadata": {},
   "source": [
    "From the KDE Plot, we can determine that the list is slightly right skewed."
   ]
  },
  {
   "cell_type": "code",
   "execution_count": 11,
   "id": "ed40998b",
   "metadata": {},
   "outputs": [],
   "source": [
    "from scipy.stats import skew"
   ]
  },
  {
   "cell_type": "code",
   "execution_count": 12,
   "id": "8258d39f",
   "metadata": {},
   "outputs": [
    {
     "data": {
      "text/plain": [
       "0.7553641682223312"
      ]
     },
     "execution_count": 12,
     "metadata": {},
     "output_type": "execute_result"
    }
   ],
   "source": [
    "skew(age)"
   ]
  },
  {
   "cell_type": "markdown",
   "id": "2d90368a",
   "metadata": {},
   "source": [
    "As the skewness value > 0 , the list is positively skewed."
   ]
  },
  {
   "cell_type": "markdown",
   "id": "521752a7",
   "metadata": {},
   "source": [
    "<table align=\"left\">\n",
    "    <tr>\n",
    "        <td width=\"6%\">\n",
    "            <img src=\"question_icon.png\">\n",
    "        </td>\n",
    "        <td>\n",
    "            <div align=\"left\", style=\"font-size:120%\">\n",
    "                <font color=\"#21618C\">\n",
    "                    <b>Q5. Count the number of data values that fall within two standard deviations of the mean. Compare this with the answer from Chebyshev’s Theorem.</b>\n",
    "                </font>\n",
    "            </div>\n",
    "        </td>\n",
    "    </tr>\n",
    "</table>"
   ]
  },
  {
   "cell_type": "code",
   "execution_count": 13,
   "id": "8884d028",
   "metadata": {},
   "outputs": [],
   "source": [
    "from scipy.stats import norm"
   ]
  },
  {
   "cell_type": "code",
   "execution_count": 14,
   "id": "f1453077",
   "metadata": {},
   "outputs": [],
   "source": [
    "# Chebyshev's inequality formula\n",
    "\n",
    "def chebyshev_inequality(k):\n",
    "    return 1 / k**2"
   ]
  },
  {
   "cell_type": "code",
   "execution_count": 15,
   "id": "57ecc9f1",
   "metadata": {},
   "outputs": [
    {
     "name": "stdout",
     "output_type": "stream",
     "text": [
      "Chebyshev_Inequality for different values in the list :\n",
      "\n",
      "No of data values that fall within two std dev using Chebyshev formula for 42 = 0.0005668934240362812\n",
      "No of data values that fall within two std dev using Chebyshev formula for 44 = 0.0005165289256198347\n",
      "No of data values that fall within two std dev using Chebyshev formula for 62 = 0.00026014568158168577\n",
      "No of data values that fall within two std dev using Chebyshev formula for 35 = 0.0008163265306122449\n",
      "No of data values that fall within two std dev using Chebyshev formula for 20 = 0.0025\n",
      "No of data values that fall within two std dev using Chebyshev formula for 30 = 0.0011111111111111111\n",
      "No of data values that fall within two std dev using Chebyshev formula for 56 = 0.00031887755102040814\n",
      "No of data values that fall within two std dev using Chebyshev formula for 20 = 0.0025\n",
      "No of data values that fall within two std dev using Chebyshev formula for 23 = 0.001890359168241966\n",
      "No of data values that fall within two std dev using Chebyshev formula for 41 = 0.000594883997620464\n",
      "No of data values that fall within two std dev using Chebyshev formula for 55 = 0.00033057851239669424\n",
      "No of data values that fall within two std dev using Chebyshev formula for 22 = 0.002066115702479339\n",
      "No of data values that fall within two std dev using Chebyshev formula for 31 = 0.001040582726326743\n",
      "No of data values that fall within two std dev using Chebyshev formula for 27 = 0.0013717421124828531\n",
      "No of data values that fall within two std dev using Chebyshev formula for 66 = 0.0002295684113865932\n",
      "No of data values that fall within two std dev using Chebyshev formula for 21 = 0.0022675736961451248\n",
      "No of data values that fall within two std dev using Chebyshev formula for 18 = 0.0030864197530864196\n",
      "No of data values that fall within two std dev using Chebyshev formula for 24 = 0.001736111111111111\n",
      "No of data values that fall within two std dev using Chebyshev formula for 42 = 0.0005668934240362812\n",
      "No of data values that fall within two std dev using Chebyshev formula for 25 = 0.0016\n",
      "No of data values that fall within two std dev using Chebyshev formula for 32 = 0.0009765625\n",
      "No of data values that fall within two std dev using Chebyshev formula for 50 = 0.0004\n",
      "No of data values that fall within two std dev using Chebyshev formula for 31 = 0.001040582726326743\n",
      "No of data values that fall within two std dev using Chebyshev formula for 26 = 0.0014792899408284023\n",
      "No of data values that fall within two std dev using Chebyshev formula for 36 = 0.0007716049382716049\n",
      "No of data values that fall within two std dev using Chebyshev formula for 39 = 0.0006574621959237344\n",
      "No of data values that fall within two std dev using Chebyshev formula for 40 = 0.000625\n",
      "No of data values that fall within two std dev using Chebyshev formula for 18 = 0.0030864197530864196\n",
      "No of data values that fall within two std dev using Chebyshev formula for 36 = 0.0007716049382716049\n",
      "No of data values that fall within two std dev using Chebyshev formula for 22 = 0.002066115702479339\n"
     ]
    }
   ],
   "source": [
    "# function to find probability for different values in the list\n",
    "\n",
    "p_cheb = np.zeros(len(age))\n",
    "\n",
    "print('Chebyshev_Inequality for different values in the list :\\n') \n",
    "\n",
    "for i in range(len(age)):\n",
    "    p_cheb[i] = chebyshev_inequality(age[i])\n",
    "    print('No of data values that fall within two std dev using Chebyshev formula for',age[i],'=', p_cheb[i])"
   ]
  },
  {
   "cell_type": "code",
   "execution_count": 16,
   "id": "ff31265d",
   "metadata": {},
   "outputs": [],
   "source": [
    "# Probability using normal distrbution\n",
    "\n",
    "p_norm = np.zeros(len(age))\n",
    "\n",
    "for i in range(len(age)):\n",
    "   p_norm[i] = (1 - norm.cdf(age[i])) * 2"
   ]
  },
  {
   "cell_type": "code",
   "execution_count": 17,
   "id": "a846153c",
   "metadata": {},
   "outputs": [
    {
     "data": {
      "image/png": "[encoded data removed]",
      "text/plain": [
       "<Figure size 864x576 with 1 Axes>"
      ]
     },
     "metadata": {
      "needs_background": "light"
     },
     "output_type": "display_data"
    }
   ],
   "source": [
    "plt.figure(figsize=(12,8))\n",
    "plt.plot(age,p_cheb,'-o')\n",
    "plt.plot(age,p_norm, '-o')\n",
    "plt.xlabel('k parameter')\n",
    "plt.ylabel('Probability')\n",
    "plt.legend([\"Estimated by Chebyshev's Inequality\",\"Estimated by Cumulative Normal Distribution\"]);"
   ]
  },
  {
   "cell_type": "markdown",
   "id": "f75cd184",
   "metadata": {},
   "source": [
    "The figure shows that Chebyshev's Inequality provides an upper bound (the blue curve) for the true ratio of large numbers that can be drawn from a unit normal distribution (the orange curve). Note that Chebyshevs's Inequality provides tighter bounds for larger k values."
   ]
  },
  {
   "cell_type": "markdown",
   "id": "62a6a116",
   "metadata": {},
   "source": [
    "<table align=\"left\">\n",
    "    <tr>\n",
    "        <td width=\"6%\">\n",
    "            <img src=\"question_icon.png\">\n",
    "        </td>\n",
    "        <td>\n",
    "            <div align=\"left\", style=\"font-size:120%\">\n",
    "                <font color=\"#21618C\">\n",
    "                    <b>Q6. Find the three quartiles and the interquartile range (IQR).</b>\n",
    "                </font>\n",
    "            </div>\n",
    "        </td>\n",
    "    </tr>\n",
    "</table>"
   ]
  },
  {
   "cell_type": "code",
   "execution_count": 18,
   "id": "297b4cec",
   "metadata": {},
   "outputs": [
    {
     "name": "stdout",
     "output_type": "stream",
     "text": [
      "First Quartile = 23.25\n",
      "Second Quartile = 31.5\n",
      "Third Quartile = 41.75\n",
      "Inter Quartile Range = 18.5\n"
     ]
    }
   ],
   "source": [
    "q1 = np.percentile(age,25)\n",
    "q2 = np.percentile(age,50)\n",
    "q3 = np.percentile(age,75)\n",
    "iqr = q3 - q1\n",
    "\n",
    "print('First Quartile =',q1)\n",
    "print('Second Quartile =',q2)\n",
    "print('Third Quartile =',q3)\n",
    "print('Inter Quartile Range =',iqr)"
   ]
  },
  {
   "cell_type": "markdown",
   "id": "896bc6ba",
   "metadata": {},
   "source": [
    "<table align=\"left\">\n",
    "    <tr>\n",
    "        <td width=\"6%\">\n",
    "            <img src=\"question_icon.png\">\n",
    "        </td>\n",
    "        <td>\n",
    "            <div align=\"left\", style=\"font-size:120%\">\n",
    "                <font color=\"#21618C\">\n",
    "                    <b>Q7. Are there any outliers in the data set ?</b>\n",
    "                </font>\n",
    "            </div>\n",
    "        </td>\n",
    "    </tr>\n",
    "</table>"
   ]
  },
  {
   "cell_type": "code",
   "execution_count": 19,
   "id": "395f8c43",
   "metadata": {},
   "outputs": [
    {
     "name": "stdout",
     "output_type": "stream",
     "text": [
      "42  is Not an Outlier\n",
      "44  is Not an Outlier\n",
      "62  is Not an Outlier\n",
      "35  is Not an Outlier\n",
      "20  is Not an Outlier\n",
      "30  is Not an Outlier\n",
      "56  is Not an Outlier\n",
      "20  is Not an Outlier\n",
      "23  is Not an Outlier\n",
      "41  is Not an Outlier\n",
      "55  is Not an Outlier\n",
      "22  is Not an Outlier\n",
      "31  is Not an Outlier\n",
      "27  is Not an Outlier\n",
      "66  is Not an Outlier\n",
      "21  is Not an Outlier\n",
      "18  is Not an Outlier\n",
      "24  is Not an Outlier\n",
      "42  is Not an Outlier\n",
      "25  is Not an Outlier\n",
      "32  is Not an Outlier\n",
      "50  is Not an Outlier\n",
      "31  is Not an Outlier\n",
      "26  is Not an Outlier\n",
      "36  is Not an Outlier\n",
      "39  is Not an Outlier\n",
      "40  is Not an Outlier\n",
      "18  is Not an Outlier\n",
      "36  is Not an Outlier\n",
      "22  is Not an Outlier\n"
     ]
    }
   ],
   "source": [
    "ul= q3 + 1.5 * iqr # Upper Bound\n",
    "ll= q1 - 1.5 * iqr # Lower Bound\n",
    "\n",
    "# Checking if any element in the age list is not falling under the range of Upper Bound and Lower Bound\n",
    "\n",
    "for i in age:\n",
    "    if (i>ul) | (i < ll) :\n",
    "        print(i)\n",
    "    else:\n",
    "        print(i,' is Not an Outlier')"
   ]
  },
  {
   "cell_type": "markdown",
   "id": "85378cdf",
   "metadata": {},
   "source": [
    "Thus, we can conclude that there are no Outliers in the Dataset."
   ]
  },
  {
   "cell_type": "markdown",
   "id": "5132f85a",
   "metadata": {},
   "source": [
    "<table align=\"left\">\n",
    "    <tr>\n",
    "        <td width=\"6%\">\n",
    "            <img src=\"question_icon.png\">\n",
    "        </td>\n",
    "        <td>\n",
    "            <div align=\"left\", style=\"font-size:120%\">\n",
    "                <font color=\"#21618C\">\n",
    "                    <b>Q8. Draw a boxplot of the dataset to confirm .</b>\n",
    "                </font>\n",
    "            </div>\n",
    "        </td>\n",
    "    </tr>\n",
    "</table>"
   ]
  },
  {
   "cell_type": "code",
   "execution_count": 20,
   "id": "49dcf46c",
   "metadata": {},
   "outputs": [
    {
     "data": {
      "text/plain": [
       "<AxesSubplot:>"
      ]
     },
     "execution_count": 20,
     "metadata": {},
     "output_type": "execute_result"
    },
    {
     "data": {
      "image/png": "[encoded data removed]",
      "text/plain": [
       "<Figure size 720x576 with 1 Axes>"
      ]
     },
     "metadata": {
      "needs_background": "light"
     },
     "output_type": "display_data"
    }
   ],
   "source": [
    "plt.figure(figsize=(10,8))\n",
    "sns.boxplot(age)"
   ]
  },
  {
   "cell_type": "markdown",
   "id": "7d070f2b",
   "metadata": {},
   "source": [
    "There are no outliers in the dataset."
   ]
  },
  {
   "cell_type": "markdown",
   "id": "61e91399",
   "metadata": {},
   "source": [
    "<table align=\"left\">\n",
    "    <tr>\n",
    "        <td width=\"6%\">\n",
    "            <img src=\"question_icon.png\">\n",
    "        </td>\n",
    "        <td>\n",
    "            <div align=\"left\", style=\"font-size:120%\">\n",
    "                <font color=\"#21618C\">\n",
    "                    <b>Q9. Find the percentile rank of the datapoint 50.</b>\n",
    "                </font>\n",
    "            </div>\n",
    "        </td>\n",
    "    </tr>\n",
    "</table>"
   ]
  },
  {
   "cell_type": "code",
   "execution_count": 21,
   "id": "13d57483",
   "metadata": {},
   "outputs": [
    {
     "data": {
      "text/plain": [
       "31.5"
      ]
     },
     "execution_count": 21,
     "metadata": {},
     "output_type": "execute_result"
    }
   ],
   "source": [
    "np.percentile(age,50)"
   ]
  },
  {
   "cell_type": "markdown",
   "id": "d06e3630",
   "metadata": {},
   "source": [
    "<table align=\"left\">\n",
    "    <tr>\n",
    "        <td width=\"6%\">\n",
    "            <img src=\"question_icon.png\">\n",
    "        </td>\n",
    "        <td>\n",
    "            <div align=\"left\", style=\"font-size:120%\">\n",
    "                <font color=\"#21618C\">\n",
    "                    <b>Q10. What is the probability that a person ordering an EV scooter is above 50 years old?</b>\n",
    "                </font>\n",
    "            </div>\n",
    "        </td>\n",
    "    </tr>\n",
    "</table>"
   ]
  },
  {
   "cell_type": "code",
   "execution_count": 22,
   "id": "f51a685a",
   "metadata": {},
   "outputs": [
    {
     "name": "stdout",
     "output_type": "stream",
     "text": [
      "0.13\n"
     ]
    }
   ],
   "source": [
    "# Sample Space\n",
    "num = 30\n",
    "\n",
    "# Outcomes of a person being above the age of 50 years old\n",
    "outcomes = 4\n",
    "\n",
    "# Divide possible outcomes by the sample set\n",
    "probability = outcomes / num\n",
    "\n",
    "# Print probability rounded to two decimal places\n",
    "print(round(probability, 2))"
   ]
  },
  {
   "cell_type": "markdown",
   "id": "43da0a06",
   "metadata": {},
   "source": [
    "<table align=\"left\">\n",
    "    <tr>\n",
    "        <td width=\"6%\">\n",
    "            <img src=\"question_icon.png\">\n",
    "        </td>\n",
    "        <td>\n",
    "            <div align=\"left\", style=\"font-size:120%\">\n",
    "                <font color=\"#21618C\">\n",
    "                    <b>Q11. Create a frequency distribution for the data and visualize it appropriately.</b>\n",
    "                </font>\n",
    "            </div>\n",
    "        </td>\n",
    "    </tr>\n",
    "</table>"
   ]
  },
  {
   "cell_type": "code",
   "execution_count": 23,
   "id": "a79b04df",
   "metadata": {},
   "outputs": [
    {
     "data": {
      "text/plain": [
       "42    2\n",
       "36    2\n",
       "20    2\n",
       "22    2\n",
       "31    2\n",
       "18    2\n",
       "21    1\n",
       "39    1\n",
       "26    1\n",
       "50    1\n",
       "32    1\n",
       "25    1\n",
       "24    1\n",
       "27    1\n",
       "66    1\n",
       "44    1\n",
       "55    1\n",
       "41    1\n",
       "23    1\n",
       "56    1\n",
       "30    1\n",
       "35    1\n",
       "62    1\n",
       "40    1\n",
       "dtype: int64"
      ]
     },
     "execution_count": 23,
     "metadata": {},
     "output_type": "execute_result"
    }
   ],
   "source": [
    "#define Series\n",
    "data = pd.Series(age)\n",
    "\n",
    "#find frequencies of each value\n",
    "data.value_counts()"
   ]
  },
  {
   "cell_type": "code",
   "execution_count": 24,
   "id": "deaa8cfb",
   "metadata": {},
   "outputs": [
    {
     "data": {
      "text/plain": [
       "<AxesSubplot:ylabel='Density'>"
      ]
     },
     "execution_count": 24,
     "metadata": {},
     "output_type": "execute_result"
    },
    {
     "data": {
      "image/png": "[encoded data removed]",
      "text/plain": [
       "<Figure size 1080x432 with 1 Axes>"
      ]
     },
     "metadata": {
      "needs_background": "light"
     },
     "output_type": "display_data"
    }
   ],
   "source": [
    "plt.figure(figsize=(15,6))\n",
    "sns.distplot(age)"
   ]
  },
  {
   "cell_type": "markdown",
   "id": "9dd3fde0",
   "metadata": {},
   "source": [
    "Conclusion - Maximum buyers are in the age range of 18-30."
   ]
  },
  {
   "cell_type": "markdown",
   "id": "0b9968c7",
   "metadata": {},
   "source": [
    "<table align=\"left\">\n",
    "    <tr>\n",
    "        <td width=\"6%\">\n",
    "            <img src=\"question_icon.png\">\n",
    "        </td>\n",
    "        <td>\n",
    "            <div align=\"left\", style=\"font-size:120%\">\n",
    "                <font color=\"#21618C\">\n",
    "                    <b>Q12. Create a probability distribution of the data and visualize it appropriately.</b>\n",
    "                </font>\n",
    "            </div>\n",
    "        </td>\n",
    "    </tr>\n",
    "</table>"
   ]
  },
  {
   "cell_type": "code",
   "execution_count": 25,
   "id": "2506b318",
   "metadata": {},
   "outputs": [
    {
     "data": {
      "text/plain": [
       "[Text(0.5, 0, 'Normal Distribution'), Text(0, 0.5, 'Frequency')]"
      ]
     },
     "execution_count": 25,
     "metadata": {},
     "output_type": "execute_result"
    },
    {
     "data": {
      "image/png": "[encoded data removed]",
      "text/plain": [
       "<Figure size 1080x432 with 1 Axes>"
      ]
     },
     "metadata": {
      "needs_background": "light"
     },
     "output_type": "display_data"
    }
   ],
   "source": [
    "plt.figure(figsize=(15,6))\n",
    "\n",
    "ax = sns.distplot(age,\n",
    "                  bins=30,\n",
    "                  kde=True,\n",
    "                  color='skyblue')\n",
    "\n",
    "ax.set(xlabel='Normal Distribution', ylabel='Frequency')"
   ]
  },
  {
   "cell_type": "markdown",
   "id": "068e3410",
   "metadata": {},
   "source": [
    "<table align=\"left\">\n",
    "    <tr>\n",
    "        <td width=\"6%\">\n",
    "            <img src=\"question_icon.png\">\n",
    "        </td>\n",
    "        <td>\n",
    "            <div align=\"left\", style=\"font-size:120%\">\n",
    "                <font color=\"#21618C\">\n",
    "                    <b>Q13. What is the shape of the distribution of this dataset? Create an\n",
    "appropriate graph to determine that. Take 100 random samples with\n",
    "replacement from this dataset of size 5 each. Create a sampling distribution of\n",
    "the mean age of customers. Compare with other sampling distributions of\n",
    "sample size 10, 15, 20, 25, 30. State your observations. Does it corroborate\n",
    "the Central Limit Theorem?</b>\n",
    "                </font>\n",
    "            </div>\n",
    "        </td>\n",
    "    </tr>\n",
    "</table>"
   ]
  },
  {
   "cell_type": "code",
   "execution_count": 26,
   "id": "9a2b546f",
   "metadata": {},
   "outputs": [
    {
     "data": {
      "text/plain": [
       "30"
      ]
     },
     "execution_count": 26,
     "metadata": {},
     "output_type": "execute_result"
    }
   ],
   "source": [
    "len(age)"
   ]
  },
  {
   "cell_type": "markdown",
   "id": "aa1b07f8",
   "metadata": {},
   "source": [
    "## Sampling Distrbution of Sample size 100"
   ]
  },
  {
   "cell_type": "code",
   "execution_count": 27,
   "id": "19d38ba4",
   "metadata": {},
   "outputs": [
    {
     "name": "stdout",
     "output_type": "stream",
     "text": [
      "Sample with replacement: [66, 35, 42, 36, 36, 22, 30, 50, 31, 26, 42, 20, 50, 22, 31, 22, 42, 56, 27, 42, 20, 20, 31, 56, 31, 56, 40, 30, 50, 31, 26, 39, 66, 22, 31, 22, 62, 30, 36, 20, 55, 40, 62, 22, 36, 30, 30, 62, 41, 50, 27, 20, 20, 35, 25, 41, 18, 36, 36, 31, 20, 35, 30, 24, 27, 31, 36, 23, 42, 18, 55, 18, 44, 35, 35, 20, 36, 18, 27, 55, 26, 42, 24, 36, 35, 27, 35, 42, 55, 50, 22, 56, 62, 31, 36, 62, 22, 40, 40, 30]\n"
     ]
    }
   ],
   "source": [
    "# pass the data to the parameter, 'population'\n",
    "# pass the required sample size to the parameter, 'k' \n",
    "\n",
    "sample_wr = random.choices(population = age, k = 100)\n",
    "\n",
    "# print the sample\n",
    "print('Sample with replacement:', sample_wr)"
   ]
  },
  {
   "cell_type": "markdown",
   "id": "fab71239",
   "metadata": {},
   "source": [
    "In Simple Random Sampling Without Replacement (`SRSWOR`) an observation can occur only once as we do not replace the selected observation before drawing the next sample. <br>\n",
    "If there are `N` observations in the population then the probability of drawing `n` samples without replacement is $\\frac{1}{N \\choose n}$"
   ]
  },
  {
   "cell_type": "code",
   "execution_count": 28,
   "id": "ddc2f385",
   "metadata": {},
   "outputs": [
    {
     "data": {
      "text/plain": [
       "0.6716735510706081"
      ]
     },
     "execution_count": 28,
     "metadata": {},
     "output_type": "execute_result"
    }
   ],
   "source": [
    "skew(sample_wr)"
   ]
  },
  {
   "cell_type": "markdown",
   "id": "78ddac7c",
   "metadata": {},
   "source": [
    "Thus it is a rightly skewed population."
   ]
  },
  {
   "cell_type": "code",
   "execution_count": 29,
   "id": "5d55304e",
   "metadata": {},
   "outputs": [
    {
     "data": {
      "image/png": "[encoded data removed]",
      "text/plain": [
       "<Figure size 1080x432 with 1 Axes>"
      ]
     },
     "metadata": {
      "needs_background": "light"
     },
     "output_type": "display_data"
    }
   ],
   "source": [
    "# create a sampling distribution from the above population with replacement\n",
    "# first we define the number of samples to be drawn \n",
    "n_samples=100\n",
    "\n",
    "# create an empty list to store the means of each sample\n",
    "sample_means = []\n",
    "\n",
    "# create a for loop to get the sample means array\n",
    "for i in range(n_samples):\n",
    "    # generates a random sample of size 100 from the population array\n",
    "    sample = np.random.choice(sample_wr, size=100, replace=True)\n",
    "        \n",
    "    # calculate the mean of the sample data\n",
    "    sample_mean = np.mean(sample)\n",
    "        \n",
    "    # append the mean to the list\n",
    "    sample_means.append(sample_mean) \n",
    "    \n",
    "# plot the distribution of the sample means \n",
    "plt.figure(figsize=(15,6))\n",
    "sns.distplot(sample_means)\n",
    "\n",
    "# give the graph a title\n",
    "plt.title(\"Sampling Distribution\", fontsize=15)\n",
    "\n",
    "# display the graph\n",
    "plt.show()\n"
   ]
  },
  {
   "cell_type": "markdown",
   "id": "2e3281d7",
   "metadata": {},
   "source": [
    "We observe from the above experiment that even though the population was right skewed , a sampling distribution of samples with size 100 is almost a normal distribution.\n",
    "\n",
    "This corroborates with the CENTRAL LIMIT THEOREM."
   ]
  },
  {
   "cell_type": "markdown",
   "id": "cafaa491",
   "metadata": {},
   "source": [
    "## Sampling Distrbution of Sample size 10"
   ]
  },
  {
   "cell_type": "code",
   "execution_count": 30,
   "id": "b8142c6a",
   "metadata": {},
   "outputs": [
    {
     "name": "stdout",
     "output_type": "stream",
     "text": [
      "Sample with replacement: [26, 55, 18, 44, 18, 18, 31, 22, 27, 36]\n"
     ]
    }
   ],
   "source": [
    "# pass the data to the parameter, 'population'\n",
    "# pass the required sample size to the parameter, 'k' \n",
    "\n",
    "sample_wr = random.choices(population = age, k = 10)\n",
    "\n",
    "# print the sample\n",
    "print('Sample with replacement:', sample_wr)"
   ]
  },
  {
   "cell_type": "code",
   "execution_count": 31,
   "id": "14dd5a41",
   "metadata": {},
   "outputs": [
    {
     "data": {
      "text/plain": [
       "0.9204508220954926"
      ]
     },
     "execution_count": 31,
     "metadata": {},
     "output_type": "execute_result"
    }
   ],
   "source": [
    "skew(sample_wr)"
   ]
  },
  {
   "cell_type": "markdown",
   "id": "6b0ed3b1",
   "metadata": {},
   "source": [
    "Thus it is a left skewed population."
   ]
  },
  {
   "cell_type": "code",
   "execution_count": 32,
   "id": "0749038d",
   "metadata": {},
   "outputs": [
    {
     "data": {
      "image/png": "[encoded data removed]",
      "text/plain": [
       "<Figure size 1080x432 with 1 Axes>"
      ]
     },
     "metadata": {
      "needs_background": "light"
     },
     "output_type": "display_data"
    }
   ],
   "source": [
    "# create a sampling distribution from the above population with replacement\n",
    "# first we define the number of samples to be drawn \n",
    "n_samples=10\n",
    "\n",
    "# create an empty list to store the means of each sample\n",
    "sample_means = []\n",
    "\n",
    "# create a for loop to get the sample means array\n",
    "for i in range(n_samples):\n",
    "    # generates a random sample of size 10 from the population array\n",
    "    sample = np.random.choice(sample_wr, size=10, replace=True)\n",
    "        \n",
    "    # calculate the mean of the sample data\n",
    "    sample_mean = np.mean(sample)\n",
    "        \n",
    "    # append the mean to the list\n",
    "    sample_means.append(sample_mean) \n",
    "    \n",
    "# plot the distribution of the sample means \n",
    "plt.figure(figsize=(15,6))\n",
    "sns.distplot(sample_means)\n",
    "\n",
    "# give the graph a title\n",
    "plt.title(\"Sampling Distribution\", fontsize=15)\n",
    "\n",
    "# display the graph\n",
    "plt.show()"
   ]
  },
  {
   "cell_type": "markdown",
   "id": "2713a4a1",
   "metadata": {},
   "source": [
    "We observe from the above experiment that even though the population was right skewed , a sampling distribution of samples with size 100 is not a normal distribution.\n",
    "\n",
    "This does not corroborate with the CENTRAL LIMIT THEOREM."
   ]
  },
  {
   "cell_type": "markdown",
   "id": "f362a03e",
   "metadata": {},
   "source": [
    "<table align=\"left\">\n",
    "    <tr>\n",
    "        <td width=\"6%\">\n",
    "            <img src=\"question_icon.png\">\n",
    "        </td>\n",
    "        <td>\n",
    "            <div align=\"left\", style=\"font-size:120%\">\n",
    "                <font color=\"#21618C\">\n",
    "                    <b>Q14. Treat this dataset as a binomial distribution where p is the probability\n",
    "that a person ordering an EV is above 50 years age. What is the probability\n",
    "that out of a random sample of 10 buyers exactly 6 are above 50 years of\n",
    "age?</b>\n",
    "                </font>\n",
    "            </div>\n",
    "        </td>\n",
    "    </tr>\n",
    "</table>"
   ]
  },
  {
   "cell_type": "code",
   "execution_count": 33,
   "id": "ec684282",
   "metadata": {},
   "outputs": [
    {
     "name": "stdout",
     "output_type": "stream",
     "text": [
      "The probability that out of a random sample of 10 buyers exactly 6 are above 50 years of age : 3.943760438231042e-05\n"
     ]
    }
   ],
   "source": [
    "# use 'binom.pmf()' to calculate the pmf for binomial distribution \n",
    "# pass the required value to the parameter, 'k' \n",
    "# pass number of total shots fired to the parameter, 'n'\n",
    "# probability of people being above the age of 50 is 4/50\n",
    "\n",
    "prob = stats.binom.pmf(k = 6, n = 10, p = 4/50)\n",
    "\n",
    "# use 'round()' to round-off the value to 2 digits\n",
    "print('The probability that out of a random sample of 10 buyers exactly 6 are above 50 years of age :', prob)"
   ]
  },
  {
   "cell_type": "markdown",
   "id": "5c493832",
   "metadata": {},
   "source": [
    "The probability value is nearly negligible hence the probability is very that out of a random sample of 10 buyers exactly 6 are above 50 years of age."
   ]
  },
  {
   "cell_type": "markdown",
   "id": "b54e1e5e",
   "metadata": {},
   "source": [
    "<table align=\"left\">\n",
    "    <tr>\n",
    "        <td width=\"6%\">\n",
    "            <img src=\"question_icon.png\">\n",
    "        </td>\n",
    "        <td>\n",
    "            <div align=\"left\", style=\"font-size:120%\">\n",
    "                <font color=\"#21618C\">\n",
    "                    <b>Q15. A study claims that 10% of all customers for an EV scooter are above 50\n",
    "years of age. Using the Normal approximation of a Binomial distribution, find\n",
    "the probability that in a random sample of 300 prospective customers exactly\n",
    "25 will be above 50 years of age.\n",
    "[ Note that the normal distribution can be used to approximate a binomial\n",
    "distribution if np>=5 and nq>=5 with the following correction for continuity\n",
    "P(X=z) = P(z-0.5 < X < z+0.5 ) ]\n",
    "</b>\n",
    "                </font>\n",
    "            </div>\n",
    "        </td>\n",
    "    </tr>\n",
    "</table>"
   ]
  },
  {
   "cell_type": "code",
   "execution_count": 97,
   "id": "5126e0d7",
   "metadata": {},
   "outputs": [
    {
     "data": {
      "text/plain": [
       "0.051"
      ]
     },
     "execution_count": 97,
     "metadata": {},
     "output_type": "execute_result"
    }
   ],
   "source": [
    "round ( stats.binom.pmf( k=25 , n=300 , p=0.10 ) , 3 )"
   ]
  },
  {
   "cell_type": "markdown",
   "id": "bb94648b",
   "metadata": {},
   "source": [
    "- k - Number of times experiment will be carried out\n",
    "- n - Sample size\n",
    "- p - probability of the condition being true"
   ]
  },
  {
   "cell_type": "markdown",
   "id": "db249d3f",
   "metadata": {},
   "source": [
    "<table align=\"left\">\n",
    "    <tr>\n",
    "        <td width=\"6%\">\n",
    "            <img src=\"question_icon.png\">\n",
    "        </td>\n",
    "        <td>\n",
    "            <div align=\"left\", style=\"font-size:120%\">\n",
    "                <font color=\"#21618C\">\n",
    "                    <b>Q16. Compute a 95% Confidence Interval for the true mean age of the\n",
    "population of EV scooter buyers for the dataset using appropriate distribution.(\n",
    "State reasons as to why did you use a z or t distribution)\n",
    "                        </b>\n",
    "                </font>\n",
    "            </div>\n",
    "        </td>\n",
    "    </tr>\n",
    "</table>"
   ]
  },
  {
   "cell_type": "code",
   "execution_count": 98,
   "id": "2e3d31d3",
   "metadata": {},
   "outputs": [],
   "source": [
    "from scipy.stats import shapiro"
   ]
  },
  {
   "cell_type": "code",
   "execution_count": 99,
   "id": "781a4793",
   "metadata": {},
   "outputs": [
    {
     "data": {
      "text/plain": [
       "(0.9230570793151855, 0.03221774846315384)"
      ]
     },
     "execution_count": 99,
     "metadata": {},
     "output_type": "execute_result"
    }
   ],
   "source": [
    "# type your code here\n",
    "\n",
    "# Data:\n",
    "# (Normal) : Normal ?? (Shapiro Test) (Hypothesis)\n",
    "\n",
    "# Hypothesis:\n",
    "# Null Hypothesis\n",
    "# Alternate\n",
    "\n",
    "# Test:\n",
    "# statistics value, probability value\n",
    "\n",
    "# statistics value -> compare -> critical value.\n",
    "# probability value -> compare -> alpha (SL)\n",
    "\n",
    "# Hypothesis :\n",
    "# H0: Data is normal \n",
    "# HA: Data is not normal.\n",
    "\n",
    "stat, p_value = shapiro(age)\n",
    "stat, p_value\n"
   ]
  },
  {
   "cell_type": "code",
   "execution_count": 100,
   "id": "7f9e3c86",
   "metadata": {},
   "outputs": [],
   "source": [
    "# alpha = 0.05\n",
    "# p = 0.032\n",
    "\n",
    "# p > alpha\n",
    "# Donot reject null hypothesis.\n",
    "# Data is normal."
   ]
  },
  {
   "cell_type": "code",
   "execution_count": 101,
   "id": "e2af09cc",
   "metadata": {},
   "outputs": [
    {
     "data": {
      "text/plain": [
       "Ttest_1sampResult(statistic=0.0, pvalue=1.0)"
      ]
     },
     "execution_count": 101,
     "metadata": {},
     "output_type": "execute_result"
    }
   ],
   "source": [
    "scipy.stats.ttest_1samp(age, np.mean(age))"
   ]
  },
  {
   "cell_type": "markdown",
   "id": "59858104",
   "metadata": {},
   "source": [
    "<table align=\"left\">\n",
    "    <tr>\n",
    "        <td width=\"6%\">\n",
    "            <img src=\"question_icon.png\">\n",
    "        </td>\n",
    "        <td>\n",
    "            <div align=\"left\", style=\"font-size:120%\">\n",
    "                <font color=\"#21618C\">\n",
    "                    <b>Q17. A data scientist wants to estimate with 95% confidence the proportion of\n",
    "people who own an EV in the population. A recent study showed that 20% of\n",
    "people interviewed had an EV. The data scientist wants to be accurate within\n",
    "2% of the true proportion. Find the minimum sample size necessary.\n",
    "                        </b>\n",
    "                </font>\n",
    "            </div>\n",
    "        </td>\n",
    "    </tr>\n",
    "</table>"
   ]
  },
  {
   "cell_type": "code",
   "execution_count": 89,
   "id": "75380d4f",
   "metadata": {},
   "outputs": [
    {
     "data": {
      "text/plain": [
       "10.66"
      ]
     },
     "execution_count": 89,
     "metadata": {},
     "output_type": "execute_result"
    }
   ],
   "source": [
    "std =  statistics.stdev(age)\n",
    "n = 0.20 * len(age)\n",
    "alpha = 0.05\n",
    "\n",
    "z = stats.norm.isf(q = 0.05/2)\n",
    "margin_of_error = round(z*std/np.sqrt(n),2)\n",
    "margin_of_error"
   ]
  },
  {
   "cell_type": "code",
   "execution_count": 91,
   "id": "5f906b26",
   "metadata": {},
   "outputs": [
    {
     "data": {
      "text/plain": [
       "6"
      ]
     },
     "execution_count": 91,
     "metadata": {},
     "output_type": "execute_result"
    }
   ],
   "source": [
    "n = round(((z * std) / margin_of_error)**2)\n",
    "n"
   ]
  },
  {
   "cell_type": "markdown",
   "id": "9ede749e",
   "metadata": {},
   "source": [
    "<table align=\"left\">\n",
    "    <tr>\n",
    "        <td width=\"6%\">\n",
    "            <img src=\"question_icon.png\">\n",
    "        </td>\n",
    "        <td>\n",
    "            <div align=\"left\", style=\"font-size:120%\">\n",
    "                <font color=\"#21618C\">\n",
    "                    <b>Q18. The same data scientist wants to estimate the proportion of executives\n",
    "who own an EV. She wants to be 90% confident and accurate within 5% of\n",
    "true proportion. Find the minimum sample size necessary.\n",
    "                        </b>\n",
    "                </font>\n",
    "            </div>\n",
    "        </td>\n",
    "    </tr>\n",
    "</table>"
   ]
  },
  {
   "cell_type": "code",
   "execution_count": 92,
   "id": "cf0c4d58",
   "metadata": {},
   "outputs": [
    {
     "data": {
      "text/plain": [
       "8.94"
      ]
     },
     "execution_count": 92,
     "metadata": {},
     "output_type": "execute_result"
    }
   ],
   "source": [
    "std =  statistics.stdev(age)\n",
    "n = 0.20 * len(age)\n",
    "alpha = 0.1\n",
    "\n",
    "z = stats.norm.isf(q = 0.1/2)\n",
    "margin_of_error = round(z*std/np.sqrt(n),2)\n",
    "margin_of_error"
   ]
  },
  {
   "cell_type": "code",
   "execution_count": 93,
   "id": "6c52c224",
   "metadata": {},
   "outputs": [
    {
     "data": {
      "text/plain": [
       "6"
      ]
     },
     "execution_count": 93,
     "metadata": {},
     "output_type": "execute_result"
    }
   ],
   "source": [
    "n = round(((z * std) / margin_of_error)**2)\n",
    "n"
   ]
  },
  {
   "cell_type": "markdown",
   "id": "20f62cfa",
   "metadata": {},
   "source": [
    "<table align=\"left\">\n",
    "    <tr>\n",
    "        <td width=\"6%\">\n",
    "            <img src=\"question_icon.png\">\n",
    "        </td>\n",
    "        <td>\n",
    "            <div align=\"left\", style=\"font-size:120%\">\n",
    "                <font color=\"#21618C\">\n",
    "                    <b>Q19. A researcher claims that currently 20% of the population are owning\n",
    "EVs. Test his claim with an alpha =0.05 if out of a random sample of 30\n",
    "two-wheeler owners only 5 own an EV.\n",
    "                        </b>\n",
    "                </font>\n",
    "            </div>\n",
    "        </td>\n",
    "    </tr>\n",
    "</table>"
   ]
  },
  {
   "cell_type": "code",
   "execution_count": 102,
   "id": "ff999384",
   "metadata": {},
   "outputs": [
    {
     "data": {
      "text/plain": [
       "0.17227918285000246"
      ]
     },
     "execution_count": 102,
     "metadata": {},
     "output_type": "execute_result"
    }
   ],
   "source": [
    "stats.binom.pmf( k=5 , n=30 , p=0.20 )"
   ]
  },
  {
   "cell_type": "markdown",
   "id": "2d2071d4",
   "metadata": {},
   "source": [
    "Probability that out of a random sample of 30 two wheeler owners only 5 own an EV is around 0.172. "
   ]
  },
  {
   "cell_type": "markdown",
   "id": "b8aab444",
   "metadata": {},
   "source": [
    "<table align=\"left\">\n",
    "    <tr>\n",
    "        <td width=\"6%\">\n",
    "            <img src=\"question_icon.png\">\n",
    "        </td>\n",
    "        <td>\n",
    "            <div align=\"left\", style=\"font-size:120%\">\n",
    "                <font color=\"#21618C\">\n",
    "                    <b>Q20. Assume you are working for a Consumer Protection Agency that looks at\n",
    "complaints raised by customers for the transportation industry. Say you have\n",
    "been receiving complaints about the mileage of the latest EV launched by the\n",
    "Zen Automotives. Zen allows you to test randomly 40 of its new EVs to test\n",
    "mileage. Zen claims that the new EVs get a mileage of 96 kmpl on the\n",
    "highway. Your results show a mean of 91.3 kmpl and a standard deviation of\n",
    "14.4.    \n",
    "a. Show why you support Zen’s claim using the P-value obtained.\n",
    "b. After more complaints you decide to test the variability of the mileage on\n",
    "the highway. On questioning Zen’s quality control engineer , you find\n",
    "that they are claiming a standard deviation of 7.2. Test the claim about\n",
    "the standard deviation. [Hint :use the Chi-square test for\n",
    "variance/standard deviation]\n",
    "c. Write a summary of results and the action that Zen must take to remedy\n",
    "the complaints.\n",
    "d. What is your position on performing the test for variability along with the\n",
    "test for means?\n",
    "                      </b>\n",
    "                </font>\n",
    "            </div>\n",
    "        </td>\n",
    "    </tr>\n",
    "</table>"
   ]
  },
  {
   "cell_type": "markdown",
   "id": "6054e96c",
   "metadata": {},
   "source": [
    "#### a. Show why you support Zen’s claim using the P-value obtained."
   ]
  },
  {
   "cell_type": "code",
   "execution_count": null,
   "id": "4bd973a6",
   "metadata": {},
   "outputs": [],
   "source": [
    "# H0: mu nearly equals to 96\n",
    "# Ha: mu not nearly equals to 96"
   ]
  },
  {
   "cell_type": "code",
   "execution_count": 108,
   "id": "8ee130de",
   "metadata": {},
   "outputs": [
    {
     "name": "stdout",
     "output_type": "stream",
     "text": [
      "-2.064\n"
     ]
    },
    {
     "data": {
      "text/plain": [
       "1.6848751194974"
      ]
     },
     "execution_count": 108,
     "metadata": {},
     "output_type": "execute_result"
    }
   ],
   "source": [
    "n = 40\n",
    "pop_mean = 96\n",
    "samp_mean = 91.3\n",
    "samp_std = 14.4\n",
    "\n",
    "def t_test(pop_mean, samp_std, n, samp_mean):\n",
    "    t_score = (samp_mean - pop_mean) / (samp_std/ np.sqrt(n))\n",
    "    return t_score\n",
    "\n",
    "test_stat = t_test(pop_mean, samp_std, n, samp_mean)\n",
    "\n",
    "print(round(test_stat,3))\n",
    "# crit t val:\n",
    "\n",
    "stats.t.isf(q = 0.05, df = (n-1))"
   ]
  },
  {
   "cell_type": "markdown",
   "id": "cb316692",
   "metadata": {},
   "source": [
    "- p_value > alpha.\n",
    "- Hence, we fail to reject null hypothesis."
   ]
  },
  {
   "cell_type": "markdown",
   "id": "236e3f55",
   "metadata": {},
   "source": [
    "#### b. After more complaints you decide to test the variability of the mileage on the highway. On questioning Zen’s quality control engineer , you find that they are claiming a standard deviation of 7.2. Test the claim about the standard deviation. [Hint :use the Chi-square test for variance/standard deviation] "
   ]
  },
  {
   "cell_type": "code",
   "execution_count": 109,
   "id": "2c53b5bb",
   "metadata": {},
   "outputs": [
    {
     "name": "stdout",
     "output_type": "stream",
     "text": [
      "-4.129\n"
     ]
    },
    {
     "data": {
      "text/plain": [
       "1.6848751194974"
      ]
     },
     "execution_count": 109,
     "metadata": {},
     "output_type": "execute_result"
    }
   ],
   "source": [
    "n = 40\n",
    "pop_mean = 96\n",
    "samp_mean = 91.3\n",
    "samp_std = 7.2\n",
    "\n",
    "def t_test(pop_mean, samp_std, n, samp_mean):\n",
    "    t_score = (samp_mean - pop_mean) / (samp_std/ np.sqrt(n))\n",
    "    return t_score\n",
    "\n",
    "test_stat = t_test(pop_mean, samp_std, n, samp_mean)\n",
    "\n",
    "print(round(test_stat,3))\n",
    "# crit t val:\n",
    "\n",
    "stats.t.isf(q = 0.05, df = (n-1))"
   ]
  },
  {
   "cell_type": "markdown",
   "id": "cbe3d67b",
   "metadata": {},
   "source": [
    "- p_value > alpha.\n",
    "- Hence, we fail to reject null hypothesis."
   ]
  },
  {
   "cell_type": "markdown",
   "id": "72f5e6ee",
   "metadata": {},
   "source": [
    "#### c. Write a summary of results and the action that Zen must take to remedy the complaints."
   ]
  },
  {
   "cell_type": "markdown",
   "id": "6358f916",
   "metadata": {},
   "source": [
    "In both the Hypothesis Testing, we have failed to reject the Null Hypothesis which claims that the new EVs get a mileage of 96 kmpl on the highway. However, considering that the number of complaint reports have been increasing - Zen should try to test the mileage of the vehicle on a larger sample to confirm their claim."
   ]
  },
  {
   "cell_type": "markdown",
   "id": "5ff4b792",
   "metadata": {},
   "source": [
    "#### d. What is your position on performing the test for variability along with the test for means?"
   ]
  },
  {
   "cell_type": "markdown",
   "id": "e8a968dc",
   "metadata": {},
   "source": [
    "In both the Hypothesis Testing, we have failed to reject the Null Hypothesis which claims that the new EVs get a mileage of 96 kmpl on the highway"
   ]
  },
  {
   "cell_type": "markdown",
   "id": "8874a9ef",
   "metadata": {},
   "source": [
    "<table align=\"left\">\n",
    "    <tr>\n",
    "        <td width=\"6%\">\n",
    "            <img src=\"question_icon.png\">\n",
    "        </td>\n",
    "        <td>\n",
    "            <div align=\"left\", style=\"font-size:120%\">\n",
    "                <font color=\"#21618C\">\n",
    "                    <b>Q21. Write a report comparing and contrasting Descriptive vs Inferential\n",
    "Statistics in about 200-500 words and how each helps to get more insight into\n",
    "the data at hand.\n",
    "                        </b>\n",
    "                </font>\n",
    "            </div>\n",
    "        </td>\n",
    "    </tr>\n",
    "</table>"
   ]
  },
  {
   "cell_type": "markdown",
   "id": "cdb0fd52",
   "metadata": {},
   "source": [
    "Descriptive statistics are used to describe the characteristics or features of a dataset. The term ‘descriptive statistics’ can be used to describe both individual quantitative observations (also known as ‘summary statistics’) as well as the overall process of obtaining insights from these data. We can use descriptive statistics to describe both an entire population or an individual sample. Because they are merely explanatory, descriptive statistics are not heavily concerned with the differences between the two types of data.\n",
    "\n",
    "So the measures which are usually used to perform any descriptive statistics are :\n",
    "\n",
    "- Distribution\n",
    "- Central tendency\n",
    "- Variability"
   ]
  },
  {
   "cell_type": "markdown",
   "id": "832ddb7a",
   "metadata": {},
   "source": [
    "In Inferential Statistics, the focus is on making predictions about a large group of data based on a representative sample of the population. A random sample of data is considered from a population to describe and make inferences about the population. This technique allows you to work with a small sample rather than the whole population. Since inferential statistics make predictions rather than stating facts, the results are often in the form of probability. "
   ]
  },
  {
   "cell_type": "markdown",
   "id": "c599de01",
   "metadata": {},
   "source": [
    "In our set of data as well, the Deferential Statistic measures we have used have given us information about raw data regarding its description or features and Inferential statistics, on the other hand, has helped us to draw inferences about the population by using data extracted from the population. "
   ]
  },
  {
   "cell_type": "markdown",
   "id": "07d570c3",
   "metadata": {},
   "source": [
    "# PART - B"
   ]
  },
  {
   "cell_type": "code",
   "execution_count": 40,
   "id": "2a12343e",
   "metadata": {},
   "outputs": [],
   "source": [
    "# import 'pandas' \n",
    "import pandas as pd \n",
    "\n",
    "# import 'numpy' \n",
    "import numpy as np\n",
    "\n",
    "# import subpackage of matplotlib\n",
    "import matplotlib.pyplot as plt\n",
    "from matplotlib import gridspec\n",
    "%matplotlib inline\n",
    "\n",
    "# import 'seaborn'\n",
    "import seaborn as sns\n",
    "\n",
    "# to suppress warnings \n",
    "from warnings import filterwarnings\n",
    "filterwarnings('ignore')\n",
    "\n",
    "import statistics\n",
    "\n",
    "import scipy.stats\n",
    "\n",
    "# import 'stats' package from scipy library\n",
    "from scipy import stats\n",
    "from scipy.stats import randint\n",
    "from scipy.stats import skewnorm\n",
    "\n",
    "# import 'random' to generate a random sample\n",
    "import random"
   ]
  },
  {
   "cell_type": "markdown",
   "id": "2ef63a4e",
   "metadata": {},
   "source": [
    "# 1. Read the data set, clean the data and prepare a final dataset to be used for analysis"
   ]
  },
  {
   "cell_type": "code",
   "execution_count": 41,
   "id": "2600286e",
   "metadata": {},
   "outputs": [
    {
     "data": {
      "text/html": [
       "<div>\n",
       "<style scoped>\n",
       "    .dataframe tbody tr th:only-of-type {\n",
       "        vertical-align: middle;\n",
       "    }\n",
       "\n",
       "    .dataframe tbody tr th {\n",
       "        vertical-align: top;\n",
       "    }\n",
       "\n",
       "    .dataframe thead th {\n",
       "        text-align: right;\n",
       "    }\n",
       "</style>\n",
       "<table border=\"1\" class=\"dataframe\">\n",
       "  <thead>\n",
       "    <tr style=\"text-align: right;\">\n",
       "      <th></th>\n",
       "      <th>Team</th>\n",
       "      <th>Tournament</th>\n",
       "      <th>Score</th>\n",
       "      <th>PlayedGames</th>\n",
       "      <th>WonGames</th>\n",
       "      <th>DrawnGames</th>\n",
       "      <th>LostGames</th>\n",
       "      <th>BasketScored</th>\n",
       "      <th>BasketGiven</th>\n",
       "      <th>TournamentChampion</th>\n",
       "      <th>Runnerup</th>\n",
       "      <th>TeamLaunch</th>\n",
       "      <th>HighestPositionHeld</th>\n",
       "    </tr>\n",
       "  </thead>\n",
       "  <tbody>\n",
       "    <tr>\n",
       "      <th>0</th>\n",
       "      <td>Team 1</td>\n",
       "      <td>86</td>\n",
       "      <td>4385</td>\n",
       "      <td>2762</td>\n",
       "      <td>1647</td>\n",
       "      <td>552</td>\n",
       "      <td>563</td>\n",
       "      <td>5947</td>\n",
       "      <td>3140</td>\n",
       "      <td>33</td>\n",
       "      <td>23</td>\n",
       "      <td>1929</td>\n",
       "      <td>1</td>\n",
       "    </tr>\n",
       "    <tr>\n",
       "      <th>1</th>\n",
       "      <td>Team 2</td>\n",
       "      <td>86</td>\n",
       "      <td>4262</td>\n",
       "      <td>2762</td>\n",
       "      <td>1581</td>\n",
       "      <td>573</td>\n",
       "      <td>608</td>\n",
       "      <td>5900</td>\n",
       "      <td>3114</td>\n",
       "      <td>25</td>\n",
       "      <td>25</td>\n",
       "      <td>1929</td>\n",
       "      <td>1</td>\n",
       "    </tr>\n",
       "    <tr>\n",
       "      <th>2</th>\n",
       "      <td>Team 3</td>\n",
       "      <td>80</td>\n",
       "      <td>3442</td>\n",
       "      <td>2614</td>\n",
       "      <td>1241</td>\n",
       "      <td>598</td>\n",
       "      <td>775</td>\n",
       "      <td>4534</td>\n",
       "      <td>3309</td>\n",
       "      <td>10</td>\n",
       "      <td>8</td>\n",
       "      <td>1929</td>\n",
       "      <td>1</td>\n",
       "    </tr>\n",
       "    <tr>\n",
       "      <th>3</th>\n",
       "      <td>Team 4</td>\n",
       "      <td>82</td>\n",
       "      <td>3386</td>\n",
       "      <td>2664</td>\n",
       "      <td>1187</td>\n",
       "      <td>616</td>\n",
       "      <td>861</td>\n",
       "      <td>4398</td>\n",
       "      <td>3469</td>\n",
       "      <td>6</td>\n",
       "      <td>6</td>\n",
       "      <td>1931-32</td>\n",
       "      <td>1</td>\n",
       "    </tr>\n",
       "    <tr>\n",
       "      <th>4</th>\n",
       "      <td>Team 5</td>\n",
       "      <td>86</td>\n",
       "      <td>3368</td>\n",
       "      <td>2762</td>\n",
       "      <td>1209</td>\n",
       "      <td>633</td>\n",
       "      <td>920</td>\n",
       "      <td>4631</td>\n",
       "      <td>3700</td>\n",
       "      <td>8</td>\n",
       "      <td>7</td>\n",
       "      <td>1929</td>\n",
       "      <td>1</td>\n",
       "    </tr>\n",
       "    <tr>\n",
       "      <th>...</th>\n",
       "      <td>...</td>\n",
       "      <td>...</td>\n",
       "      <td>...</td>\n",
       "      <td>...</td>\n",
       "      <td>...</td>\n",
       "      <td>...</td>\n",
       "      <td>...</td>\n",
       "      <td>...</td>\n",
       "      <td>...</td>\n",
       "      <td>...</td>\n",
       "      <td>...</td>\n",
       "      <td>...</td>\n",
       "      <td>...</td>\n",
       "    </tr>\n",
       "    <tr>\n",
       "      <th>56</th>\n",
       "      <td>Team 57</td>\n",
       "      <td>1</td>\n",
       "      <td>34</td>\n",
       "      <td>38</td>\n",
       "      <td>8</td>\n",
       "      <td>10</td>\n",
       "      <td>20</td>\n",
       "      <td>38</td>\n",
       "      <td>66</td>\n",
       "      <td>-</td>\n",
       "      <td>-</td>\n",
       "      <td>2009-10</td>\n",
       "      <td>20</td>\n",
       "    </tr>\n",
       "    <tr>\n",
       "      <th>57</th>\n",
       "      <td>Team 58</td>\n",
       "      <td>1</td>\n",
       "      <td>22</td>\n",
       "      <td>30</td>\n",
       "      <td>7</td>\n",
       "      <td>8</td>\n",
       "      <td>15</td>\n",
       "      <td>37</td>\n",
       "      <td>57</td>\n",
       "      <td>-</td>\n",
       "      <td>-</td>\n",
       "      <td>1956-57</td>\n",
       "      <td>16</td>\n",
       "    </tr>\n",
       "    <tr>\n",
       "      <th>58</th>\n",
       "      <td>Team 59</td>\n",
       "      <td>1</td>\n",
       "      <td>19</td>\n",
       "      <td>30</td>\n",
       "      <td>7</td>\n",
       "      <td>5</td>\n",
       "      <td>18</td>\n",
       "      <td>51</td>\n",
       "      <td>85</td>\n",
       "      <td>-</td>\n",
       "      <td>-</td>\n",
       "      <td>1951-52</td>\n",
       "      <td>16</td>\n",
       "    </tr>\n",
       "    <tr>\n",
       "      <th>59</th>\n",
       "      <td>Team 60</td>\n",
       "      <td>1</td>\n",
       "      <td>14</td>\n",
       "      <td>30</td>\n",
       "      <td>5</td>\n",
       "      <td>4</td>\n",
       "      <td>21</td>\n",
       "      <td>34</td>\n",
       "      <td>65</td>\n",
       "      <td>-</td>\n",
       "      <td>-</td>\n",
       "      <td>1955-56</td>\n",
       "      <td>15</td>\n",
       "    </tr>\n",
       "    <tr>\n",
       "      <th>60</th>\n",
       "      <td>Team 61</td>\n",
       "      <td>1</td>\n",
       "      <td>-</td>\n",
       "      <td>-</td>\n",
       "      <td>-</td>\n",
       "      <td>-</td>\n",
       "      <td>-</td>\n",
       "      <td>-</td>\n",
       "      <td>-</td>\n",
       "      <td>-</td>\n",
       "      <td>-</td>\n",
       "      <td>2017-18</td>\n",
       "      <td>9</td>\n",
       "    </tr>\n",
       "  </tbody>\n",
       "</table>\n",
       "<p>61 rows × 13 columns</p>\n",
       "</div>"
      ],
      "text/plain": [
       "       Team  Tournament Score PlayedGames WonGames DrawnGames LostGames  \\\n",
       "0    Team 1          86  4385        2762     1647        552       563   \n",
       "1    Team 2          86  4262        2762     1581        573       608   \n",
       "2    Team 3          80  3442        2614     1241        598       775   \n",
       "3    Team 4          82  3386        2664     1187        616       861   \n",
       "4    Team 5          86  3368        2762     1209        633       920   \n",
       "..      ...         ...   ...         ...      ...        ...       ...   \n",
       "56  Team 57           1    34          38        8         10        20   \n",
       "57  Team 58           1    22          30        7          8        15   \n",
       "58  Team 59           1    19          30        7          5        18   \n",
       "59  Team 60           1    14          30        5          4        21   \n",
       "60  Team 61           1     -           -        -          -         -   \n",
       "\n",
       "   BasketScored BasketGiven TournamentChampion Runnerup TeamLaunch  \\\n",
       "0          5947        3140                 33       23       1929   \n",
       "1          5900        3114                 25       25       1929   \n",
       "2          4534        3309                 10        8       1929   \n",
       "3          4398        3469                  6        6    1931-32   \n",
       "4          4631        3700                  8        7       1929   \n",
       "..          ...         ...                ...      ...        ...   \n",
       "56           38          66                  -        -    2009-10   \n",
       "57           37          57                  -        -    1956-57   \n",
       "58           51          85                  -        -    1951-52   \n",
       "59           34          65                  -        -    1955-56   \n",
       "60            -           -                  -        -    2017-18   \n",
       "\n",
       "    HighestPositionHeld  \n",
       "0                     1  \n",
       "1                     1  \n",
       "2                     1  \n",
       "3                     1  \n",
       "4                     1  \n",
       "..                  ...  \n",
       "56                   20  \n",
       "57                   16  \n",
       "58                   16  \n",
       "59                   15  \n",
       "60                    9  \n",
       "\n",
       "[61 rows x 13 columns]"
      ]
     },
     "execution_count": 41,
     "metadata": {},
     "output_type": "execute_result"
    }
   ],
   "source": [
    "df = pd.read_csv(r'C:\\Users\\praty\\OneDrive\\Desktop\\Data Science\\Mini Projects\\EDA & STATS\\Basketball.csv')\n",
    "df"
   ]
  },
  {
   "cell_type": "markdown",
   "id": "4ccb93e6",
   "metadata": {},
   "source": [
    "## Shape of the Dataset"
   ]
  },
  {
   "cell_type": "code",
   "execution_count": 42,
   "id": "65f783c8",
   "metadata": {},
   "outputs": [
    {
     "data": {
      "text/plain": [
       "(61, 13)"
      ]
     },
     "execution_count": 42,
     "metadata": {},
     "output_type": "execute_result"
    }
   ],
   "source": [
    "df.shape"
   ]
  },
  {
   "cell_type": "markdown",
   "id": "8a93c790",
   "metadata": {},
   "source": [
    "## Missing Values"
   ]
  },
  {
   "cell_type": "code",
   "execution_count": 43,
   "id": "07a4beae",
   "metadata": {},
   "outputs": [
    {
     "data": {
      "text/plain": [
       "Team                   0\n",
       "Tournament             0\n",
       "Score                  0\n",
       "PlayedGames            0\n",
       "WonGames               0\n",
       "DrawnGames             0\n",
       "LostGames              0\n",
       "BasketScored           0\n",
       "BasketGiven            0\n",
       "TournamentChampion     0\n",
       "Runnerup               0\n",
       "TeamLaunch             0\n",
       "HighestPositionHeld    0\n",
       "dtype: int64"
      ]
     },
     "execution_count": 43,
     "metadata": {},
     "output_type": "execute_result"
    }
   ],
   "source": [
    "df.isnull().sum()"
   ]
  },
  {
   "cell_type": "markdown",
   "id": "8f73bdcf",
   "metadata": {},
   "source": [
    "There are no Missing Values in the Dataset."
   ]
  },
  {
   "cell_type": "markdown",
   "id": "fe7395c3",
   "metadata": {},
   "source": [
    "## Retrieve all Information of the Dataset"
   ]
  },
  {
   "cell_type": "code",
   "execution_count": 44,
   "id": "d16e5d1f",
   "metadata": {},
   "outputs": [
    {
     "name": "stdout",
     "output_type": "stream",
     "text": [
      "<class 'pandas.core.frame.DataFrame'>\n",
      "RangeIndex: 61 entries, 0 to 60\n",
      "Data columns (total 13 columns):\n",
      " #   Column               Non-Null Count  Dtype \n",
      "---  ------               --------------  ----- \n",
      " 0   Team                 61 non-null     object\n",
      " 1   Tournament           61 non-null     int64 \n",
      " 2   Score                61 non-null     object\n",
      " 3   PlayedGames          61 non-null     object\n",
      " 4   WonGames             61 non-null     object\n",
      " 5   DrawnGames           61 non-null     object\n",
      " 6   LostGames            61 non-null     object\n",
      " 7   BasketScored         61 non-null     object\n",
      " 8   BasketGiven          61 non-null     object\n",
      " 9   TournamentChampion   61 non-null     object\n",
      " 10  Runnerup             61 non-null     object\n",
      " 11  TeamLaunch           61 non-null     object\n",
      " 12  HighestPositionHeld  61 non-null     int64 \n",
      "dtypes: int64(2), object(11)\n",
      "memory usage: 6.3+ KB\n"
     ]
    }
   ],
   "source": [
    "df.info()"
   ]
  },
  {
   "cell_type": "code",
   "execution_count": 45,
   "id": "ec8ec99b",
   "metadata": {},
   "outputs": [
    {
     "data": {
      "text/html": [
       "<div>\n",
       "<style scoped>\n",
       "    .dataframe tbody tr th:only-of-type {\n",
       "        vertical-align: middle;\n",
       "    }\n",
       "\n",
       "    .dataframe tbody tr th {\n",
       "        vertical-align: top;\n",
       "    }\n",
       "\n",
       "    .dataframe thead th {\n",
       "        text-align: right;\n",
       "    }\n",
       "</style>\n",
       "<table border=\"1\" class=\"dataframe\">\n",
       "  <thead>\n",
       "    <tr style=\"text-align: right;\">\n",
       "      <th></th>\n",
       "      <th>Tournament</th>\n",
       "      <th>HighestPositionHeld</th>\n",
       "    </tr>\n",
       "  </thead>\n",
       "  <tbody>\n",
       "    <tr>\n",
       "      <th>count</th>\n",
       "      <td>61.000000</td>\n",
       "      <td>61.000000</td>\n",
       "    </tr>\n",
       "    <tr>\n",
       "      <th>mean</th>\n",
       "      <td>24.000000</td>\n",
       "      <td>7.081967</td>\n",
       "    </tr>\n",
       "    <tr>\n",
       "      <th>std</th>\n",
       "      <td>26.827225</td>\n",
       "      <td>5.276663</td>\n",
       "    </tr>\n",
       "    <tr>\n",
       "      <th>min</th>\n",
       "      <td>1.000000</td>\n",
       "      <td>1.000000</td>\n",
       "    </tr>\n",
       "    <tr>\n",
       "      <th>25%</th>\n",
       "      <td>4.000000</td>\n",
       "      <td>3.000000</td>\n",
       "    </tr>\n",
       "    <tr>\n",
       "      <th>50%</th>\n",
       "      <td>12.000000</td>\n",
       "      <td>6.000000</td>\n",
       "    </tr>\n",
       "    <tr>\n",
       "      <th>75%</th>\n",
       "      <td>38.000000</td>\n",
       "      <td>10.000000</td>\n",
       "    </tr>\n",
       "    <tr>\n",
       "      <th>max</th>\n",
       "      <td>86.000000</td>\n",
       "      <td>20.000000</td>\n",
       "    </tr>\n",
       "  </tbody>\n",
       "</table>\n",
       "</div>"
      ],
      "text/plain": [
       "       Tournament  HighestPositionHeld\n",
       "count   61.000000            61.000000\n",
       "mean    24.000000             7.081967\n",
       "std     26.827225             5.276663\n",
       "min      1.000000             1.000000\n",
       "25%      4.000000             3.000000\n",
       "50%     12.000000             6.000000\n",
       "75%     38.000000            10.000000\n",
       "max     86.000000            20.000000"
      ]
     },
     "execution_count": 45,
     "metadata": {},
     "output_type": "execute_result"
    }
   ],
   "source": [
    "df.describe()"
   ]
  },
  {
   "cell_type": "markdown",
   "id": "bc331988",
   "metadata": {},
   "source": [
    "## Checking for Special Characters like symbols -,?,#,*,etc."
   ]
  },
  {
   "cell_type": "code",
   "execution_count": 46,
   "id": "0742f67f",
   "metadata": {},
   "outputs": [
    {
     "name": "stdout",
     "output_type": "stream",
     "text": [
      "Team : ['Team 1' 'Team 2' 'Team 3' 'Team 4' 'Team 5' 'Team 6' 'Team 7' 'Team 8'\n",
      " 'Team 9' 'Team 10' 'Team 11' 'Team 12' 'Team 13' 'Team 14' 'Team 15'\n",
      " 'Team 16' 'Team 17' 'Team 18' 'Team 19' 'Team 20' 'Team 21' 'Team 22'\n",
      " 'Team 23' 'Team 24' 'Team 25' 'Team 26' 'Team 27' 'Team 28' 'Team 29'\n",
      " 'Team 30' 'Team 31' 'Team 32' 'Team 33' 'Team 34' 'Team 35' 'Team 36'\n",
      " 'Team 37' 'Team 38' 'Team 39' 'Team 40' 'Team 41' 'Team 42' 'Team 43'\n",
      " 'Team 44' 'Team 45' 'Team 46' 'Team 47' 'Team 48' 'Team 49' 'Team 50'\n",
      " 'Team 51' 'Team 52' 'Team 53' 'Team 54' 'Team 55' 'Team 56' 'Team 57'\n",
      " 'Team 58' 'Team 59' 'Team 60' 'Team 61']\n",
      "Tournament : [86 80 82 73 70 58 51 45 42 44 43 37 36 38 27 33 17 23 21 12 20 13 18 11\n",
      " 14  9  7  6  4  5  3  2  1]\n",
      "Score : ['4385' '4262' '3442' '3386' '3368' '2819' '2792' '2573' '2109' '1884'\n",
      " '1814' '1789' '1471' '1416' '1389' '1351' '1314' '1174' '1148' '1020'\n",
      " '970' '667' '662' '606' '553' '538' '510' '445' '421' '416' '375' '353'\n",
      " '343' '293' '285' '277' '242' '230' '190' '188' '168' '150' '148' '132'\n",
      " '107' '96' '91' '83' '81' '76' '71' '56' '52' '42' '40' '35' '34' '22'\n",
      " '19' '14' '-']\n",
      "PlayedGames : ['2762' '2614' '2664' '2408' '2626' '2302' '1986' '1728' '1530' '1698'\n",
      " '1466' '1428' '1458' '1318' '1255' '1192' '988' '1096' '646' '742' '652'\n",
      " '678' '456' '628' '494' '586' '380' '402' '423' '426' '448' '346' '334'\n",
      " '270' '228' '282' '160' '186' '204' '180' '152' '114' '130' '116' '80'\n",
      " '108' '90' '72' '68' '54' '38' '30' '-']\n",
      "WonGames : ['1647' '1581' '1241' '1187' '1209' '990' '948' '864' '698' '606' '563'\n",
      " '586' '463' '453' '471' '426' '390' '408' '333' '367' '266' '218' '189'\n",
      " '203' '147' '184' '155' '145' '125' '113' '123' '129' '104' '96' '103'\n",
      " '76' '62' '82' '52' '50' '59' '53' '37' '35' '43' '26' '34' '20' '19'\n",
      " '30' '29' '21' '17' '18' '13' '8' '7' '5' '-']\n",
      "DrawnGames : ['552' '573' '598' '616' '633' '531' '608' '577' '522' '440' '392' '389'\n",
      " '384' '336' '358' '327' '330' '292' '256' '242' '172' '175' '148' '180'\n",
      " '112' '149' '128' '143' '81' '95' '102' '127' '92' '79' '76' '56' '63'\n",
      " '45' '46' '50' '44' '37' '27' '21' '16' '23' '24' '13' '14' '18' '6' '11'\n",
      " '10' '8' '5' '4' '-']\n",
      "LostGames : ['563' '608' '775' '861' '920' '887' '1070' '766' '682' '575' '723' '619'\n",
      " '639' '629' '565' '535' '492' '399' '487' '208' '349' '305' '295' '197'\n",
      " '211' '298' '174' '194' '198' '202' '217' '158' '152' '118' '110' '137'\n",
      " '63' '90' '95' '83' '78' '52' '66' '44' '37' '62' '48' '33' '30' '41'\n",
      " '19' '20' '15' '18' '21' '-']\n",
      "BasketScored : ['5947' '5900' '4534' '4398' '4631' '3680' '3609' '3228' '2683' '2159'\n",
      " '2052' '2278' '1767' '1843' '1753' '1500' '1421' '1642' '1182' '1347'\n",
      " '892' '819' '760' '750' '520' '716' '619' '607' '458' '430' '422' '492'\n",
      " '393' '291' '419' '320' '244' '285' '199' '202' '216' '165' '155' '139'\n",
      " '227' '101' '181' '62' '70' '145' '121' '153' '71' '97' '36' '38' '37'\n",
      " '51' '34' '-']\n",
      "BasketGiven : ['3140' '3114' '3309' '3469' '3700' '3373' '3889' '3230' '2847' '2492'\n",
      " '2188' '2624' '2180' '2368' '2152' '1834' '1763' '1951' '1371' '1746'\n",
      " '789' '1157' '1088' '1022' '633' '1050' '744' '992' '623' '632' '581'\n",
      " '720' '662' '489' '588' '410' '366' '430' '241' '296' '310' '221' '253'\n",
      " '167' '308' '139' '295' '117' '115' '252' '183' '184' '116' '131' '182'\n",
      " '55' '66' '57' '85' '65' '-']\n",
      "TournamentChampion : ['33' '25' '10' '6' '8' '1' '-' '2']\n",
      "Runnerup : ['23' '25' '8' '6' '7' '4' '-' '3' '1' '5']\n",
      "TeamLaunch : ['1929' '1931-32' '1934-35' '1939-40' '1932-33' '1941-42' '1948-49'\n",
      " '1944-45' '1935-36' '1949-50' '1933-34' '1960-61' '1951-52' '1998-99'\n",
      " '1977-78' '1959-60' '2004-05' '1961-62' '1940-41' '1930-31' '1963-64'\n",
      " '1974-75' '1943-44' '1987-88' '1991-92' '2007-08' '1962-63' '1994-95'\n",
      " '1978-79' '1971-72' '1999-00' '2014-15' '1990-91' '1947-48' '1996-97'\n",
      " '1995-96' '1945-46' '1953-54' '1979-80' '1950-51' '2016-17' '2009-10'\n",
      " '1956-57' '1955-56' '2017-18']\n",
      "HighestPositionHeld : [ 1  3  2  4  6  8  5 11  7 12 10 17  9 19 14 16 20 15]\n"
     ]
    }
   ],
   "source": [
    "for col in df.columns:\n",
    "    print('{} : {}'.format(col,df[col].unique()))"
   ]
  },
  {
   "cell_type": "markdown",
   "id": "58c09a2a",
   "metadata": {},
   "source": [
    "## Check Duplicates in the DataFrame"
   ]
  },
  {
   "cell_type": "code",
   "execution_count": 47,
   "id": "9e7442da",
   "metadata": {},
   "outputs": [
    {
     "name": "stdout",
     "output_type": "stream",
     "text": [
      "Duplicate Rows :\n"
     ]
    },
    {
     "data": {
      "text/html": [
       "<div>\n",
       "<style scoped>\n",
       "    .dataframe tbody tr th:only-of-type {\n",
       "        vertical-align: middle;\n",
       "    }\n",
       "\n",
       "    .dataframe tbody tr th {\n",
       "        vertical-align: top;\n",
       "    }\n",
       "\n",
       "    .dataframe thead th {\n",
       "        text-align: right;\n",
       "    }\n",
       "</style>\n",
       "<table border=\"1\" class=\"dataframe\">\n",
       "  <thead>\n",
       "    <tr style=\"text-align: right;\">\n",
       "      <th></th>\n",
       "      <th>Team</th>\n",
       "      <th>Tournament</th>\n",
       "      <th>Score</th>\n",
       "      <th>PlayedGames</th>\n",
       "      <th>WonGames</th>\n",
       "      <th>DrawnGames</th>\n",
       "      <th>LostGames</th>\n",
       "      <th>BasketScored</th>\n",
       "      <th>BasketGiven</th>\n",
       "      <th>TournamentChampion</th>\n",
       "      <th>Runnerup</th>\n",
       "      <th>TeamLaunch</th>\n",
       "      <th>HighestPositionHeld</th>\n",
       "    </tr>\n",
       "  </thead>\n",
       "  <tbody>\n",
       "  </tbody>\n",
       "</table>\n",
       "</div>"
      ],
      "text/plain": [
       "Empty DataFrame\n",
       "Columns: [Team, Tournament, Score, PlayedGames, WonGames, DrawnGames, LostGames, BasketScored, BasketGiven, TournamentChampion, Runnerup, TeamLaunch, HighestPositionHeld]\n",
       "Index: []"
      ]
     },
     "execution_count": 47,
     "metadata": {},
     "output_type": "execute_result"
    }
   ],
   "source": [
    "duplicate = df[df.duplicated()]\n",
    " \n",
    "print(\"Duplicate Rows :\")\n",
    "\n",
    "duplicate"
   ]
  },
  {
   "cell_type": "markdown",
   "id": "ee46a385",
   "metadata": {},
   "source": [
    "There are no Duplicate Values in the Dataframe."
   ]
  },
  {
   "cell_type": "markdown",
   "id": "6a86de60",
   "metadata": {},
   "source": [
    "# Converting Columns 2 to 11 into flat type to perform EDA"
   ]
  },
  {
   "cell_type": "code",
   "execution_count": 48,
   "id": "1b0084e5",
   "metadata": {},
   "outputs": [
    {
     "data": {
      "text/plain": [
       "Index(['Team', 'Tournament', 'Score', 'PlayedGames', 'WonGames', 'DrawnGames',\n",
       "       'LostGames', 'BasketScored', 'BasketGiven', 'TournamentChampion',\n",
       "       'Runnerup', 'TeamLaunch', 'HighestPositionHeld'],\n",
       "      dtype='object')"
      ]
     },
     "execution_count": 48,
     "metadata": {},
     "output_type": "execute_result"
    }
   ],
   "source": [
    "df.columns"
   ]
  },
  {
   "cell_type": "code",
   "execution_count": 49,
   "id": "fef81c82",
   "metadata": {},
   "outputs": [],
   "source": [
    "cols=['Tournament', 'Score', 'PlayedGames', 'WonGames', 'DrawnGames',\n",
    "       'LostGames', 'BasketScored', 'BasketGiven', 'TournamentChampion',\n",
    "       'Runnerup']"
   ]
  },
  {
   "cell_type": "code",
   "execution_count": 50,
   "id": "0d163f0d",
   "metadata": {},
   "outputs": [],
   "source": [
    "df[cols] = df[cols].apply(pd.to_numeric, errors='coerce', axis=1)"
   ]
  },
  {
   "cell_type": "code",
   "execution_count": 51,
   "id": "b9924856",
   "metadata": {},
   "outputs": [
    {
     "name": "stdout",
     "output_type": "stream",
     "text": [
      "<class 'pandas.core.frame.DataFrame'>\n",
      "RangeIndex: 61 entries, 0 to 60\n",
      "Data columns (total 13 columns):\n",
      " #   Column               Non-Null Count  Dtype  \n",
      "---  ------               --------------  -----  \n",
      " 0   Team                 61 non-null     object \n",
      " 1   Tournament           61 non-null     float64\n",
      " 2   Score                60 non-null     float64\n",
      " 3   PlayedGames          60 non-null     float64\n",
      " 4   WonGames             60 non-null     float64\n",
      " 5   DrawnGames           60 non-null     float64\n",
      " 6   LostGames            60 non-null     float64\n",
      " 7   BasketScored         60 non-null     float64\n",
      " 8   BasketGiven          60 non-null     float64\n",
      " 9   TournamentChampion   9 non-null      float64\n",
      " 10  Runnerup             13 non-null     float64\n",
      " 11  TeamLaunch           61 non-null     object \n",
      " 12  HighestPositionHeld  61 non-null     int64  \n",
      "dtypes: float64(10), int64(1), object(2)\n",
      "memory usage: 6.3+ KB\n"
     ]
    }
   ],
   "source": [
    "df.info()"
   ]
  },
  {
   "cell_type": "markdown",
   "id": "64293c90",
   "metadata": {},
   "source": [
    "## Replacing the NaN Values with 0"
   ]
  },
  {
   "cell_type": "code",
   "execution_count": 52,
   "id": "b7de4467",
   "metadata": {},
   "outputs": [],
   "source": [
    "df.replace(np.nan, 0, inplace=True)"
   ]
  },
  {
   "cell_type": "markdown",
   "id": "9f7f5844",
   "metadata": {},
   "source": [
    "## For the column Team Launch, let's take the first year as year of origin "
   ]
  },
  {
   "cell_type": "code",
   "execution_count": 53,
   "id": "67d23d8a",
   "metadata": {},
   "outputs": [],
   "source": [
    "df['TeamLaunch']= df['TeamLaunch'].apply(lambda x: x[0:4])"
   ]
  },
  {
   "cell_type": "code",
   "execution_count": 54,
   "id": "ed02ad61",
   "metadata": {},
   "outputs": [
    {
     "data": {
      "text/html": [
       "<div>\n",
       "<style scoped>\n",
       "    .dataframe tbody tr th:only-of-type {\n",
       "        vertical-align: middle;\n",
       "    }\n",
       "\n",
       "    .dataframe tbody tr th {\n",
       "        vertical-align: top;\n",
       "    }\n",
       "\n",
       "    .dataframe thead th {\n",
       "        text-align: right;\n",
       "    }\n",
       "</style>\n",
       "<table border=\"1\" class=\"dataframe\">\n",
       "  <thead>\n",
       "    <tr style=\"text-align: right;\">\n",
       "      <th></th>\n",
       "      <th>Tournament</th>\n",
       "      <th>Score</th>\n",
       "      <th>PlayedGames</th>\n",
       "      <th>WonGames</th>\n",
       "      <th>DrawnGames</th>\n",
       "      <th>LostGames</th>\n",
       "      <th>BasketScored</th>\n",
       "      <th>BasketGiven</th>\n",
       "      <th>TournamentChampion</th>\n",
       "      <th>Runnerup</th>\n",
       "      <th>HighestPositionHeld</th>\n",
       "    </tr>\n",
       "  </thead>\n",
       "  <tbody>\n",
       "    <tr>\n",
       "      <th>count</th>\n",
       "      <td>61.000000</td>\n",
       "      <td>61.000000</td>\n",
       "      <td>61.000000</td>\n",
       "      <td>61.000000</td>\n",
       "      <td>61.000000</td>\n",
       "      <td>61.000000</td>\n",
       "      <td>61.000000</td>\n",
       "      <td>61.000000</td>\n",
       "      <td>61.000000</td>\n",
       "      <td>61.000000</td>\n",
       "      <td>61.000000</td>\n",
       "    </tr>\n",
       "    <tr>\n",
       "      <th>mean</th>\n",
       "      <td>24.000000</td>\n",
       "      <td>901.426230</td>\n",
       "      <td>796.819672</td>\n",
       "      <td>303.967213</td>\n",
       "      <td>188.934426</td>\n",
       "      <td>303.754098</td>\n",
       "      <td>1140.344262</td>\n",
       "      <td>1140.229508</td>\n",
       "      <td>1.426230</td>\n",
       "      <td>1.409836</td>\n",
       "      <td>7.081967</td>\n",
       "    </tr>\n",
       "    <tr>\n",
       "      <th>std</th>\n",
       "      <td>26.827225</td>\n",
       "      <td>1134.899121</td>\n",
       "      <td>876.282765</td>\n",
       "      <td>406.991030</td>\n",
       "      <td>201.799477</td>\n",
       "      <td>294.708594</td>\n",
       "      <td>1506.740211</td>\n",
       "      <td>1163.710766</td>\n",
       "      <td>5.472535</td>\n",
       "      <td>4.540107</td>\n",
       "      <td>5.276663</td>\n",
       "    </tr>\n",
       "    <tr>\n",
       "      <th>min</th>\n",
       "      <td>1.000000</td>\n",
       "      <td>0.000000</td>\n",
       "      <td>0.000000</td>\n",
       "      <td>0.000000</td>\n",
       "      <td>0.000000</td>\n",
       "      <td>0.000000</td>\n",
       "      <td>0.000000</td>\n",
       "      <td>0.000000</td>\n",
       "      <td>0.000000</td>\n",
       "      <td>0.000000</td>\n",
       "      <td>1.000000</td>\n",
       "    </tr>\n",
       "    <tr>\n",
       "      <th>25%</th>\n",
       "      <td>4.000000</td>\n",
       "      <td>96.000000</td>\n",
       "      <td>114.000000</td>\n",
       "      <td>34.000000</td>\n",
       "      <td>24.000000</td>\n",
       "      <td>62.000000</td>\n",
       "      <td>153.000000</td>\n",
       "      <td>221.000000</td>\n",
       "      <td>0.000000</td>\n",
       "      <td>0.000000</td>\n",
       "      <td>3.000000</td>\n",
       "    </tr>\n",
       "    <tr>\n",
       "      <th>50%</th>\n",
       "      <td>12.000000</td>\n",
       "      <td>375.000000</td>\n",
       "      <td>423.000000</td>\n",
       "      <td>123.000000</td>\n",
       "      <td>95.000000</td>\n",
       "      <td>197.000000</td>\n",
       "      <td>430.000000</td>\n",
       "      <td>632.000000</td>\n",
       "      <td>0.000000</td>\n",
       "      <td>0.000000</td>\n",
       "      <td>6.000000</td>\n",
       "    </tr>\n",
       "    <tr>\n",
       "      <th>75%</th>\n",
       "      <td>38.000000</td>\n",
       "      <td>1351.000000</td>\n",
       "      <td>1318.000000</td>\n",
       "      <td>426.000000</td>\n",
       "      <td>330.000000</td>\n",
       "      <td>563.000000</td>\n",
       "      <td>1642.000000</td>\n",
       "      <td>1951.000000</td>\n",
       "      <td>0.000000</td>\n",
       "      <td>0.000000</td>\n",
       "      <td>10.000000</td>\n",
       "    </tr>\n",
       "    <tr>\n",
       "      <th>max</th>\n",
       "      <td>86.000000</td>\n",
       "      <td>4385.000000</td>\n",
       "      <td>2762.000000</td>\n",
       "      <td>1647.000000</td>\n",
       "      <td>633.000000</td>\n",
       "      <td>1070.000000</td>\n",
       "      <td>5947.000000</td>\n",
       "      <td>3889.000000</td>\n",
       "      <td>33.000000</td>\n",
       "      <td>25.000000</td>\n",
       "      <td>20.000000</td>\n",
       "    </tr>\n",
       "  </tbody>\n",
       "</table>\n",
       "</div>"
      ],
      "text/plain": [
       "       Tournament        Score  PlayedGames     WonGames  DrawnGames  \\\n",
       "count   61.000000    61.000000    61.000000    61.000000   61.000000   \n",
       "mean    24.000000   901.426230   796.819672   303.967213  188.934426   \n",
       "std     26.827225  1134.899121   876.282765   406.991030  201.799477   \n",
       "min      1.000000     0.000000     0.000000     0.000000    0.000000   \n",
       "25%      4.000000    96.000000   114.000000    34.000000   24.000000   \n",
       "50%     12.000000   375.000000   423.000000   123.000000   95.000000   \n",
       "75%     38.000000  1351.000000  1318.000000   426.000000  330.000000   \n",
       "max     86.000000  4385.000000  2762.000000  1647.000000  633.000000   \n",
       "\n",
       "         LostGames  BasketScored  BasketGiven  TournamentChampion   Runnerup  \\\n",
       "count    61.000000     61.000000    61.000000           61.000000  61.000000   \n",
       "mean    303.754098   1140.344262  1140.229508            1.426230   1.409836   \n",
       "std     294.708594   1506.740211  1163.710766            5.472535   4.540107   \n",
       "min       0.000000      0.000000     0.000000            0.000000   0.000000   \n",
       "25%      62.000000    153.000000   221.000000            0.000000   0.000000   \n",
       "50%     197.000000    430.000000   632.000000            0.000000   0.000000   \n",
       "75%     563.000000   1642.000000  1951.000000            0.000000   0.000000   \n",
       "max    1070.000000   5947.000000  3889.000000           33.000000  25.000000   \n",
       "\n",
       "       HighestPositionHeld  \n",
       "count            61.000000  \n",
       "mean              7.081967  \n",
       "std               5.276663  \n",
       "min               1.000000  \n",
       "25%               3.000000  \n",
       "50%               6.000000  \n",
       "75%              10.000000  \n",
       "max              20.000000  "
      ]
     },
     "execution_count": 54,
     "metadata": {},
     "output_type": "execute_result"
    }
   ],
   "source": [
    "df.describe()"
   ]
  },
  {
   "cell_type": "markdown",
   "id": "b066cab1",
   "metadata": {},
   "source": [
    "# 2. EDA ON THE DATASET"
   ]
  },
  {
   "cell_type": "markdown",
   "id": "adf3f063",
   "metadata": {},
   "source": [
    "## 1. Total avg matches played by each team is around 800 out of which, winning and losing percentange is almost equal."
   ]
  },
  {
   "cell_type": "code",
   "execution_count": 55,
   "id": "2cfaa6e3",
   "metadata": {},
   "outputs": [
    {
     "data": {
      "image/png": "[encoded data removed]",
      "text/plain": [
       "<Figure size 1080x576 with 1 Axes>"
      ]
     },
     "metadata": {
      "needs_background": "light"
     },
     "output_type": "display_data"
    }
   ],
   "source": [
    "plt.figure(figsize=(15,8))\n",
    "plt.hist(df['WonGames'])\n",
    "plt.xlabel('No of games won')\n",
    "plt.ylabel('No of teams')\n",
    "plt.show()"
   ]
  },
  {
   "cell_type": "markdown",
   "id": "2d3faabc",
   "metadata": {},
   "source": [
    "Inference - We can see that the winning column is left skewed and most of teams won 0-200 matches "
   ]
  },
  {
   "cell_type": "code",
   "execution_count": 56,
   "id": "bebc573d",
   "metadata": {},
   "outputs": [
    {
     "data": {
      "text/plain": [
       "<AxesSubplot:xlabel='WonGames'>"
      ]
     },
     "execution_count": 56,
     "metadata": {},
     "output_type": "execute_result"
    },
    {
     "data": {
      "image/png": "[encoded data removed]",
      "text/plain": [
       "<Figure size 864x576 with 1 Axes>"
      ]
     },
     "metadata": {
      "needs_background": "light"
     },
     "output_type": "display_data"
    }
   ],
   "source": [
    "plt.figure(figsize=(12,8))\n",
    "sns.boxplot(df['WonGames'])"
   ]
  },
  {
   "cell_type": "markdown",
   "id": "adaaccb7",
   "metadata": {},
   "source": [
    "## We have to find the best performing teams so now we will be focusing on individual rows instead of finding patterns in the whole dataset"
   ]
  },
  {
   "cell_type": "code",
   "execution_count": 57,
   "id": "3e2231ce",
   "metadata": {},
   "outputs": [
    {
     "data": {
      "text/html": [
       "<div>\n",
       "<style scoped>\n",
       "    .dataframe tbody tr th:only-of-type {\n",
       "        vertical-align: middle;\n",
       "    }\n",
       "\n",
       "    .dataframe tbody tr th {\n",
       "        vertical-align: top;\n",
       "    }\n",
       "\n",
       "    .dataframe thead th {\n",
       "        text-align: right;\n",
       "    }\n",
       "</style>\n",
       "<table border=\"1\" class=\"dataframe\">\n",
       "  <thead>\n",
       "    <tr style=\"text-align: right;\">\n",
       "      <th></th>\n",
       "      <th>Team</th>\n",
       "      <th>Tournament</th>\n",
       "      <th>Score</th>\n",
       "      <th>PlayedGames</th>\n",
       "      <th>WonGames</th>\n",
       "      <th>DrawnGames</th>\n",
       "      <th>LostGames</th>\n",
       "      <th>BasketScored</th>\n",
       "      <th>BasketGiven</th>\n",
       "      <th>TournamentChampion</th>\n",
       "      <th>Runnerup</th>\n",
       "      <th>TeamLaunch</th>\n",
       "      <th>HighestPositionHeld</th>\n",
       "    </tr>\n",
       "  </thead>\n",
       "  <tbody>\n",
       "    <tr>\n",
       "      <th>0</th>\n",
       "      <td>Team 1</td>\n",
       "      <td>86.0</td>\n",
       "      <td>4385.0</td>\n",
       "      <td>2762.0</td>\n",
       "      <td>1647.0</td>\n",
       "      <td>552.0</td>\n",
       "      <td>563.0</td>\n",
       "      <td>5947.0</td>\n",
       "      <td>3140.0</td>\n",
       "      <td>33.0</td>\n",
       "      <td>23.0</td>\n",
       "      <td>1929</td>\n",
       "      <td>1</td>\n",
       "    </tr>\n",
       "    <tr>\n",
       "      <th>1</th>\n",
       "      <td>Team 2</td>\n",
       "      <td>86.0</td>\n",
       "      <td>4262.0</td>\n",
       "      <td>2762.0</td>\n",
       "      <td>1581.0</td>\n",
       "      <td>573.0</td>\n",
       "      <td>608.0</td>\n",
       "      <td>5900.0</td>\n",
       "      <td>3114.0</td>\n",
       "      <td>25.0</td>\n",
       "      <td>25.0</td>\n",
       "      <td>1929</td>\n",
       "      <td>1</td>\n",
       "    </tr>\n",
       "    <tr>\n",
       "      <th>2</th>\n",
       "      <td>Team 3</td>\n",
       "      <td>80.0</td>\n",
       "      <td>3442.0</td>\n",
       "      <td>2614.0</td>\n",
       "      <td>1241.0</td>\n",
       "      <td>598.0</td>\n",
       "      <td>775.0</td>\n",
       "      <td>4534.0</td>\n",
       "      <td>3309.0</td>\n",
       "      <td>10.0</td>\n",
       "      <td>8.0</td>\n",
       "      <td>1929</td>\n",
       "      <td>1</td>\n",
       "    </tr>\n",
       "    <tr>\n",
       "      <th>4</th>\n",
       "      <td>Team 5</td>\n",
       "      <td>86.0</td>\n",
       "      <td>3368.0</td>\n",
       "      <td>2762.0</td>\n",
       "      <td>1209.0</td>\n",
       "      <td>633.0</td>\n",
       "      <td>920.0</td>\n",
       "      <td>4631.0</td>\n",
       "      <td>3700.0</td>\n",
       "      <td>8.0</td>\n",
       "      <td>7.0</td>\n",
       "      <td>1929</td>\n",
       "      <td>1</td>\n",
       "    </tr>\n",
       "    <tr>\n",
       "      <th>3</th>\n",
       "      <td>Team 4</td>\n",
       "      <td>82.0</td>\n",
       "      <td>3386.0</td>\n",
       "      <td>2664.0</td>\n",
       "      <td>1187.0</td>\n",
       "      <td>616.0</td>\n",
       "      <td>861.0</td>\n",
       "      <td>4398.0</td>\n",
       "      <td>3469.0</td>\n",
       "      <td>6.0</td>\n",
       "      <td>6.0</td>\n",
       "      <td>1931</td>\n",
       "      <td>1</td>\n",
       "    </tr>\n",
       "    <tr>\n",
       "      <th>5</th>\n",
       "      <td>Team 6</td>\n",
       "      <td>73.0</td>\n",
       "      <td>2819.0</td>\n",
       "      <td>2408.0</td>\n",
       "      <td>990.0</td>\n",
       "      <td>531.0</td>\n",
       "      <td>887.0</td>\n",
       "      <td>3680.0</td>\n",
       "      <td>3373.0</td>\n",
       "      <td>1.0</td>\n",
       "      <td>4.0</td>\n",
       "      <td>1934</td>\n",
       "      <td>1</td>\n",
       "    </tr>\n",
       "    <tr>\n",
       "      <th>6</th>\n",
       "      <td>Team 7</td>\n",
       "      <td>82.0</td>\n",
       "      <td>2792.0</td>\n",
       "      <td>2626.0</td>\n",
       "      <td>948.0</td>\n",
       "      <td>608.0</td>\n",
       "      <td>1070.0</td>\n",
       "      <td>3609.0</td>\n",
       "      <td>3889.0</td>\n",
       "      <td>0.0</td>\n",
       "      <td>0.0</td>\n",
       "      <td>1929</td>\n",
       "      <td>3</td>\n",
       "    </tr>\n",
       "    <tr>\n",
       "      <th>7</th>\n",
       "      <td>Team 8</td>\n",
       "      <td>70.0</td>\n",
       "      <td>2573.0</td>\n",
       "      <td>2302.0</td>\n",
       "      <td>864.0</td>\n",
       "      <td>577.0</td>\n",
       "      <td>861.0</td>\n",
       "      <td>3228.0</td>\n",
       "      <td>3230.0</td>\n",
       "      <td>2.0</td>\n",
       "      <td>3.0</td>\n",
       "      <td>1929</td>\n",
       "      <td>1</td>\n",
       "    </tr>\n",
       "    <tr>\n",
       "      <th>8</th>\n",
       "      <td>Team 9</td>\n",
       "      <td>58.0</td>\n",
       "      <td>2109.0</td>\n",
       "      <td>1986.0</td>\n",
       "      <td>698.0</td>\n",
       "      <td>522.0</td>\n",
       "      <td>766.0</td>\n",
       "      <td>2683.0</td>\n",
       "      <td>2847.0</td>\n",
       "      <td>0.0</td>\n",
       "      <td>1.0</td>\n",
       "      <td>1939</td>\n",
       "      <td>2</td>\n",
       "    </tr>\n",
       "    <tr>\n",
       "      <th>9</th>\n",
       "      <td>Team 10</td>\n",
       "      <td>51.0</td>\n",
       "      <td>1884.0</td>\n",
       "      <td>1728.0</td>\n",
       "      <td>606.0</td>\n",
       "      <td>440.0</td>\n",
       "      <td>682.0</td>\n",
       "      <td>2159.0</td>\n",
       "      <td>2492.0</td>\n",
       "      <td>1.0</td>\n",
       "      <td>0.0</td>\n",
       "      <td>1932</td>\n",
       "      <td>1</td>\n",
       "    </tr>\n",
       "    <tr>\n",
       "      <th>11</th>\n",
       "      <td>Team 12</td>\n",
       "      <td>51.0</td>\n",
       "      <td>1789.0</td>\n",
       "      <td>1698.0</td>\n",
       "      <td>586.0</td>\n",
       "      <td>389.0</td>\n",
       "      <td>723.0</td>\n",
       "      <td>2278.0</td>\n",
       "      <td>2624.0</td>\n",
       "      <td>0.0</td>\n",
       "      <td>0.0</td>\n",
       "      <td>1939</td>\n",
       "      <td>4</td>\n",
       "    </tr>\n",
       "    <tr>\n",
       "      <th>10</th>\n",
       "      <td>Team 11</td>\n",
       "      <td>45.0</td>\n",
       "      <td>1814.0</td>\n",
       "      <td>1530.0</td>\n",
       "      <td>563.0</td>\n",
       "      <td>392.0</td>\n",
       "      <td>575.0</td>\n",
       "      <td>2052.0</td>\n",
       "      <td>2188.0</td>\n",
       "      <td>1.0</td>\n",
       "      <td>5.0</td>\n",
       "      <td>1941</td>\n",
       "      <td>1</td>\n",
       "    </tr>\n",
       "    <tr>\n",
       "      <th>14</th>\n",
       "      <td>Team 15</td>\n",
       "      <td>43.0</td>\n",
       "      <td>1389.0</td>\n",
       "      <td>1458.0</td>\n",
       "      <td>471.0</td>\n",
       "      <td>358.0</td>\n",
       "      <td>629.0</td>\n",
       "      <td>1753.0</td>\n",
       "      <td>2152.0</td>\n",
       "      <td>0.0</td>\n",
       "      <td>1.0</td>\n",
       "      <td>1944</td>\n",
       "      <td>2</td>\n",
       "    </tr>\n",
       "    <tr>\n",
       "      <th>12</th>\n",
       "      <td>Team 13</td>\n",
       "      <td>42.0</td>\n",
       "      <td>1471.0</td>\n",
       "      <td>1466.0</td>\n",
       "      <td>463.0</td>\n",
       "      <td>384.0</td>\n",
       "      <td>619.0</td>\n",
       "      <td>1767.0</td>\n",
       "      <td>2180.0</td>\n",
       "      <td>0.0</td>\n",
       "      <td>0.0</td>\n",
       "      <td>1948</td>\n",
       "      <td>4</td>\n",
       "    </tr>\n",
       "    <tr>\n",
       "      <th>13</th>\n",
       "      <td>Team 14</td>\n",
       "      <td>44.0</td>\n",
       "      <td>1416.0</td>\n",
       "      <td>1428.0</td>\n",
       "      <td>453.0</td>\n",
       "      <td>336.0</td>\n",
       "      <td>639.0</td>\n",
       "      <td>1843.0</td>\n",
       "      <td>2368.0</td>\n",
       "      <td>0.0</td>\n",
       "      <td>1.0</td>\n",
       "      <td>1929</td>\n",
       "      <td>2</td>\n",
       "    </tr>\n",
       "    <tr>\n",
       "      <th>15</th>\n",
       "      <td>Team 16</td>\n",
       "      <td>37.0</td>\n",
       "      <td>1351.0</td>\n",
       "      <td>1318.0</td>\n",
       "      <td>426.0</td>\n",
       "      <td>327.0</td>\n",
       "      <td>565.0</td>\n",
       "      <td>1500.0</td>\n",
       "      <td>1834.0</td>\n",
       "      <td>0.0</td>\n",
       "      <td>0.0</td>\n",
       "      <td>1935</td>\n",
       "      <td>4</td>\n",
       "    </tr>\n",
       "    <tr>\n",
       "      <th>17</th>\n",
       "      <td>Team 18</td>\n",
       "      <td>38.0</td>\n",
       "      <td>1174.0</td>\n",
       "      <td>1192.0</td>\n",
       "      <td>408.0</td>\n",
       "      <td>292.0</td>\n",
       "      <td>492.0</td>\n",
       "      <td>1642.0</td>\n",
       "      <td>1951.0</td>\n",
       "      <td>0.0</td>\n",
       "      <td>0.0</td>\n",
       "      <td>1933</td>\n",
       "      <td>3</td>\n",
       "    </tr>\n",
       "    <tr>\n",
       "      <th>16</th>\n",
       "      <td>Team 17</td>\n",
       "      <td>36.0</td>\n",
       "      <td>1314.0</td>\n",
       "      <td>1255.0</td>\n",
       "      <td>390.0</td>\n",
       "      <td>330.0</td>\n",
       "      <td>535.0</td>\n",
       "      <td>1421.0</td>\n",
       "      <td>1763.0</td>\n",
       "      <td>0.0</td>\n",
       "      <td>0.0</td>\n",
       "      <td>1949</td>\n",
       "      <td>4</td>\n",
       "    </tr>\n",
       "    <tr>\n",
       "      <th>19</th>\n",
       "      <td>Team 20</td>\n",
       "      <td>33.0</td>\n",
       "      <td>1020.0</td>\n",
       "      <td>1096.0</td>\n",
       "      <td>367.0</td>\n",
       "      <td>242.0</td>\n",
       "      <td>487.0</td>\n",
       "      <td>1347.0</td>\n",
       "      <td>1746.0</td>\n",
       "      <td>0.0</td>\n",
       "      <td>1.0</td>\n",
       "      <td>1951</td>\n",
       "      <td>2</td>\n",
       "    </tr>\n",
       "    <tr>\n",
       "      <th>18</th>\n",
       "      <td>Team 19</td>\n",
       "      <td>27.0</td>\n",
       "      <td>1148.0</td>\n",
       "      <td>988.0</td>\n",
       "      <td>333.0</td>\n",
       "      <td>256.0</td>\n",
       "      <td>399.0</td>\n",
       "      <td>1182.0</td>\n",
       "      <td>1371.0</td>\n",
       "      <td>0.0</td>\n",
       "      <td>0.0</td>\n",
       "      <td>1960</td>\n",
       "      <td>3</td>\n",
       "    </tr>\n",
       "  </tbody>\n",
       "</table>\n",
       "</div>"
      ],
      "text/plain": [
       "       Team  Tournament   Score  PlayedGames  WonGames  DrawnGames  LostGames  \\\n",
       "0    Team 1        86.0  4385.0       2762.0    1647.0       552.0      563.0   \n",
       "1    Team 2        86.0  4262.0       2762.0    1581.0       573.0      608.0   \n",
       "2    Team 3        80.0  3442.0       2614.0    1241.0       598.0      775.0   \n",
       "4    Team 5        86.0  3368.0       2762.0    1209.0       633.0      920.0   \n",
       "3    Team 4        82.0  3386.0       2664.0    1187.0       616.0      861.0   \n",
       "5    Team 6        73.0  2819.0       2408.0     990.0       531.0      887.0   \n",
       "6    Team 7        82.0  2792.0       2626.0     948.0       608.0     1070.0   \n",
       "7    Team 8        70.0  2573.0       2302.0     864.0       577.0      861.0   \n",
       "8    Team 9        58.0  2109.0       1986.0     698.0       522.0      766.0   \n",
       "9   Team 10        51.0  1884.0       1728.0     606.0       440.0      682.0   \n",
       "11  Team 12        51.0  1789.0       1698.0     586.0       389.0      723.0   \n",
       "10  Team 11        45.0  1814.0       1530.0     563.0       392.0      575.0   \n",
       "14  Team 15        43.0  1389.0       1458.0     471.0       358.0      629.0   \n",
       "12  Team 13        42.0  1471.0       1466.0     463.0       384.0      619.0   \n",
       "13  Team 14        44.0  1416.0       1428.0     453.0       336.0      639.0   \n",
       "15  Team 16        37.0  1351.0       1318.0     426.0       327.0      565.0   \n",
       "17  Team 18        38.0  1174.0       1192.0     408.0       292.0      492.0   \n",
       "16  Team 17        36.0  1314.0       1255.0     390.0       330.0      535.0   \n",
       "19  Team 20        33.0  1020.0       1096.0     367.0       242.0      487.0   \n",
       "18  Team 19        27.0  1148.0        988.0     333.0       256.0      399.0   \n",
       "\n",
       "    BasketScored  BasketGiven  TournamentChampion  Runnerup TeamLaunch  \\\n",
       "0         5947.0       3140.0                33.0      23.0       1929   \n",
       "1         5900.0       3114.0                25.0      25.0       1929   \n",
       "2         4534.0       3309.0                10.0       8.0       1929   \n",
       "4         4631.0       3700.0                 8.0       7.0       1929   \n",
       "3         4398.0       3469.0                 6.0       6.0       1931   \n",
       "5         3680.0       3373.0                 1.0       4.0       1934   \n",
       "6         3609.0       3889.0                 0.0       0.0       1929   \n",
       "7         3228.0       3230.0                 2.0       3.0       1929   \n",
       "8         2683.0       2847.0                 0.0       1.0       1939   \n",
       "9         2159.0       2492.0                 1.0       0.0       1932   \n",
       "11        2278.0       2624.0                 0.0       0.0       1939   \n",
       "10        2052.0       2188.0                 1.0       5.0       1941   \n",
       "14        1753.0       2152.0                 0.0       1.0       1944   \n",
       "12        1767.0       2180.0                 0.0       0.0       1948   \n",
       "13        1843.0       2368.0                 0.0       1.0       1929   \n",
       "15        1500.0       1834.0                 0.0       0.0       1935   \n",
       "17        1642.0       1951.0                 0.0       0.0       1933   \n",
       "16        1421.0       1763.0                 0.0       0.0       1949   \n",
       "19        1347.0       1746.0                 0.0       1.0       1951   \n",
       "18        1182.0       1371.0                 0.0       0.0       1960   \n",
       "\n",
       "    HighestPositionHeld  \n",
       "0                     1  \n",
       "1                     1  \n",
       "2                     1  \n",
       "4                     1  \n",
       "3                     1  \n",
       "5                     1  \n",
       "6                     3  \n",
       "7                     1  \n",
       "8                     2  \n",
       "9                     1  \n",
       "11                    4  \n",
       "10                    1  \n",
       "14                    2  \n",
       "12                    4  \n",
       "13                    2  \n",
       "15                    4  \n",
       "17                    3  \n",
       "16                    4  \n",
       "19                    2  \n",
       "18                    3  "
      ]
     },
     "execution_count": 57,
     "metadata": {},
     "output_type": "execute_result"
    }
   ],
   "source": [
    "# Details of the top 20 winning teams, also the teams with highest score\n",
    "df_wongames = df.nlargest(20, ['WonGames'])\n",
    "df_wongames"
   ]
  },
  {
   "cell_type": "markdown",
   "id": "8eb2e22f",
   "metadata": {},
   "source": [
    "## TOP 20 TEAMS WITH HIGHEST SCORE AND MOST NUMBER OF MATCHES WON"
   ]
  },
  {
   "cell_type": "code",
   "execution_count": 58,
   "id": "7317fd77",
   "metadata": {},
   "outputs": [
    {
     "data": {
      "image/png": "[encoded data removed]",
      "text/plain": [
       "<Figure size 1008x576 with 1 Axes>"
      ]
     },
     "metadata": {
      "needs_background": "light"
     },
     "output_type": "display_data"
    }
   ],
   "source": [
    "plt.figure(figsize=(14,8))\n",
    "sns.barplot(y=df_wongames['Team'], x= df_wongames['WonGames'])\n",
    "plt.show()"
   ]
  },
  {
   "cell_type": "markdown",
   "id": "1868b101",
   "metadata": {},
   "source": [
    "## We will find if the teams with max number of matches won also has the max number of baskets scored"
   ]
  },
  {
   "cell_type": "code",
   "execution_count": 59,
   "id": "aaad581d",
   "metadata": {},
   "outputs": [
    {
     "data": {
      "image/png": "[encoded data removed]",
      "text/plain": [
       "<Figure size 864x576 with 1 Axes>"
      ]
     },
     "metadata": {
      "needs_background": "light"
     },
     "output_type": "display_data"
    }
   ],
   "source": [
    "plt.figure(figsize=(12,8))\n",
    "sns.lineplot('Team', 'WonGames', data=df_wongames.head(10), color='red')\n",
    "sns.lineplot('Team', 'BasketScored', data=df_wongames.head(10), color='green')\n",
    "sns.lineplot('Team', 'BasketGiven', data=df_wongames.head(10), color='orange')\n",
    "sns.lineplot('Team', 'Score', data=df_wongames.head(10), color='black')\n",
    "plt.grid()\n",
    "plt.xticks(rotation=90)\n",
    "plt.legend(labels=['games won', 'baskets scored', 'baskets given', 'score'])\n",
    "plt.show()"
   ]
  },
  {
   "cell_type": "markdown",
   "id": "6c55d5d1",
   "metadata": {},
   "source": [
    "Inference - \n",
    "- TEAM 1 has the highest score, max games won and baskets scored. \n",
    "- Baskets given increases as number of matches won decreases"
   ]
  },
  {
   "cell_type": "code",
   "execution_count": 60,
   "id": "dc9cef1d",
   "metadata": {},
   "outputs": [
    {
     "data": {
      "text/plain": [
       "<AxesSubplot:>"
      ]
     },
     "execution_count": 60,
     "metadata": {},
     "output_type": "execute_result"
    },
    {
     "data": {
      "image/png": "[encoded data removed]",
      "text/plain": [
       "<Figure size 864x576 with 2 Axes>"
      ]
     },
     "metadata": {
      "needs_background": "light"
     },
     "output_type": "display_data"
    }
   ],
   "source": [
    "plt.figure(figsize=(12,8))\n",
    "sns.heatmap(df_wongames.corr(), annot=True)"
   ]
  },
  {
   "cell_type": "markdown",
   "id": "7d645f6d",
   "metadata": {},
   "source": [
    "Inference - There is a very strong correlation between games won,baskets scored and the score."
   ]
  },
  {
   "cell_type": "markdown",
   "id": "b98a2c1c",
   "metadata": {},
   "source": [
    "## Teams who have been tournament champions for the max number of times"
   ]
  },
  {
   "cell_type": "code",
   "execution_count": 61,
   "id": "ed27d375",
   "metadata": {},
   "outputs": [
    {
     "data": {
      "text/html": [
       "<div>\n",
       "<style scoped>\n",
       "    .dataframe tbody tr th:only-of-type {\n",
       "        vertical-align: middle;\n",
       "    }\n",
       "\n",
       "    .dataframe tbody tr th {\n",
       "        vertical-align: top;\n",
       "    }\n",
       "\n",
       "    .dataframe thead th {\n",
       "        text-align: right;\n",
       "    }\n",
       "</style>\n",
       "<table border=\"1\" class=\"dataframe\">\n",
       "  <thead>\n",
       "    <tr style=\"text-align: right;\">\n",
       "      <th></th>\n",
       "      <th>Team</th>\n",
       "      <th>Tournament</th>\n",
       "      <th>Score</th>\n",
       "      <th>PlayedGames</th>\n",
       "      <th>WonGames</th>\n",
       "      <th>DrawnGames</th>\n",
       "      <th>LostGames</th>\n",
       "      <th>BasketScored</th>\n",
       "      <th>BasketGiven</th>\n",
       "      <th>TournamentChampion</th>\n",
       "      <th>Runnerup</th>\n",
       "      <th>TeamLaunch</th>\n",
       "      <th>HighestPositionHeld</th>\n",
       "    </tr>\n",
       "  </thead>\n",
       "  <tbody>\n",
       "    <tr>\n",
       "      <th>0</th>\n",
       "      <td>Team 1</td>\n",
       "      <td>86.0</td>\n",
       "      <td>4385.0</td>\n",
       "      <td>2762.0</td>\n",
       "      <td>1647.0</td>\n",
       "      <td>552.0</td>\n",
       "      <td>563.0</td>\n",
       "      <td>5947.0</td>\n",
       "      <td>3140.0</td>\n",
       "      <td>33.0</td>\n",
       "      <td>23.0</td>\n",
       "      <td>1929</td>\n",
       "      <td>1</td>\n",
       "    </tr>\n",
       "    <tr>\n",
       "      <th>1</th>\n",
       "      <td>Team 2</td>\n",
       "      <td>86.0</td>\n",
       "      <td>4262.0</td>\n",
       "      <td>2762.0</td>\n",
       "      <td>1581.0</td>\n",
       "      <td>573.0</td>\n",
       "      <td>608.0</td>\n",
       "      <td>5900.0</td>\n",
       "      <td>3114.0</td>\n",
       "      <td>25.0</td>\n",
       "      <td>25.0</td>\n",
       "      <td>1929</td>\n",
       "      <td>1</td>\n",
       "    </tr>\n",
       "    <tr>\n",
       "      <th>2</th>\n",
       "      <td>Team 3</td>\n",
       "      <td>80.0</td>\n",
       "      <td>3442.0</td>\n",
       "      <td>2614.0</td>\n",
       "      <td>1241.0</td>\n",
       "      <td>598.0</td>\n",
       "      <td>775.0</td>\n",
       "      <td>4534.0</td>\n",
       "      <td>3309.0</td>\n",
       "      <td>10.0</td>\n",
       "      <td>8.0</td>\n",
       "      <td>1929</td>\n",
       "      <td>1</td>\n",
       "    </tr>\n",
       "    <tr>\n",
       "      <th>4</th>\n",
       "      <td>Team 5</td>\n",
       "      <td>86.0</td>\n",
       "      <td>3368.0</td>\n",
       "      <td>2762.0</td>\n",
       "      <td>1209.0</td>\n",
       "      <td>633.0</td>\n",
       "      <td>920.0</td>\n",
       "      <td>4631.0</td>\n",
       "      <td>3700.0</td>\n",
       "      <td>8.0</td>\n",
       "      <td>7.0</td>\n",
       "      <td>1929</td>\n",
       "      <td>1</td>\n",
       "    </tr>\n",
       "    <tr>\n",
       "      <th>3</th>\n",
       "      <td>Team 4</td>\n",
       "      <td>82.0</td>\n",
       "      <td>3386.0</td>\n",
       "      <td>2664.0</td>\n",
       "      <td>1187.0</td>\n",
       "      <td>616.0</td>\n",
       "      <td>861.0</td>\n",
       "      <td>4398.0</td>\n",
       "      <td>3469.0</td>\n",
       "      <td>6.0</td>\n",
       "      <td>6.0</td>\n",
       "      <td>1931</td>\n",
       "      <td>1</td>\n",
       "    </tr>\n",
       "    <tr>\n",
       "      <th>7</th>\n",
       "      <td>Team 8</td>\n",
       "      <td>70.0</td>\n",
       "      <td>2573.0</td>\n",
       "      <td>2302.0</td>\n",
       "      <td>864.0</td>\n",
       "      <td>577.0</td>\n",
       "      <td>861.0</td>\n",
       "      <td>3228.0</td>\n",
       "      <td>3230.0</td>\n",
       "      <td>2.0</td>\n",
       "      <td>3.0</td>\n",
       "      <td>1929</td>\n",
       "      <td>1</td>\n",
       "    </tr>\n",
       "    <tr>\n",
       "      <th>5</th>\n",
       "      <td>Team 6</td>\n",
       "      <td>73.0</td>\n",
       "      <td>2819.0</td>\n",
       "      <td>2408.0</td>\n",
       "      <td>990.0</td>\n",
       "      <td>531.0</td>\n",
       "      <td>887.0</td>\n",
       "      <td>3680.0</td>\n",
       "      <td>3373.0</td>\n",
       "      <td>1.0</td>\n",
       "      <td>4.0</td>\n",
       "      <td>1934</td>\n",
       "      <td>1</td>\n",
       "    </tr>\n",
       "    <tr>\n",
       "      <th>9</th>\n",
       "      <td>Team 10</td>\n",
       "      <td>51.0</td>\n",
       "      <td>1884.0</td>\n",
       "      <td>1728.0</td>\n",
       "      <td>606.0</td>\n",
       "      <td>440.0</td>\n",
       "      <td>682.0</td>\n",
       "      <td>2159.0</td>\n",
       "      <td>2492.0</td>\n",
       "      <td>1.0</td>\n",
       "      <td>0.0</td>\n",
       "      <td>1932</td>\n",
       "      <td>1</td>\n",
       "    </tr>\n",
       "    <tr>\n",
       "      <th>10</th>\n",
       "      <td>Team 11</td>\n",
       "      <td>45.0</td>\n",
       "      <td>1814.0</td>\n",
       "      <td>1530.0</td>\n",
       "      <td>563.0</td>\n",
       "      <td>392.0</td>\n",
       "      <td>575.0</td>\n",
       "      <td>2052.0</td>\n",
       "      <td>2188.0</td>\n",
       "      <td>1.0</td>\n",
       "      <td>5.0</td>\n",
       "      <td>1941</td>\n",
       "      <td>1</td>\n",
       "    </tr>\n",
       "    <tr>\n",
       "      <th>6</th>\n",
       "      <td>Team 7</td>\n",
       "      <td>82.0</td>\n",
       "      <td>2792.0</td>\n",
       "      <td>2626.0</td>\n",
       "      <td>948.0</td>\n",
       "      <td>608.0</td>\n",
       "      <td>1070.0</td>\n",
       "      <td>3609.0</td>\n",
       "      <td>3889.0</td>\n",
       "      <td>0.0</td>\n",
       "      <td>0.0</td>\n",
       "      <td>1929</td>\n",
       "      <td>3</td>\n",
       "    </tr>\n",
       "  </tbody>\n",
       "</table>\n",
       "</div>"
      ],
      "text/plain": [
       "       Team  Tournament   Score  PlayedGames  WonGames  DrawnGames  LostGames  \\\n",
       "0    Team 1        86.0  4385.0       2762.0    1647.0       552.0      563.0   \n",
       "1    Team 2        86.0  4262.0       2762.0    1581.0       573.0      608.0   \n",
       "2    Team 3        80.0  3442.0       2614.0    1241.0       598.0      775.0   \n",
       "4    Team 5        86.0  3368.0       2762.0    1209.0       633.0      920.0   \n",
       "3    Team 4        82.0  3386.0       2664.0    1187.0       616.0      861.0   \n",
       "7    Team 8        70.0  2573.0       2302.0     864.0       577.0      861.0   \n",
       "5    Team 6        73.0  2819.0       2408.0     990.0       531.0      887.0   \n",
       "9   Team 10        51.0  1884.0       1728.0     606.0       440.0      682.0   \n",
       "10  Team 11        45.0  1814.0       1530.0     563.0       392.0      575.0   \n",
       "6    Team 7        82.0  2792.0       2626.0     948.0       608.0     1070.0   \n",
       "\n",
       "    BasketScored  BasketGiven  TournamentChampion  Runnerup TeamLaunch  \\\n",
       "0         5947.0       3140.0                33.0      23.0       1929   \n",
       "1         5900.0       3114.0                25.0      25.0       1929   \n",
       "2         4534.0       3309.0                10.0       8.0       1929   \n",
       "4         4631.0       3700.0                 8.0       7.0       1929   \n",
       "3         4398.0       3469.0                 6.0       6.0       1931   \n",
       "7         3228.0       3230.0                 2.0       3.0       1929   \n",
       "5         3680.0       3373.0                 1.0       4.0       1934   \n",
       "9         2159.0       2492.0                 1.0       0.0       1932   \n",
       "10        2052.0       2188.0                 1.0       5.0       1941   \n",
       "6         3609.0       3889.0                 0.0       0.0       1929   \n",
       "\n",
       "    HighestPositionHeld  \n",
       "0                     1  \n",
       "1                     1  \n",
       "2                     1  \n",
       "4                     1  \n",
       "3                     1  \n",
       "7                     1  \n",
       "5                     1  \n",
       "9                     1  \n",
       "10                    1  \n",
       "6                     3  "
      ]
     },
     "execution_count": 61,
     "metadata": {},
     "output_type": "execute_result"
    }
   ],
   "source": [
    "df.nlargest(10, 'TournamentChampion')"
   ]
  },
  {
   "cell_type": "code",
   "execution_count": 62,
   "id": "06359bbb",
   "metadata": {},
   "outputs": [
    {
     "data": {
      "text/plain": [
       "<AxesSubplot:xlabel='TeamLaunch', ylabel='Team'>"
      ]
     },
     "execution_count": 62,
     "metadata": {},
     "output_type": "execute_result"
    },
    {
     "data": {
      "image/png": "[encoded data removed]",
      "text/plain": [
       "<Figure size 864x576 with 1 Axes>"
      ]
     },
     "metadata": {
      "needs_background": "light"
     },
     "output_type": "display_data"
    }
   ],
   "source": [
    "plt.figure(figsize=(12,8))\n",
    "sns.scatterplot('TeamLaunch','Team', data=df_wongames)"
   ]
  },
  {
   "cell_type": "markdown",
   "id": "ec9ad1ec",
   "metadata": {},
   "source": [
    "We can see that most of the top winning teams were launched in 1929-60s."
   ]
  },
  {
   "cell_type": "code",
   "execution_count": 63,
   "id": "2018b0df",
   "metadata": {},
   "outputs": [
    {
     "data": {
      "text/html": [
       "<div>\n",
       "<style scoped>\n",
       "    .dataframe tbody tr th:only-of-type {\n",
       "        vertical-align: middle;\n",
       "    }\n",
       "\n",
       "    .dataframe tbody tr th {\n",
       "        vertical-align: top;\n",
       "    }\n",
       "\n",
       "    .dataframe thead th {\n",
       "        text-align: right;\n",
       "    }\n",
       "</style>\n",
       "<table border=\"1\" class=\"dataframe\">\n",
       "  <thead>\n",
       "    <tr style=\"text-align: right;\">\n",
       "      <th></th>\n",
       "      <th>Team</th>\n",
       "      <th>Tournament</th>\n",
       "      <th>Score</th>\n",
       "      <th>PlayedGames</th>\n",
       "      <th>WonGames</th>\n",
       "      <th>DrawnGames</th>\n",
       "      <th>LostGames</th>\n",
       "      <th>BasketScored</th>\n",
       "      <th>BasketGiven</th>\n",
       "      <th>TournamentChampion</th>\n",
       "      <th>Runnerup</th>\n",
       "      <th>TeamLaunch</th>\n",
       "      <th>HighestPositionHeld</th>\n",
       "    </tr>\n",
       "  </thead>\n",
       "  <tbody>\n",
       "    <tr>\n",
       "      <th>24</th>\n",
       "      <td>Team 25</td>\n",
       "      <td>12.0</td>\n",
       "      <td>553.0</td>\n",
       "      <td>456.0</td>\n",
       "      <td>147.0</td>\n",
       "      <td>112.0</td>\n",
       "      <td>197.0</td>\n",
       "      <td>520.0</td>\n",
       "      <td>633.0</td>\n",
       "      <td>0.0</td>\n",
       "      <td>0.0</td>\n",
       "      <td>2004</td>\n",
       "      <td>6</td>\n",
       "    </tr>\n",
       "    <tr>\n",
       "      <th>36</th>\n",
       "      <td>Team 37</td>\n",
       "      <td>6.0</td>\n",
       "      <td>242.0</td>\n",
       "      <td>228.0</td>\n",
       "      <td>62.0</td>\n",
       "      <td>56.0</td>\n",
       "      <td>110.0</td>\n",
       "      <td>244.0</td>\n",
       "      <td>366.0</td>\n",
       "      <td>0.0</td>\n",
       "      <td>0.0</td>\n",
       "      <td>2007</td>\n",
       "      <td>8</td>\n",
       "    </tr>\n",
       "    <tr>\n",
       "      <th>43</th>\n",
       "      <td>Team 44</td>\n",
       "      <td>3.0</td>\n",
       "      <td>132.0</td>\n",
       "      <td>114.0</td>\n",
       "      <td>35.0</td>\n",
       "      <td>27.0</td>\n",
       "      <td>52.0</td>\n",
       "      <td>139.0</td>\n",
       "      <td>167.0</td>\n",
       "      <td>0.0</td>\n",
       "      <td>0.0</td>\n",
       "      <td>2014</td>\n",
       "      <td>10</td>\n",
       "    </tr>\n",
       "    <tr>\n",
       "      <th>55</th>\n",
       "      <td>Team 56</td>\n",
       "      <td>1.0</td>\n",
       "      <td>35.0</td>\n",
       "      <td>38.0</td>\n",
       "      <td>8.0</td>\n",
       "      <td>11.0</td>\n",
       "      <td>19.0</td>\n",
       "      <td>36.0</td>\n",
       "      <td>55.0</td>\n",
       "      <td>0.0</td>\n",
       "      <td>0.0</td>\n",
       "      <td>2016</td>\n",
       "      <td>17</td>\n",
       "    </tr>\n",
       "    <tr>\n",
       "      <th>56</th>\n",
       "      <td>Team 57</td>\n",
       "      <td>1.0</td>\n",
       "      <td>34.0</td>\n",
       "      <td>38.0</td>\n",
       "      <td>8.0</td>\n",
       "      <td>10.0</td>\n",
       "      <td>20.0</td>\n",
       "      <td>38.0</td>\n",
       "      <td>66.0</td>\n",
       "      <td>0.0</td>\n",
       "      <td>0.0</td>\n",
       "      <td>2009</td>\n",
       "      <td>20</td>\n",
       "    </tr>\n",
       "    <tr>\n",
       "      <th>60</th>\n",
       "      <td>Team 61</td>\n",
       "      <td>1.0</td>\n",
       "      <td>0.0</td>\n",
       "      <td>0.0</td>\n",
       "      <td>0.0</td>\n",
       "      <td>0.0</td>\n",
       "      <td>0.0</td>\n",
       "      <td>0.0</td>\n",
       "      <td>0.0</td>\n",
       "      <td>0.0</td>\n",
       "      <td>0.0</td>\n",
       "      <td>2017</td>\n",
       "      <td>9</td>\n",
       "    </tr>\n",
       "  </tbody>\n",
       "</table>\n",
       "</div>"
      ],
      "text/plain": [
       "       Team  Tournament  Score  PlayedGames  WonGames  DrawnGames  LostGames  \\\n",
       "24  Team 25        12.0  553.0        456.0     147.0       112.0      197.0   \n",
       "36  Team 37         6.0  242.0        228.0      62.0        56.0      110.0   \n",
       "43  Team 44         3.0  132.0        114.0      35.0        27.0       52.0   \n",
       "55  Team 56         1.0   35.0         38.0       8.0        11.0       19.0   \n",
       "56  Team 57         1.0   34.0         38.0       8.0        10.0       20.0   \n",
       "60  Team 61         1.0    0.0          0.0       0.0         0.0        0.0   \n",
       "\n",
       "    BasketScored  BasketGiven  TournamentChampion  Runnerup TeamLaunch  \\\n",
       "24         520.0        633.0                 0.0       0.0       2004   \n",
       "36         244.0        366.0                 0.0       0.0       2007   \n",
       "43         139.0        167.0                 0.0       0.0       2014   \n",
       "55          36.0         55.0                 0.0       0.0       2016   \n",
       "56          38.0         66.0                 0.0       0.0       2009   \n",
       "60           0.0          0.0                 0.0       0.0       2017   \n",
       "\n",
       "    HighestPositionHeld  \n",
       "24                    6  \n",
       "36                    8  \n",
       "43                   10  \n",
       "55                   17  \n",
       "56                   20  \n",
       "60                    9  "
      ]
     },
     "execution_count": 63,
     "metadata": {},
     "output_type": "execute_result"
    }
   ],
   "source": [
    "df[df['TeamLaunch']>='2000']"
   ]
  },
  {
   "cell_type": "markdown",
   "id": "5614617b",
   "metadata": {},
   "source": [
    "We can see that only 6 teams were launched after 2000s and their performance is below average so we will be discarding these."
   ]
  },
  {
   "cell_type": "markdown",
   "id": "3e6b5e91",
   "metadata": {},
   "source": [
    "## We can add another column of probability of Winning and Losing a game of each team"
   ]
  },
  {
   "cell_type": "code",
   "execution_count": 64,
   "id": "80392535",
   "metadata": {},
   "outputs": [],
   "source": [
    "x=0\n",
    "df['Prob_Win']=0\n",
    "for x in range(61):\n",
    "     df['Prob_Win'].iloc[x]= df['WonGames'].iloc[x]/ df['PlayedGames'].iloc[x]"
   ]
  },
  {
   "cell_type": "code",
   "execution_count": 65,
   "id": "792992d1",
   "metadata": {},
   "outputs": [],
   "source": [
    "x=0\n",
    "df['Prob_Lose']= 0\n",
    "for x in range(61):\n",
    "     df['Prob_Lose'].iloc[x]= df['LostGames'].iloc[x]/ df['PlayedGames'].iloc[x]"
   ]
  },
  {
   "cell_type": "code",
   "execution_count": 66,
   "id": "9ddc34db",
   "metadata": {},
   "outputs": [
    {
     "data": {
      "text/plain": [
       "Index(['Team', 'Tournament', 'Score', 'PlayedGames', 'WonGames', 'DrawnGames',\n",
       "       'LostGames', 'BasketScored', 'BasketGiven', 'TournamentChampion',\n",
       "       'Runnerup', 'TeamLaunch', 'HighestPositionHeld', 'Prob_Win',\n",
       "       'Prob_Lose'],\n",
       "      dtype='object')"
      ]
     },
     "execution_count": 66,
     "metadata": {},
     "output_type": "execute_result"
    }
   ],
   "source": [
    "df.columns"
   ]
  },
  {
   "cell_type": "markdown",
   "id": "0f0557ca",
   "metadata": {},
   "source": [
    "## Rearranging the columns"
   ]
  },
  {
   "cell_type": "code",
   "execution_count": 67,
   "id": "6d80b61b",
   "metadata": {},
   "outputs": [],
   "source": [
    "df=df[['Team', 'Tournament', 'Score', 'PlayedGames', 'WonGames', 'Prob_Win', 'DrawnGames',\n",
    "       'LostGames', 'Prob_Lose','BasketScored', 'BasketGiven', 'TournamentChampion',\n",
    "       'Runnerup', 'TeamLaunch', 'HighestPositionHeld'  \n",
    "       ]]"
   ]
  },
  {
   "cell_type": "code",
   "execution_count": 68,
   "id": "a59361bf",
   "metadata": {},
   "outputs": [
    {
     "data": {
      "text/html": [
       "<div>\n",
       "<style scoped>\n",
       "    .dataframe tbody tr th:only-of-type {\n",
       "        vertical-align: middle;\n",
       "    }\n",
       "\n",
       "    .dataframe tbody tr th {\n",
       "        vertical-align: top;\n",
       "    }\n",
       "\n",
       "    .dataframe thead th {\n",
       "        text-align: right;\n",
       "    }\n",
       "</style>\n",
       "<table border=\"1\" class=\"dataframe\">\n",
       "  <thead>\n",
       "    <tr style=\"text-align: right;\">\n",
       "      <th></th>\n",
       "      <th>Team</th>\n",
       "      <th>Tournament</th>\n",
       "      <th>Score</th>\n",
       "      <th>PlayedGames</th>\n",
       "      <th>WonGames</th>\n",
       "      <th>Prob_Win</th>\n",
       "      <th>DrawnGames</th>\n",
       "      <th>LostGames</th>\n",
       "      <th>Prob_Lose</th>\n",
       "      <th>BasketScored</th>\n",
       "      <th>BasketGiven</th>\n",
       "      <th>TournamentChampion</th>\n",
       "      <th>Runnerup</th>\n",
       "      <th>TeamLaunch</th>\n",
       "      <th>HighestPositionHeld</th>\n",
       "    </tr>\n",
       "  </thead>\n",
       "  <tbody>\n",
       "    <tr>\n",
       "      <th>0</th>\n",
       "      <td>Team 1</td>\n",
       "      <td>86.0</td>\n",
       "      <td>4385.0</td>\n",
       "      <td>2762.0</td>\n",
       "      <td>1647.0</td>\n",
       "      <td>0.596307</td>\n",
       "      <td>552.0</td>\n",
       "      <td>563.0</td>\n",
       "      <td>0.203838</td>\n",
       "      <td>5947.0</td>\n",
       "      <td>3140.0</td>\n",
       "      <td>33.0</td>\n",
       "      <td>23.0</td>\n",
       "      <td>1929</td>\n",
       "      <td>1</td>\n",
       "    </tr>\n",
       "    <tr>\n",
       "      <th>1</th>\n",
       "      <td>Team 2</td>\n",
       "      <td>86.0</td>\n",
       "      <td>4262.0</td>\n",
       "      <td>2762.0</td>\n",
       "      <td>1581.0</td>\n",
       "      <td>0.572411</td>\n",
       "      <td>573.0</td>\n",
       "      <td>608.0</td>\n",
       "      <td>0.220130</td>\n",
       "      <td>5900.0</td>\n",
       "      <td>3114.0</td>\n",
       "      <td>25.0</td>\n",
       "      <td>25.0</td>\n",
       "      <td>1929</td>\n",
       "      <td>1</td>\n",
       "    </tr>\n",
       "    <tr>\n",
       "      <th>2</th>\n",
       "      <td>Team 3</td>\n",
       "      <td>80.0</td>\n",
       "      <td>3442.0</td>\n",
       "      <td>2614.0</td>\n",
       "      <td>1241.0</td>\n",
       "      <td>0.474751</td>\n",
       "      <td>598.0</td>\n",
       "      <td>775.0</td>\n",
       "      <td>0.296480</td>\n",
       "      <td>4534.0</td>\n",
       "      <td>3309.0</td>\n",
       "      <td>10.0</td>\n",
       "      <td>8.0</td>\n",
       "      <td>1929</td>\n",
       "      <td>1</td>\n",
       "    </tr>\n",
       "    <tr>\n",
       "      <th>3</th>\n",
       "      <td>Team 4</td>\n",
       "      <td>82.0</td>\n",
       "      <td>3386.0</td>\n",
       "      <td>2664.0</td>\n",
       "      <td>1187.0</td>\n",
       "      <td>0.445571</td>\n",
       "      <td>616.0</td>\n",
       "      <td>861.0</td>\n",
       "      <td>0.323198</td>\n",
       "      <td>4398.0</td>\n",
       "      <td>3469.0</td>\n",
       "      <td>6.0</td>\n",
       "      <td>6.0</td>\n",
       "      <td>1931</td>\n",
       "      <td>1</td>\n",
       "    </tr>\n",
       "    <tr>\n",
       "      <th>4</th>\n",
       "      <td>Team 5</td>\n",
       "      <td>86.0</td>\n",
       "      <td>3368.0</td>\n",
       "      <td>2762.0</td>\n",
       "      <td>1209.0</td>\n",
       "      <td>0.437726</td>\n",
       "      <td>633.0</td>\n",
       "      <td>920.0</td>\n",
       "      <td>0.333092</td>\n",
       "      <td>4631.0</td>\n",
       "      <td>3700.0</td>\n",
       "      <td>8.0</td>\n",
       "      <td>7.0</td>\n",
       "      <td>1929</td>\n",
       "      <td>1</td>\n",
       "    </tr>\n",
       "  </tbody>\n",
       "</table>\n",
       "</div>"
      ],
      "text/plain": [
       "     Team  Tournament   Score  PlayedGames  WonGames  Prob_Win  DrawnGames  \\\n",
       "0  Team 1        86.0  4385.0       2762.0    1647.0  0.596307       552.0   \n",
       "1  Team 2        86.0  4262.0       2762.0    1581.0  0.572411       573.0   \n",
       "2  Team 3        80.0  3442.0       2614.0    1241.0  0.474751       598.0   \n",
       "3  Team 4        82.0  3386.0       2664.0    1187.0  0.445571       616.0   \n",
       "4  Team 5        86.0  3368.0       2762.0    1209.0  0.437726       633.0   \n",
       "\n",
       "   LostGames  Prob_Lose  BasketScored  BasketGiven  TournamentChampion  \\\n",
       "0      563.0   0.203838        5947.0       3140.0                33.0   \n",
       "1      608.0   0.220130        5900.0       3114.0                25.0   \n",
       "2      775.0   0.296480        4534.0       3309.0                10.0   \n",
       "3      861.0   0.323198        4398.0       3469.0                 6.0   \n",
       "4      920.0   0.333092        4631.0       3700.0                 8.0   \n",
       "\n",
       "   Runnerup TeamLaunch  HighestPositionHeld  \n",
       "0      23.0       1929                    1  \n",
       "1      25.0       1929                    1  \n",
       "2       8.0       1929                    1  \n",
       "3       6.0       1931                    1  \n",
       "4       7.0       1929                    1  "
      ]
     },
     "execution_count": 68,
     "metadata": {},
     "output_type": "execute_result"
    }
   ],
   "source": [
    "df.head()"
   ]
  },
  {
   "cell_type": "markdown",
   "id": "5c1bcb00",
   "metadata": {},
   "source": [
    "# Analyse the Probability of a Team wining the game"
   ]
  },
  {
   "cell_type": "code",
   "execution_count": 69,
   "id": "7ca4ccae",
   "metadata": {},
   "outputs": [],
   "source": [
    "df_wongames= df.nlargest(20, ['WonGames'])"
   ]
  },
  {
   "cell_type": "code",
   "execution_count": 70,
   "id": "8f5f7a7f",
   "metadata": {},
   "outputs": [
    {
     "data": {
      "image/png": "[encoded data removed]",
      "text/plain": [
       "<Figure size 864x576 with 1 Axes>"
      ]
     },
     "metadata": {
      "needs_background": "light"
     },
     "output_type": "display_data"
    }
   ],
   "source": [
    "plt.figure(figsize=(12,8))\n",
    "sns.lineplot( 'Team', 'Prob_Win',data=df_wongames.head(10))\n",
    "plt.xticks(rotation=90)\n",
    "plt.show()"
   ]
  },
  {
   "cell_type": "markdown",
   "id": "321d3156",
   "metadata": {},
   "source": [
    "## Analyse the Probability of a Team losing the game"
   ]
  },
  {
   "cell_type": "code",
   "execution_count": 71,
   "id": "d306e030",
   "metadata": {},
   "outputs": [
    {
     "data": {
      "image/png": "[encoded data removed]",
      "text/plain": [
       "<Figure size 864x576 with 1 Axes>"
      ]
     },
     "metadata": {
      "needs_background": "light"
     },
     "output_type": "display_data"
    }
   ],
   "source": [
    "plt.figure(figsize=(12,8))\n",
    "sns.lineplot( 'Team', 'Prob_Lose',data=df_wongames.head(10))\n",
    "plt.xticks(rotation=90)\n",
    "plt.show()"
   ]
  },
  {
   "cell_type": "markdown",
   "id": "1ff14286",
   "metadata": {},
   "source": [
    "While looking for top performing teams, we can give less significance to the number of baskets scored because sometimes teams win after scoring even 1-2 baskets."
   ]
  },
  {
   "cell_type": "markdown",
   "id": "aaa626c6",
   "metadata": {},
   "source": [
    "## We will now calculate the winning percentage according to the following formula: wins+ 0.5*ties/total games * 100%"
   ]
  },
  {
   "cell_type": "code",
   "execution_count": 72,
   "id": "cc911a2a",
   "metadata": {},
   "outputs": [
    {
     "data": {
      "text/html": [
       "<div>\n",
       "<style scoped>\n",
       "    .dataframe tbody tr th:only-of-type {\n",
       "        vertical-align: middle;\n",
       "    }\n",
       "\n",
       "    .dataframe tbody tr th {\n",
       "        vertical-align: top;\n",
       "    }\n",
       "\n",
       "    .dataframe thead th {\n",
       "        text-align: right;\n",
       "    }\n",
       "</style>\n",
       "<table border=\"1\" class=\"dataframe\">\n",
       "  <thead>\n",
       "    <tr style=\"text-align: right;\">\n",
       "      <th></th>\n",
       "      <th>Team</th>\n",
       "      <th>Tournament</th>\n",
       "      <th>Score</th>\n",
       "      <th>PlayedGames</th>\n",
       "      <th>WonGames</th>\n",
       "      <th>Prob_Win</th>\n",
       "      <th>DrawnGames</th>\n",
       "      <th>LostGames</th>\n",
       "      <th>Prob_Lose</th>\n",
       "      <th>BasketScored</th>\n",
       "      <th>BasketGiven</th>\n",
       "      <th>TournamentChampion</th>\n",
       "      <th>Runnerup</th>\n",
       "      <th>TeamLaunch</th>\n",
       "      <th>HighestPositionHeld</th>\n",
       "      <th>Win%</th>\n",
       "    </tr>\n",
       "  </thead>\n",
       "  <tbody>\n",
       "    <tr>\n",
       "      <th>0</th>\n",
       "      <td>Team 1</td>\n",
       "      <td>86.0</td>\n",
       "      <td>4385.0</td>\n",
       "      <td>2762.0</td>\n",
       "      <td>1647.0</td>\n",
       "      <td>0.596307</td>\n",
       "      <td>552.0</td>\n",
       "      <td>563.0</td>\n",
       "      <td>0.203838</td>\n",
       "      <td>5947.0</td>\n",
       "      <td>3140.0</td>\n",
       "      <td>33.0</td>\n",
       "      <td>23.0</td>\n",
       "      <td>1929</td>\n",
       "      <td>1</td>\n",
       "      <td>0.696235</td>\n",
       "    </tr>\n",
       "    <tr>\n",
       "      <th>1</th>\n",
       "      <td>Team 2</td>\n",
       "      <td>86.0</td>\n",
       "      <td>4262.0</td>\n",
       "      <td>2762.0</td>\n",
       "      <td>1581.0</td>\n",
       "      <td>0.572411</td>\n",
       "      <td>573.0</td>\n",
       "      <td>608.0</td>\n",
       "      <td>0.220130</td>\n",
       "      <td>5900.0</td>\n",
       "      <td>3114.0</td>\n",
       "      <td>25.0</td>\n",
       "      <td>25.0</td>\n",
       "      <td>1929</td>\n",
       "      <td>1</td>\n",
       "      <td>0.676140</td>\n",
       "    </tr>\n",
       "    <tr>\n",
       "      <th>2</th>\n",
       "      <td>Team 3</td>\n",
       "      <td>80.0</td>\n",
       "      <td>3442.0</td>\n",
       "      <td>2614.0</td>\n",
       "      <td>1241.0</td>\n",
       "      <td>0.474751</td>\n",
       "      <td>598.0</td>\n",
       "      <td>775.0</td>\n",
       "      <td>0.296480</td>\n",
       "      <td>4534.0</td>\n",
       "      <td>3309.0</td>\n",
       "      <td>10.0</td>\n",
       "      <td>8.0</td>\n",
       "      <td>1929</td>\n",
       "      <td>1</td>\n",
       "      <td>0.589135</td>\n",
       "    </tr>\n",
       "    <tr>\n",
       "      <th>3</th>\n",
       "      <td>Team 4</td>\n",
       "      <td>82.0</td>\n",
       "      <td>3386.0</td>\n",
       "      <td>2664.0</td>\n",
       "      <td>1187.0</td>\n",
       "      <td>0.445571</td>\n",
       "      <td>616.0</td>\n",
       "      <td>861.0</td>\n",
       "      <td>0.323198</td>\n",
       "      <td>4398.0</td>\n",
       "      <td>3469.0</td>\n",
       "      <td>6.0</td>\n",
       "      <td>6.0</td>\n",
       "      <td>1931</td>\n",
       "      <td>1</td>\n",
       "      <td>0.561186</td>\n",
       "    </tr>\n",
       "    <tr>\n",
       "      <th>4</th>\n",
       "      <td>Team 5</td>\n",
       "      <td>86.0</td>\n",
       "      <td>3368.0</td>\n",
       "      <td>2762.0</td>\n",
       "      <td>1209.0</td>\n",
       "      <td>0.437726</td>\n",
       "      <td>633.0</td>\n",
       "      <td>920.0</td>\n",
       "      <td>0.333092</td>\n",
       "      <td>4631.0</td>\n",
       "      <td>3700.0</td>\n",
       "      <td>8.0</td>\n",
       "      <td>7.0</td>\n",
       "      <td>1929</td>\n",
       "      <td>1</td>\n",
       "      <td>0.552317</td>\n",
       "    </tr>\n",
       "    <tr>\n",
       "      <th>...</th>\n",
       "      <td>...</td>\n",
       "      <td>...</td>\n",
       "      <td>...</td>\n",
       "      <td>...</td>\n",
       "      <td>...</td>\n",
       "      <td>...</td>\n",
       "      <td>...</td>\n",
       "      <td>...</td>\n",
       "      <td>...</td>\n",
       "      <td>...</td>\n",
       "      <td>...</td>\n",
       "      <td>...</td>\n",
       "      <td>...</td>\n",
       "      <td>...</td>\n",
       "      <td>...</td>\n",
       "      <td>...</td>\n",
       "    </tr>\n",
       "    <tr>\n",
       "      <th>56</th>\n",
       "      <td>Team 57</td>\n",
       "      <td>1.0</td>\n",
       "      <td>34.0</td>\n",
       "      <td>38.0</td>\n",
       "      <td>8.0</td>\n",
       "      <td>0.210526</td>\n",
       "      <td>10.0</td>\n",
       "      <td>20.0</td>\n",
       "      <td>0.526316</td>\n",
       "      <td>38.0</td>\n",
       "      <td>66.0</td>\n",
       "      <td>0.0</td>\n",
       "      <td>0.0</td>\n",
       "      <td>2009</td>\n",
       "      <td>20</td>\n",
       "      <td>0.342105</td>\n",
       "    </tr>\n",
       "    <tr>\n",
       "      <th>57</th>\n",
       "      <td>Team 58</td>\n",
       "      <td>1.0</td>\n",
       "      <td>22.0</td>\n",
       "      <td>30.0</td>\n",
       "      <td>7.0</td>\n",
       "      <td>0.233333</td>\n",
       "      <td>8.0</td>\n",
       "      <td>15.0</td>\n",
       "      <td>0.500000</td>\n",
       "      <td>37.0</td>\n",
       "      <td>57.0</td>\n",
       "      <td>0.0</td>\n",
       "      <td>0.0</td>\n",
       "      <td>1956</td>\n",
       "      <td>16</td>\n",
       "      <td>0.366667</td>\n",
       "    </tr>\n",
       "    <tr>\n",
       "      <th>58</th>\n",
       "      <td>Team 59</td>\n",
       "      <td>1.0</td>\n",
       "      <td>19.0</td>\n",
       "      <td>30.0</td>\n",
       "      <td>7.0</td>\n",
       "      <td>0.233333</td>\n",
       "      <td>5.0</td>\n",
       "      <td>18.0</td>\n",
       "      <td>0.600000</td>\n",
       "      <td>51.0</td>\n",
       "      <td>85.0</td>\n",
       "      <td>0.0</td>\n",
       "      <td>0.0</td>\n",
       "      <td>1951</td>\n",
       "      <td>16</td>\n",
       "      <td>0.316667</td>\n",
       "    </tr>\n",
       "    <tr>\n",
       "      <th>59</th>\n",
       "      <td>Team 60</td>\n",
       "      <td>1.0</td>\n",
       "      <td>14.0</td>\n",
       "      <td>30.0</td>\n",
       "      <td>5.0</td>\n",
       "      <td>0.166667</td>\n",
       "      <td>4.0</td>\n",
       "      <td>21.0</td>\n",
       "      <td>0.700000</td>\n",
       "      <td>34.0</td>\n",
       "      <td>65.0</td>\n",
       "      <td>0.0</td>\n",
       "      <td>0.0</td>\n",
       "      <td>1955</td>\n",
       "      <td>15</td>\n",
       "      <td>0.233333</td>\n",
       "    </tr>\n",
       "    <tr>\n",
       "      <th>60</th>\n",
       "      <td>Team 61</td>\n",
       "      <td>1.0</td>\n",
       "      <td>0.0</td>\n",
       "      <td>0.0</td>\n",
       "      <td>0.0</td>\n",
       "      <td>0.000000</td>\n",
       "      <td>0.0</td>\n",
       "      <td>0.0</td>\n",
       "      <td>0.000000</td>\n",
       "      <td>0.0</td>\n",
       "      <td>0.0</td>\n",
       "      <td>0.0</td>\n",
       "      <td>0.0</td>\n",
       "      <td>2017</td>\n",
       "      <td>9</td>\n",
       "      <td>0.000000</td>\n",
       "    </tr>\n",
       "  </tbody>\n",
       "</table>\n",
       "<p>61 rows × 16 columns</p>\n",
       "</div>"
      ],
      "text/plain": [
       "       Team  Tournament   Score  PlayedGames  WonGames  Prob_Win  DrawnGames  \\\n",
       "0    Team 1        86.0  4385.0       2762.0    1647.0  0.596307       552.0   \n",
       "1    Team 2        86.0  4262.0       2762.0    1581.0  0.572411       573.0   \n",
       "2    Team 3        80.0  3442.0       2614.0    1241.0  0.474751       598.0   \n",
       "3    Team 4        82.0  3386.0       2664.0    1187.0  0.445571       616.0   \n",
       "4    Team 5        86.0  3368.0       2762.0    1209.0  0.437726       633.0   \n",
       "..      ...         ...     ...          ...       ...       ...         ...   \n",
       "56  Team 57         1.0    34.0         38.0       8.0  0.210526        10.0   \n",
       "57  Team 58         1.0    22.0         30.0       7.0  0.233333         8.0   \n",
       "58  Team 59         1.0    19.0         30.0       7.0  0.233333         5.0   \n",
       "59  Team 60         1.0    14.0         30.0       5.0  0.166667         4.0   \n",
       "60  Team 61         1.0     0.0          0.0       0.0  0.000000         0.0   \n",
       "\n",
       "    LostGames  Prob_Lose  BasketScored  BasketGiven  TournamentChampion  \\\n",
       "0       563.0   0.203838        5947.0       3140.0                33.0   \n",
       "1       608.0   0.220130        5900.0       3114.0                25.0   \n",
       "2       775.0   0.296480        4534.0       3309.0                10.0   \n",
       "3       861.0   0.323198        4398.0       3469.0                 6.0   \n",
       "4       920.0   0.333092        4631.0       3700.0                 8.0   \n",
       "..        ...        ...           ...          ...                 ...   \n",
       "56       20.0   0.526316          38.0         66.0                 0.0   \n",
       "57       15.0   0.500000          37.0         57.0                 0.0   \n",
       "58       18.0   0.600000          51.0         85.0                 0.0   \n",
       "59       21.0   0.700000          34.0         65.0                 0.0   \n",
       "60        0.0   0.000000           0.0          0.0                 0.0   \n",
       "\n",
       "    Runnerup TeamLaunch  HighestPositionHeld      Win%  \n",
       "0       23.0       1929                    1  0.696235  \n",
       "1       25.0       1929                    1  0.676140  \n",
       "2        8.0       1929                    1  0.589135  \n",
       "3        6.0       1931                    1  0.561186  \n",
       "4        7.0       1929                    1  0.552317  \n",
       "..       ...        ...                  ...       ...  \n",
       "56       0.0       2009                   20  0.342105  \n",
       "57       0.0       1956                   16  0.366667  \n",
       "58       0.0       1951                   16  0.316667  \n",
       "59       0.0       1955                   15  0.233333  \n",
       "60       0.0       2017                    9  0.000000  \n",
       "\n",
       "[61 rows x 16 columns]"
      ]
     },
     "execution_count": 72,
     "metadata": {},
     "output_type": "execute_result"
    }
   ],
   "source": [
    "x=0\n",
    "df['Win%']=0\n",
    "for x in range(61):\n",
    "    df['Win%'].iloc[x]= (df['WonGames'].iloc[x]+ 0.5* df['DrawnGames'].iloc[x])/ df['PlayedGames'].iloc[x]\n",
    "df.replace(np.nan, 0)"
   ]
  },
  {
   "cell_type": "code",
   "execution_count": 73,
   "id": "befe9628",
   "metadata": {},
   "outputs": [
    {
     "data": {
      "image/png": "[encoded data removed]",
      "text/plain": [
       "<Figure size 864x576 with 1 Axes>"
      ]
     },
     "metadata": {
      "needs_background": "light"
     },
     "output_type": "display_data"
    }
   ],
   "source": [
    "plt.figure(figsize=(12,8))\n",
    "df.nlargest(20, ['Win%'])\n",
    "sns.lineplot( 'Team', 'Win%',data=df.nlargest(10, ['Win%']))\n",
    "plt.xticks(rotation=90)\n",
    "plt.show()"
   ]
  },
  {
   "cell_type": "markdown",
   "id": "a78e2314",
   "metadata": {},
   "source": [
    "## Teams with lowest performance: we will be considering the winning % because relatively newer teams have played less games so number of games won will not be a fair parameter"
   ]
  },
  {
   "cell_type": "code",
   "execution_count": 74,
   "id": "a2e571ad",
   "metadata": {},
   "outputs": [
    {
     "data": {
      "text/html": [
       "<div>\n",
       "<style scoped>\n",
       "    .dataframe tbody tr th:only-of-type {\n",
       "        vertical-align: middle;\n",
       "    }\n",
       "\n",
       "    .dataframe tbody tr th {\n",
       "        vertical-align: top;\n",
       "    }\n",
       "\n",
       "    .dataframe thead th {\n",
       "        text-align: right;\n",
       "    }\n",
       "</style>\n",
       "<table border=\"1\" class=\"dataframe\">\n",
       "  <thead>\n",
       "    <tr style=\"text-align: right;\">\n",
       "      <th></th>\n",
       "      <th>Team</th>\n",
       "      <th>Tournament</th>\n",
       "      <th>Score</th>\n",
       "      <th>PlayedGames</th>\n",
       "      <th>WonGames</th>\n",
       "      <th>Prob_Win</th>\n",
       "      <th>DrawnGames</th>\n",
       "      <th>LostGames</th>\n",
       "      <th>Prob_Lose</th>\n",
       "      <th>BasketScored</th>\n",
       "      <th>BasketGiven</th>\n",
       "      <th>TournamentChampion</th>\n",
       "      <th>Runnerup</th>\n",
       "      <th>TeamLaunch</th>\n",
       "      <th>HighestPositionHeld</th>\n",
       "      <th>Win%</th>\n",
       "    </tr>\n",
       "  </thead>\n",
       "  <tbody>\n",
       "    <tr>\n",
       "      <th>59</th>\n",
       "      <td>Team 60</td>\n",
       "      <td>1.0</td>\n",
       "      <td>14.0</td>\n",
       "      <td>30.0</td>\n",
       "      <td>5.0</td>\n",
       "      <td>0.166667</td>\n",
       "      <td>4.0</td>\n",
       "      <td>21.0</td>\n",
       "      <td>0.700000</td>\n",
       "      <td>34.0</td>\n",
       "      <td>65.0</td>\n",
       "      <td>0.0</td>\n",
       "      <td>0.0</td>\n",
       "      <td>1955</td>\n",
       "      <td>15</td>\n",
       "      <td>0.233333</td>\n",
       "    </tr>\n",
       "    <tr>\n",
       "      <th>54</th>\n",
       "      <td>Team 55</td>\n",
       "      <td>2.0</td>\n",
       "      <td>40.0</td>\n",
       "      <td>68.0</td>\n",
       "      <td>13.0</td>\n",
       "      <td>0.191176</td>\n",
       "      <td>14.0</td>\n",
       "      <td>41.0</td>\n",
       "      <td>0.602941</td>\n",
       "      <td>70.0</td>\n",
       "      <td>182.0</td>\n",
       "      <td>0.0</td>\n",
       "      <td>0.0</td>\n",
       "      <td>1950</td>\n",
       "      <td>16</td>\n",
       "      <td>0.294118</td>\n",
       "    </tr>\n",
       "    <tr>\n",
       "      <th>58</th>\n",
       "      <td>Team 59</td>\n",
       "      <td>1.0</td>\n",
       "      <td>19.0</td>\n",
       "      <td>30.0</td>\n",
       "      <td>7.0</td>\n",
       "      <td>0.233333</td>\n",
       "      <td>5.0</td>\n",
       "      <td>18.0</td>\n",
       "      <td>0.600000</td>\n",
       "      <td>51.0</td>\n",
       "      <td>85.0</td>\n",
       "      <td>0.0</td>\n",
       "      <td>0.0</td>\n",
       "      <td>1951</td>\n",
       "      <td>16</td>\n",
       "      <td>0.316667</td>\n",
       "    </tr>\n",
       "    <tr>\n",
       "      <th>56</th>\n",
       "      <td>Team 57</td>\n",
       "      <td>1.0</td>\n",
       "      <td>34.0</td>\n",
       "      <td>38.0</td>\n",
       "      <td>8.0</td>\n",
       "      <td>0.210526</td>\n",
       "      <td>10.0</td>\n",
       "      <td>20.0</td>\n",
       "      <td>0.526316</td>\n",
       "      <td>38.0</td>\n",
       "      <td>66.0</td>\n",
       "      <td>0.0</td>\n",
       "      <td>0.0</td>\n",
       "      <td>2009</td>\n",
       "      <td>20</td>\n",
       "      <td>0.342105</td>\n",
       "    </tr>\n",
       "    <tr>\n",
       "      <th>49</th>\n",
       "      <td>Team 50</td>\n",
       "      <td>4.0</td>\n",
       "      <td>76.0</td>\n",
       "      <td>108.0</td>\n",
       "      <td>30.0</td>\n",
       "      <td>0.277778</td>\n",
       "      <td>16.0</td>\n",
       "      <td>62.0</td>\n",
       "      <td>0.574074</td>\n",
       "      <td>145.0</td>\n",
       "      <td>252.0</td>\n",
       "      <td>0.0</td>\n",
       "      <td>0.0</td>\n",
       "      <td>1945</td>\n",
       "      <td>10</td>\n",
       "      <td>0.351852</td>\n",
       "    </tr>\n",
       "    <tr>\n",
       "      <th>55</th>\n",
       "      <td>Team 56</td>\n",
       "      <td>1.0</td>\n",
       "      <td>35.0</td>\n",
       "      <td>38.0</td>\n",
       "      <td>8.0</td>\n",
       "      <td>0.210526</td>\n",
       "      <td>11.0</td>\n",
       "      <td>19.0</td>\n",
       "      <td>0.500000</td>\n",
       "      <td>36.0</td>\n",
       "      <td>55.0</td>\n",
       "      <td>0.0</td>\n",
       "      <td>0.0</td>\n",
       "      <td>2016</td>\n",
       "      <td>17</td>\n",
       "      <td>0.355263</td>\n",
       "    </tr>\n",
       "    <tr>\n",
       "      <th>46</th>\n",
       "      <td>Team 47</td>\n",
       "      <td>4.0</td>\n",
       "      <td>91.0</td>\n",
       "      <td>116.0</td>\n",
       "      <td>34.0</td>\n",
       "      <td>0.293103</td>\n",
       "      <td>16.0</td>\n",
       "      <td>66.0</td>\n",
       "      <td>0.568966</td>\n",
       "      <td>181.0</td>\n",
       "      <td>295.0</td>\n",
       "      <td>0.0</td>\n",
       "      <td>0.0</td>\n",
       "      <td>1947</td>\n",
       "      <td>7</td>\n",
       "      <td>0.362069</td>\n",
       "    </tr>\n",
       "    <tr>\n",
       "      <th>42</th>\n",
       "      <td>Team 43</td>\n",
       "      <td>4.0</td>\n",
       "      <td>148.0</td>\n",
       "      <td>152.0</td>\n",
       "      <td>37.0</td>\n",
       "      <td>0.243421</td>\n",
       "      <td>37.0</td>\n",
       "      <td>78.0</td>\n",
       "      <td>0.513158</td>\n",
       "      <td>155.0</td>\n",
       "      <td>253.0</td>\n",
       "      <td>0.0</td>\n",
       "      <td>0.0</td>\n",
       "      <td>1999</td>\n",
       "      <td>17</td>\n",
       "      <td>0.365132</td>\n",
       "    </tr>\n",
       "    <tr>\n",
       "      <th>57</th>\n",
       "      <td>Team 58</td>\n",
       "      <td>1.0</td>\n",
       "      <td>22.0</td>\n",
       "      <td>30.0</td>\n",
       "      <td>7.0</td>\n",
       "      <td>0.233333</td>\n",
       "      <td>8.0</td>\n",
       "      <td>15.0</td>\n",
       "      <td>0.500000</td>\n",
       "      <td>37.0</td>\n",
       "      <td>57.0</td>\n",
       "      <td>0.0</td>\n",
       "      <td>0.0</td>\n",
       "      <td>1956</td>\n",
       "      <td>16</td>\n",
       "      <td>0.366667</td>\n",
       "    </tr>\n",
       "    <tr>\n",
       "      <th>27</th>\n",
       "      <td>Team 28</td>\n",
       "      <td>18.0</td>\n",
       "      <td>445.0</td>\n",
       "      <td>586.0</td>\n",
       "      <td>145.0</td>\n",
       "      <td>0.247440</td>\n",
       "      <td>143.0</td>\n",
       "      <td>298.0</td>\n",
       "      <td>0.508532</td>\n",
       "      <td>607.0</td>\n",
       "      <td>992.0</td>\n",
       "      <td>0.0</td>\n",
       "      <td>0.0</td>\n",
       "      <td>1940</td>\n",
       "      <td>11</td>\n",
       "      <td>0.369454</td>\n",
       "    </tr>\n",
       "  </tbody>\n",
       "</table>\n",
       "</div>"
      ],
      "text/plain": [
       "       Team  Tournament  Score  PlayedGames  WonGames  Prob_Win  DrawnGames  \\\n",
       "59  Team 60         1.0   14.0         30.0       5.0  0.166667         4.0   \n",
       "54  Team 55         2.0   40.0         68.0      13.0  0.191176        14.0   \n",
       "58  Team 59         1.0   19.0         30.0       7.0  0.233333         5.0   \n",
       "56  Team 57         1.0   34.0         38.0       8.0  0.210526        10.0   \n",
       "49  Team 50         4.0   76.0        108.0      30.0  0.277778        16.0   \n",
       "55  Team 56         1.0   35.0         38.0       8.0  0.210526        11.0   \n",
       "46  Team 47         4.0   91.0        116.0      34.0  0.293103        16.0   \n",
       "42  Team 43         4.0  148.0        152.0      37.0  0.243421        37.0   \n",
       "57  Team 58         1.0   22.0         30.0       7.0  0.233333         8.0   \n",
       "27  Team 28        18.0  445.0        586.0     145.0  0.247440       143.0   \n",
       "\n",
       "    LostGames  Prob_Lose  BasketScored  BasketGiven  TournamentChampion  \\\n",
       "59       21.0   0.700000          34.0         65.0                 0.0   \n",
       "54       41.0   0.602941          70.0        182.0                 0.0   \n",
       "58       18.0   0.600000          51.0         85.0                 0.0   \n",
       "56       20.0   0.526316          38.0         66.0                 0.0   \n",
       "49       62.0   0.574074         145.0        252.0                 0.0   \n",
       "55       19.0   0.500000          36.0         55.0                 0.0   \n",
       "46       66.0   0.568966         181.0        295.0                 0.0   \n",
       "42       78.0   0.513158         155.0        253.0                 0.0   \n",
       "57       15.0   0.500000          37.0         57.0                 0.0   \n",
       "27      298.0   0.508532         607.0        992.0                 0.0   \n",
       "\n",
       "    Runnerup TeamLaunch  HighestPositionHeld      Win%  \n",
       "59       0.0       1955                   15  0.233333  \n",
       "54       0.0       1950                   16  0.294118  \n",
       "58       0.0       1951                   16  0.316667  \n",
       "56       0.0       2009                   20  0.342105  \n",
       "49       0.0       1945                   10  0.351852  \n",
       "55       0.0       2016                   17  0.355263  \n",
       "46       0.0       1947                    7  0.362069  \n",
       "42       0.0       1999                   17  0.365132  \n",
       "57       0.0       1956                   16  0.366667  \n",
       "27       0.0       1940                   11  0.369454  "
      ]
     },
     "execution_count": 74,
     "metadata": {},
     "output_type": "execute_result"
    }
   ],
   "source": [
    "df.nsmallest(10, 'Win%')"
   ]
  },
  {
   "cell_type": "markdown",
   "id": "31a1f639",
   "metadata": {},
   "source": [
    "## Teams with lowest performance"
   ]
  },
  {
   "cell_type": "code",
   "execution_count": 75,
   "id": "93783cb2",
   "metadata": {},
   "outputs": [],
   "source": [
    "df_wongames['TeamLaunch'] = df_wongames['TeamLaunch'].apply(pd.to_numeric, errors='coerce')"
   ]
  },
  {
   "cell_type": "code",
   "execution_count": 76,
   "id": "dd904cbe",
   "metadata": {},
   "outputs": [
    {
     "data": {
      "text/plain": [
       "<AxesSubplot:xlabel='Team', ylabel='LostGames'>"
      ]
     },
     "execution_count": 76,
     "metadata": {},
     "output_type": "execute_result"
    },
    {
     "data": {
      "image/png": "[encoded data removed]",
      "text/plain": [
       "<Figure size 1080x576 with 2 Axes>"
      ]
     },
     "metadata": {
      "needs_background": "light"
     },
     "output_type": "display_data"
    }
   ],
   "source": [
    "ax1 = sns.set_style(style=None, rc=None )\n",
    "\n",
    "fig, ax1 = plt.subplots(figsize=(15,8))\n",
    "\n",
    "sns.lineplot('Team', 'Win%', data = df.nsmallest(10, 'Win%'))\n",
    "ax2 = ax1.twinx()\n",
    "sns.barplot(data = df.nsmallest(10, 'Win%'), x='Team', y='LostGames', alpha=0.5, ax=ax2)"
   ]
  },
  {
   "cell_type": "markdown",
   "id": "12aaf507",
   "metadata": {},
   "source": [
    "## Teams with highest win%"
   ]
  },
  {
   "cell_type": "code",
   "execution_count": 77,
   "id": "ef38bbd8",
   "metadata": {},
   "outputs": [
    {
     "data": {
      "text/plain": [
       "<AxesSubplot:xlabel='Team', ylabel='TournamentChampion'>"
      ]
     },
     "execution_count": 77,
     "metadata": {},
     "output_type": "execute_result"
    },
    {
     "data": {
      "image/png": "[encoded data removed]",
      "text/plain": [
       "<Figure size 1080x576 with 2 Axes>"
      ]
     },
     "metadata": {
      "needs_background": "light"
     },
     "output_type": "display_data"
    }
   ],
   "source": [
    "ax1 = sns.set_style(style=None, rc=None )\n",
    "\n",
    "fig, ax1 = plt.subplots(figsize=(15,8))\n",
    "\n",
    "sns.lineplot('Team', 'Win%', data = df.nlargest(10, 'Win%'))\n",
    "\n",
    "ax2 = ax1.twinx()\n",
    "sns.barplot(data = df.nlargest(10, 'Win%'), x='Team', y='TournamentChampion', alpha=0.5, ax=ax2)"
   ]
  },
  {
   "cell_type": "markdown",
   "id": "fbbcb1c4",
   "metadata": {},
   "source": [
    "## From the top 20 teams with highest scores, highest matches won, we'll combine it with teams having highest winning % to find the intersecting teams"
   ]
  },
  {
   "cell_type": "code",
   "execution_count": 78,
   "id": "fe936b9c",
   "metadata": {},
   "outputs": [],
   "source": [
    "df_winpercent = df.nlargest(20, 'Win%')"
   ]
  },
  {
   "cell_type": "code",
   "execution_count": 79,
   "id": "93ba2e68",
   "metadata": {},
   "outputs": [],
   "source": [
    "df_winpercent['TeamLaunch']=df_winpercent['TeamLaunch'].apply(pd.to_numeric, errors='coerce')"
   ]
  },
  {
   "cell_type": "code",
   "execution_count": 80,
   "id": "1a79c634",
   "metadata": {},
   "outputs": [],
   "source": [
    "intersected_df = pd.merge(df_wongames, df_winpercent, how='inner')"
   ]
  },
  {
   "cell_type": "code",
   "execution_count": 81,
   "id": "aa3e67be",
   "metadata": {},
   "outputs": [
    {
     "data": {
      "text/html": [
       "<div>\n",
       "<style scoped>\n",
       "    .dataframe tbody tr th:only-of-type {\n",
       "        vertical-align: middle;\n",
       "    }\n",
       "\n",
       "    .dataframe tbody tr th {\n",
       "        vertical-align: top;\n",
       "    }\n",
       "\n",
       "    .dataframe thead th {\n",
       "        text-align: right;\n",
       "    }\n",
       "</style>\n",
       "<table border=\"1\" class=\"dataframe\">\n",
       "  <thead>\n",
       "    <tr style=\"text-align: right;\">\n",
       "      <th></th>\n",
       "      <th>Team</th>\n",
       "      <th>Tournament</th>\n",
       "      <th>Score</th>\n",
       "      <th>PlayedGames</th>\n",
       "      <th>WonGames</th>\n",
       "      <th>Prob_Win</th>\n",
       "      <th>DrawnGames</th>\n",
       "      <th>LostGames</th>\n",
       "      <th>Prob_Lose</th>\n",
       "      <th>BasketScored</th>\n",
       "      <th>BasketGiven</th>\n",
       "      <th>TournamentChampion</th>\n",
       "      <th>Runnerup</th>\n",
       "      <th>TeamLaunch</th>\n",
       "      <th>HighestPositionHeld</th>\n",
       "      <th>Win%</th>\n",
       "    </tr>\n",
       "  </thead>\n",
       "  <tbody>\n",
       "    <tr>\n",
       "      <th>0</th>\n",
       "      <td>Team 1</td>\n",
       "      <td>86.0</td>\n",
       "      <td>4385.0</td>\n",
       "      <td>2762.0</td>\n",
       "      <td>1647.0</td>\n",
       "      <td>0.596307</td>\n",
       "      <td>552.0</td>\n",
       "      <td>563.0</td>\n",
       "      <td>0.203838</td>\n",
       "      <td>5947.0</td>\n",
       "      <td>3140.0</td>\n",
       "      <td>33.0</td>\n",
       "      <td>23.0</td>\n",
       "      <td>1929</td>\n",
       "      <td>1</td>\n",
       "      <td>0.696235</td>\n",
       "    </tr>\n",
       "    <tr>\n",
       "      <th>1</th>\n",
       "      <td>Team 2</td>\n",
       "      <td>86.0</td>\n",
       "      <td>4262.0</td>\n",
       "      <td>2762.0</td>\n",
       "      <td>1581.0</td>\n",
       "      <td>0.572411</td>\n",
       "      <td>573.0</td>\n",
       "      <td>608.0</td>\n",
       "      <td>0.220130</td>\n",
       "      <td>5900.0</td>\n",
       "      <td>3114.0</td>\n",
       "      <td>25.0</td>\n",
       "      <td>25.0</td>\n",
       "      <td>1929</td>\n",
       "      <td>1</td>\n",
       "      <td>0.676140</td>\n",
       "    </tr>\n",
       "    <tr>\n",
       "      <th>2</th>\n",
       "      <td>Team 3</td>\n",
       "      <td>80.0</td>\n",
       "      <td>3442.0</td>\n",
       "      <td>2614.0</td>\n",
       "      <td>1241.0</td>\n",
       "      <td>0.474751</td>\n",
       "      <td>598.0</td>\n",
       "      <td>775.0</td>\n",
       "      <td>0.296480</td>\n",
       "      <td>4534.0</td>\n",
       "      <td>3309.0</td>\n",
       "      <td>10.0</td>\n",
       "      <td>8.0</td>\n",
       "      <td>1929</td>\n",
       "      <td>1</td>\n",
       "      <td>0.589135</td>\n",
       "    </tr>\n",
       "    <tr>\n",
       "      <th>3</th>\n",
       "      <td>Team 5</td>\n",
       "      <td>86.0</td>\n",
       "      <td>3368.0</td>\n",
       "      <td>2762.0</td>\n",
       "      <td>1209.0</td>\n",
       "      <td>0.437726</td>\n",
       "      <td>633.0</td>\n",
       "      <td>920.0</td>\n",
       "      <td>0.333092</td>\n",
       "      <td>4631.0</td>\n",
       "      <td>3700.0</td>\n",
       "      <td>8.0</td>\n",
       "      <td>7.0</td>\n",
       "      <td>1929</td>\n",
       "      <td>1</td>\n",
       "      <td>0.552317</td>\n",
       "    </tr>\n",
       "    <tr>\n",
       "      <th>4</th>\n",
       "      <td>Team 4</td>\n",
       "      <td>82.0</td>\n",
       "      <td>3386.0</td>\n",
       "      <td>2664.0</td>\n",
       "      <td>1187.0</td>\n",
       "      <td>0.445571</td>\n",
       "      <td>616.0</td>\n",
       "      <td>861.0</td>\n",
       "      <td>0.323198</td>\n",
       "      <td>4398.0</td>\n",
       "      <td>3469.0</td>\n",
       "      <td>6.0</td>\n",
       "      <td>6.0</td>\n",
       "      <td>1931</td>\n",
       "      <td>1</td>\n",
       "      <td>0.561186</td>\n",
       "    </tr>\n",
       "    <tr>\n",
       "      <th>5</th>\n",
       "      <td>Team 6</td>\n",
       "      <td>73.0</td>\n",
       "      <td>2819.0</td>\n",
       "      <td>2408.0</td>\n",
       "      <td>990.0</td>\n",
       "      <td>0.411130</td>\n",
       "      <td>531.0</td>\n",
       "      <td>887.0</td>\n",
       "      <td>0.368355</td>\n",
       "      <td>3680.0</td>\n",
       "      <td>3373.0</td>\n",
       "      <td>1.0</td>\n",
       "      <td>4.0</td>\n",
       "      <td>1934</td>\n",
       "      <td>1</td>\n",
       "      <td>0.521387</td>\n",
       "    </tr>\n",
       "    <tr>\n",
       "      <th>6</th>\n",
       "      <td>Team 7</td>\n",
       "      <td>82.0</td>\n",
       "      <td>2792.0</td>\n",
       "      <td>2626.0</td>\n",
       "      <td>948.0</td>\n",
       "      <td>0.361005</td>\n",
       "      <td>608.0</td>\n",
       "      <td>1070.0</td>\n",
       "      <td>0.407464</td>\n",
       "      <td>3609.0</td>\n",
       "      <td>3889.0</td>\n",
       "      <td>0.0</td>\n",
       "      <td>0.0</td>\n",
       "      <td>1929</td>\n",
       "      <td>3</td>\n",
       "      <td>0.476771</td>\n",
       "    </tr>\n",
       "    <tr>\n",
       "      <th>7</th>\n",
       "      <td>Team 8</td>\n",
       "      <td>70.0</td>\n",
       "      <td>2573.0</td>\n",
       "      <td>2302.0</td>\n",
       "      <td>864.0</td>\n",
       "      <td>0.375326</td>\n",
       "      <td>577.0</td>\n",
       "      <td>861.0</td>\n",
       "      <td>0.374023</td>\n",
       "      <td>3228.0</td>\n",
       "      <td>3230.0</td>\n",
       "      <td>2.0</td>\n",
       "      <td>3.0</td>\n",
       "      <td>1929</td>\n",
       "      <td>1</td>\n",
       "      <td>0.500652</td>\n",
       "    </tr>\n",
       "    <tr>\n",
       "      <th>8</th>\n",
       "      <td>Team 9</td>\n",
       "      <td>58.0</td>\n",
       "      <td>2109.0</td>\n",
       "      <td>1986.0</td>\n",
       "      <td>698.0</td>\n",
       "      <td>0.351460</td>\n",
       "      <td>522.0</td>\n",
       "      <td>766.0</td>\n",
       "      <td>0.385700</td>\n",
       "      <td>2683.0</td>\n",
       "      <td>2847.0</td>\n",
       "      <td>0.0</td>\n",
       "      <td>1.0</td>\n",
       "      <td>1939</td>\n",
       "      <td>2</td>\n",
       "      <td>0.482880</td>\n",
       "    </tr>\n",
       "    <tr>\n",
       "      <th>9</th>\n",
       "      <td>Team 10</td>\n",
       "      <td>51.0</td>\n",
       "      <td>1884.0</td>\n",
       "      <td>1728.0</td>\n",
       "      <td>606.0</td>\n",
       "      <td>0.350694</td>\n",
       "      <td>440.0</td>\n",
       "      <td>682.0</td>\n",
       "      <td>0.394676</td>\n",
       "      <td>2159.0</td>\n",
       "      <td>2492.0</td>\n",
       "      <td>1.0</td>\n",
       "      <td>0.0</td>\n",
       "      <td>1932</td>\n",
       "      <td>1</td>\n",
       "      <td>0.478009</td>\n",
       "    </tr>\n",
       "    <tr>\n",
       "      <th>10</th>\n",
       "      <td>Team 12</td>\n",
       "      <td>51.0</td>\n",
       "      <td>1789.0</td>\n",
       "      <td>1698.0</td>\n",
       "      <td>586.0</td>\n",
       "      <td>0.345112</td>\n",
       "      <td>389.0</td>\n",
       "      <td>723.0</td>\n",
       "      <td>0.425795</td>\n",
       "      <td>2278.0</td>\n",
       "      <td>2624.0</td>\n",
       "      <td>0.0</td>\n",
       "      <td>0.0</td>\n",
       "      <td>1939</td>\n",
       "      <td>4</td>\n",
       "      <td>0.459658</td>\n",
       "    </tr>\n",
       "    <tr>\n",
       "      <th>11</th>\n",
       "      <td>Team 11</td>\n",
       "      <td>45.0</td>\n",
       "      <td>1814.0</td>\n",
       "      <td>1530.0</td>\n",
       "      <td>563.0</td>\n",
       "      <td>0.367974</td>\n",
       "      <td>392.0</td>\n",
       "      <td>575.0</td>\n",
       "      <td>0.375817</td>\n",
       "      <td>2052.0</td>\n",
       "      <td>2188.0</td>\n",
       "      <td>1.0</td>\n",
       "      <td>5.0</td>\n",
       "      <td>1941</td>\n",
       "      <td>1</td>\n",
       "      <td>0.496078</td>\n",
       "    </tr>\n",
       "    <tr>\n",
       "      <th>12</th>\n",
       "      <td>Team 15</td>\n",
       "      <td>43.0</td>\n",
       "      <td>1389.0</td>\n",
       "      <td>1458.0</td>\n",
       "      <td>471.0</td>\n",
       "      <td>0.323045</td>\n",
       "      <td>358.0</td>\n",
       "      <td>629.0</td>\n",
       "      <td>0.431413</td>\n",
       "      <td>1753.0</td>\n",
       "      <td>2152.0</td>\n",
       "      <td>0.0</td>\n",
       "      <td>1.0</td>\n",
       "      <td>1944</td>\n",
       "      <td>2</td>\n",
       "      <td>0.445816</td>\n",
       "    </tr>\n",
       "    <tr>\n",
       "      <th>13</th>\n",
       "      <td>Team 13</td>\n",
       "      <td>42.0</td>\n",
       "      <td>1471.0</td>\n",
       "      <td>1466.0</td>\n",
       "      <td>463.0</td>\n",
       "      <td>0.315825</td>\n",
       "      <td>384.0</td>\n",
       "      <td>619.0</td>\n",
       "      <td>0.422237</td>\n",
       "      <td>1767.0</td>\n",
       "      <td>2180.0</td>\n",
       "      <td>0.0</td>\n",
       "      <td>0.0</td>\n",
       "      <td>1948</td>\n",
       "      <td>4</td>\n",
       "      <td>0.446794</td>\n",
       "    </tr>\n",
       "    <tr>\n",
       "      <th>14</th>\n",
       "      <td>Team 16</td>\n",
       "      <td>37.0</td>\n",
       "      <td>1351.0</td>\n",
       "      <td>1318.0</td>\n",
       "      <td>426.0</td>\n",
       "      <td>0.323217</td>\n",
       "      <td>327.0</td>\n",
       "      <td>565.0</td>\n",
       "      <td>0.428680</td>\n",
       "      <td>1500.0</td>\n",
       "      <td>1834.0</td>\n",
       "      <td>0.0</td>\n",
       "      <td>0.0</td>\n",
       "      <td>1935</td>\n",
       "      <td>4</td>\n",
       "      <td>0.447269</td>\n",
       "    </tr>\n",
       "    <tr>\n",
       "      <th>15</th>\n",
       "      <td>Team 18</td>\n",
       "      <td>38.0</td>\n",
       "      <td>1174.0</td>\n",
       "      <td>1192.0</td>\n",
       "      <td>408.0</td>\n",
       "      <td>0.342282</td>\n",
       "      <td>292.0</td>\n",
       "      <td>492.0</td>\n",
       "      <td>0.412752</td>\n",
       "      <td>1642.0</td>\n",
       "      <td>1951.0</td>\n",
       "      <td>0.0</td>\n",
       "      <td>0.0</td>\n",
       "      <td>1933</td>\n",
       "      <td>3</td>\n",
       "      <td>0.464765</td>\n",
       "    </tr>\n",
       "    <tr>\n",
       "      <th>16</th>\n",
       "      <td>Team 20</td>\n",
       "      <td>33.0</td>\n",
       "      <td>1020.0</td>\n",
       "      <td>1096.0</td>\n",
       "      <td>367.0</td>\n",
       "      <td>0.334854</td>\n",
       "      <td>242.0</td>\n",
       "      <td>487.0</td>\n",
       "      <td>0.444343</td>\n",
       "      <td>1347.0</td>\n",
       "      <td>1746.0</td>\n",
       "      <td>0.0</td>\n",
       "      <td>1.0</td>\n",
       "      <td>1951</td>\n",
       "      <td>2</td>\n",
       "      <td>0.445255</td>\n",
       "    </tr>\n",
       "    <tr>\n",
       "      <th>17</th>\n",
       "      <td>Team 19</td>\n",
       "      <td>27.0</td>\n",
       "      <td>1148.0</td>\n",
       "      <td>988.0</td>\n",
       "      <td>333.0</td>\n",
       "      <td>0.337045</td>\n",
       "      <td>256.0</td>\n",
       "      <td>399.0</td>\n",
       "      <td>0.403846</td>\n",
       "      <td>1182.0</td>\n",
       "      <td>1371.0</td>\n",
       "      <td>0.0</td>\n",
       "      <td>0.0</td>\n",
       "      <td>1960</td>\n",
       "      <td>3</td>\n",
       "      <td>0.466599</td>\n",
       "    </tr>\n",
       "  </tbody>\n",
       "</table>\n",
       "</div>"
      ],
      "text/plain": [
       "       Team  Tournament   Score  PlayedGames  WonGames  Prob_Win  DrawnGames  \\\n",
       "0    Team 1        86.0  4385.0       2762.0    1647.0  0.596307       552.0   \n",
       "1    Team 2        86.0  4262.0       2762.0    1581.0  0.572411       573.0   \n",
       "2    Team 3        80.0  3442.0       2614.0    1241.0  0.474751       598.0   \n",
       "3    Team 5        86.0  3368.0       2762.0    1209.0  0.437726       633.0   \n",
       "4    Team 4        82.0  3386.0       2664.0    1187.0  0.445571       616.0   \n",
       "5    Team 6        73.0  2819.0       2408.0     990.0  0.411130       531.0   \n",
       "6    Team 7        82.0  2792.0       2626.0     948.0  0.361005       608.0   \n",
       "7    Team 8        70.0  2573.0       2302.0     864.0  0.375326       577.0   \n",
       "8    Team 9        58.0  2109.0       1986.0     698.0  0.351460       522.0   \n",
       "9   Team 10        51.0  1884.0       1728.0     606.0  0.350694       440.0   \n",
       "10  Team 12        51.0  1789.0       1698.0     586.0  0.345112       389.0   \n",
       "11  Team 11        45.0  1814.0       1530.0     563.0  0.367974       392.0   \n",
       "12  Team 15        43.0  1389.0       1458.0     471.0  0.323045       358.0   \n",
       "13  Team 13        42.0  1471.0       1466.0     463.0  0.315825       384.0   \n",
       "14  Team 16        37.0  1351.0       1318.0     426.0  0.323217       327.0   \n",
       "15  Team 18        38.0  1174.0       1192.0     408.0  0.342282       292.0   \n",
       "16  Team 20        33.0  1020.0       1096.0     367.0  0.334854       242.0   \n",
       "17  Team 19        27.0  1148.0        988.0     333.0  0.337045       256.0   \n",
       "\n",
       "    LostGames  Prob_Lose  BasketScored  BasketGiven  TournamentChampion  \\\n",
       "0       563.0   0.203838        5947.0       3140.0                33.0   \n",
       "1       608.0   0.220130        5900.0       3114.0                25.0   \n",
       "2       775.0   0.296480        4534.0       3309.0                10.0   \n",
       "3       920.0   0.333092        4631.0       3700.0                 8.0   \n",
       "4       861.0   0.323198        4398.0       3469.0                 6.0   \n",
       "5       887.0   0.368355        3680.0       3373.0                 1.0   \n",
       "6      1070.0   0.407464        3609.0       3889.0                 0.0   \n",
       "7       861.0   0.374023        3228.0       3230.0                 2.0   \n",
       "8       766.0   0.385700        2683.0       2847.0                 0.0   \n",
       "9       682.0   0.394676        2159.0       2492.0                 1.0   \n",
       "10      723.0   0.425795        2278.0       2624.0                 0.0   \n",
       "11      575.0   0.375817        2052.0       2188.0                 1.0   \n",
       "12      629.0   0.431413        1753.0       2152.0                 0.0   \n",
       "13      619.0   0.422237        1767.0       2180.0                 0.0   \n",
       "14      565.0   0.428680        1500.0       1834.0                 0.0   \n",
       "15      492.0   0.412752        1642.0       1951.0                 0.0   \n",
       "16      487.0   0.444343        1347.0       1746.0                 0.0   \n",
       "17      399.0   0.403846        1182.0       1371.0                 0.0   \n",
       "\n",
       "    Runnerup  TeamLaunch  HighestPositionHeld      Win%  \n",
       "0       23.0        1929                    1  0.696235  \n",
       "1       25.0        1929                    1  0.676140  \n",
       "2        8.0        1929                    1  0.589135  \n",
       "3        7.0        1929                    1  0.552317  \n",
       "4        6.0        1931                    1  0.561186  \n",
       "5        4.0        1934                    1  0.521387  \n",
       "6        0.0        1929                    3  0.476771  \n",
       "7        3.0        1929                    1  0.500652  \n",
       "8        1.0        1939                    2  0.482880  \n",
       "9        0.0        1932                    1  0.478009  \n",
       "10       0.0        1939                    4  0.459658  \n",
       "11       5.0        1941                    1  0.496078  \n",
       "12       1.0        1944                    2  0.445816  \n",
       "13       0.0        1948                    4  0.446794  \n",
       "14       0.0        1935                    4  0.447269  \n",
       "15       0.0        1933                    3  0.464765  \n",
       "16       1.0        1951                    2  0.445255  \n",
       "17       0.0        1960                    3  0.466599  "
      ]
     },
     "execution_count": 81,
     "metadata": {},
     "output_type": "execute_result"
    }
   ],
   "source": [
    "intersected_df"
   ]
  },
  {
   "cell_type": "code",
   "execution_count": 82,
   "id": "06cb97bc",
   "metadata": {},
   "outputs": [
    {
     "data": {
      "text/plain": [
       "<AxesSubplot:xlabel='Team', ylabel='Win%'>"
      ]
     },
     "execution_count": 82,
     "metadata": {},
     "output_type": "execute_result"
    },
    {
     "data": {
      "image/png": "[encoded data removed]",
      "text/plain": [
       "<Figure size 1080x576 with 2 Axes>"
      ]
     },
     "metadata": {
      "needs_background": "light"
     },
     "output_type": "display_data"
    }
   ],
   "source": [
    "ax1=sns.set_style(style=None, rc=None)\n",
    "fig,ax1= plt.subplots(figsize=(15,8))\n",
    "\n",
    "sns.lineplot('Team', 'WonGames', data = intersected_df.head())\n",
    "ax2 = ax1.twinx()\n",
    "sns.barplot( x='Team', y='Win%', data= intersected_df.head(), alpha=0.5, ax=ax2)"
   ]
  },
  {
   "cell_type": "markdown",
   "id": "7bc80183",
   "metadata": {},
   "source": [
    "# Teams who scored max baskets per game"
   ]
  },
  {
   "cell_type": "code",
   "execution_count": 83,
   "id": "8fed4e1f",
   "metadata": {},
   "outputs": [
    {
     "data": {
      "text/plain": [
       "<AxesSubplot:xlabel='Team', ylabel='baskets'>"
      ]
     },
     "execution_count": 83,
     "metadata": {},
     "output_type": "execute_result"
    },
    {
     "data": {
      "image/png": "[encoded data removed]",
      "text/plain": [
       "<Figure size 864x576 with 1 Axes>"
      ]
     },
     "metadata": {
      "needs_background": "light"
     },
     "output_type": "display_data"
    }
   ],
   "source": [
    "intersected_df['baskets']=0\n",
    "x=0\n",
    "for x in range(17):\n",
    "    intersected_df['baskets'].iloc[x]= intersected_df['BasketScored'].iloc[x]/intersected_df['PlayedGames'].iloc[x]\n",
    "    \n",
    "plt.figure(figsize=(12,8))\n",
    "sns.lineplot('Team', 'baskets', data=intersected_df.head(5))"
   ]
  },
  {
   "cell_type": "code",
   "execution_count": 84,
   "id": "cdb13b3c",
   "metadata": {},
   "outputs": [
    {
     "data": {
      "image/png": "[encoded data removed]",
      "text/plain": [
       "<Figure size 1080x720 with 1 Axes>"
      ]
     },
     "metadata": {},
     "output_type": "display_data"
    }
   ],
   "source": [
    "plt.figure(figsize=(15,10))\n",
    "plt.pie(intersected_df['TournamentChampion'].head(), labels= intersected_df['Team'].head(),autopct='%0.2f&&')\n",
    "plt.title('Teams with most Tournament champion trophies')\n",
    "plt.show()"
   ]
  },
  {
   "cell_type": "markdown",
   "id": "54470025",
   "metadata": {},
   "source": [
    "# Team Launch Year of the Top 5 Games"
   ]
  },
  {
   "cell_type": "code",
   "execution_count": 85,
   "id": "29b76c41",
   "metadata": {},
   "outputs": [
    {
     "data": {
      "image/png": "[encoded data removed]",
      "text/plain": [
       "<Figure size 864x576 with 1 Axes>"
      ]
     },
     "metadata": {
      "needs_background": "light"
     },
     "output_type": "display_data"
    }
   ],
   "source": [
    "plt.figure(figsize=(12,8))\n",
    "sns.countplot( 'TeamLaunch', data=intersected_df.head())\n",
    "plt.title('Team Launch Year of the top 5 teams')\n",
    "plt.show()"
   ]
  },
  {
   "cell_type": "markdown",
   "id": "07f408c3",
   "metadata": {},
   "source": [
    "# Thus, we can approach any of the top 5 teams, TEAM 1,2,3,4,5 for the next matches."
   ]
  },
  {
   "cell_type": "markdown",
   "id": "08baf64b",
   "metadata": {},
   "source": [
    "## For more options - here are the top 10 teams with their winning % which can be approached by the company's management"
   ]
  },
  {
   "cell_type": "code",
   "execution_count": 86,
   "id": "fe57bd23",
   "metadata": {},
   "outputs": [
    {
     "data": {
      "text/html": [
       "<div>\n",
       "<style scoped>\n",
       "    .dataframe tbody tr th:only-of-type {\n",
       "        vertical-align: middle;\n",
       "    }\n",
       "\n",
       "    .dataframe tbody tr th {\n",
       "        vertical-align: top;\n",
       "    }\n",
       "\n",
       "    .dataframe thead th {\n",
       "        text-align: right;\n",
       "    }\n",
       "</style>\n",
       "<table border=\"1\" class=\"dataframe\">\n",
       "  <thead>\n",
       "    <tr style=\"text-align: right;\">\n",
       "      <th></th>\n",
       "      <th>Team</th>\n",
       "      <th>Win%</th>\n",
       "      <th>WonGames</th>\n",
       "    </tr>\n",
       "  </thead>\n",
       "  <tbody>\n",
       "    <tr>\n",
       "      <th>0</th>\n",
       "      <td>Team 1</td>\n",
       "      <td>0.696235</td>\n",
       "      <td>1647.0</td>\n",
       "    </tr>\n",
       "    <tr>\n",
       "      <th>1</th>\n",
       "      <td>Team 2</td>\n",
       "      <td>0.676140</td>\n",
       "      <td>1581.0</td>\n",
       "    </tr>\n",
       "    <tr>\n",
       "      <th>2</th>\n",
       "      <td>Team 3</td>\n",
       "      <td>0.589135</td>\n",
       "      <td>1241.0</td>\n",
       "    </tr>\n",
       "    <tr>\n",
       "      <th>3</th>\n",
       "      <td>Team 5</td>\n",
       "      <td>0.552317</td>\n",
       "      <td>1209.0</td>\n",
       "    </tr>\n",
       "    <tr>\n",
       "      <th>4</th>\n",
       "      <td>Team 4</td>\n",
       "      <td>0.561186</td>\n",
       "      <td>1187.0</td>\n",
       "    </tr>\n",
       "    <tr>\n",
       "      <th>5</th>\n",
       "      <td>Team 6</td>\n",
       "      <td>0.521387</td>\n",
       "      <td>990.0</td>\n",
       "    </tr>\n",
       "    <tr>\n",
       "      <th>6</th>\n",
       "      <td>Team 7</td>\n",
       "      <td>0.476771</td>\n",
       "      <td>948.0</td>\n",
       "    </tr>\n",
       "    <tr>\n",
       "      <th>7</th>\n",
       "      <td>Team 8</td>\n",
       "      <td>0.500652</td>\n",
       "      <td>864.0</td>\n",
       "    </tr>\n",
       "    <tr>\n",
       "      <th>8</th>\n",
       "      <td>Team 9</td>\n",
       "      <td>0.482880</td>\n",
       "      <td>698.0</td>\n",
       "    </tr>\n",
       "    <tr>\n",
       "      <th>9</th>\n",
       "      <td>Team 10</td>\n",
       "      <td>0.478009</td>\n",
       "      <td>606.0</td>\n",
       "    </tr>\n",
       "    <tr>\n",
       "      <th>10</th>\n",
       "      <td>Team 12</td>\n",
       "      <td>0.459658</td>\n",
       "      <td>586.0</td>\n",
       "    </tr>\n",
       "    <tr>\n",
       "      <th>11</th>\n",
       "      <td>Team 11</td>\n",
       "      <td>0.496078</td>\n",
       "      <td>563.0</td>\n",
       "    </tr>\n",
       "    <tr>\n",
       "      <th>12</th>\n",
       "      <td>Team 15</td>\n",
       "      <td>0.445816</td>\n",
       "      <td>471.0</td>\n",
       "    </tr>\n",
       "    <tr>\n",
       "      <th>13</th>\n",
       "      <td>Team 13</td>\n",
       "      <td>0.446794</td>\n",
       "      <td>463.0</td>\n",
       "    </tr>\n",
       "    <tr>\n",
       "      <th>14</th>\n",
       "      <td>Team 16</td>\n",
       "      <td>0.447269</td>\n",
       "      <td>426.0</td>\n",
       "    </tr>\n",
       "    <tr>\n",
       "      <th>15</th>\n",
       "      <td>Team 18</td>\n",
       "      <td>0.464765</td>\n",
       "      <td>408.0</td>\n",
       "    </tr>\n",
       "    <tr>\n",
       "      <th>16</th>\n",
       "      <td>Team 20</td>\n",
       "      <td>0.445255</td>\n",
       "      <td>367.0</td>\n",
       "    </tr>\n",
       "    <tr>\n",
       "      <th>17</th>\n",
       "      <td>Team 19</td>\n",
       "      <td>0.466599</td>\n",
       "      <td>333.0</td>\n",
       "    </tr>\n",
       "  </tbody>\n",
       "</table>\n",
       "</div>"
      ],
      "text/plain": [
       "       Team      Win%  WonGames\n",
       "0    Team 1  0.696235    1647.0\n",
       "1    Team 2  0.676140    1581.0\n",
       "2    Team 3  0.589135    1241.0\n",
       "3    Team 5  0.552317    1209.0\n",
       "4    Team 4  0.561186    1187.0\n",
       "5    Team 6  0.521387     990.0\n",
       "6    Team 7  0.476771     948.0\n",
       "7    Team 8  0.500652     864.0\n",
       "8    Team 9  0.482880     698.0\n",
       "9   Team 10  0.478009     606.0\n",
       "10  Team 12  0.459658     586.0\n",
       "11  Team 11  0.496078     563.0\n",
       "12  Team 15  0.445816     471.0\n",
       "13  Team 13  0.446794     463.0\n",
       "14  Team 16  0.447269     426.0\n",
       "15  Team 18  0.464765     408.0\n",
       "16  Team 20  0.445255     367.0\n",
       "17  Team 19  0.466599     333.0"
      ]
     },
     "execution_count": 86,
     "metadata": {},
     "output_type": "execute_result"
    }
   ],
   "source": [
    "intersected_df[['Team', 'Win%', 'WonGames']]"
   ]
  },
  {
   "cell_type": "markdown",
   "id": "a3a927e5",
   "metadata": {},
   "source": [
    "# 3. IMPROVEMENTS AND SUGGESTIONS FOR DATA POINTS"
   ]
  },
  {
   "cell_type": "markdown",
   "id": "3e589a4d",
   "metadata": {},
   "source": [
    "## 1. Quality:\n",
    "Some of the columns had mixed data like TeamLaunch, special instructions can be mentioned while adding the data like 'only enter the year of team formation' to avoid this."
   ]
  },
  {
   "cell_type": "markdown",
   "id": "0f785890",
   "metadata": {},
   "source": [
    "## 2. Quantity:\n",
    "Since our dataset had only 61 entries, we couldn't figure out more trends. We can include information about the players of each team, at least of the captains. It would have given us some information about the team's performance under different captains."
   ]
  },
  {
   "cell_type": "markdown",
   "id": "b553bcd2",
   "metadata": {},
   "source": [
    "## 3. Velocity:\n",
    "Efficient speed of data collection can be achieved if we maintain a regular record of the games, keep adding data after every match."
   ]
  },
  {
   "cell_type": "markdown",
   "id": "5ad49f2b",
   "metadata": {},
   "source": [
    "## 4. Variety:\n",
    "Again, more information about the team players can help us add variety to the data and will help us understand trends over the years."
   ]
  },
  {
   "cell_type": "markdown",
   "id": "f518a1ca",
   "metadata": {},
   "source": [
    "## Conclusion:\n",
    "Company X can approach the top 5 teams namely Team 1,2,3,4,5 since they have the highest score, max no of baskets scored, max winning % and maximum probability of winning the matches as well."
   ]
  }
 ],
 "metadata": {
  "kernelspec": {
   "display_name": "Python 3 (ipykernel)",
   "language": "python",
   "name": "python3"
  },
  "language_info": {
   "codemirror_mode": {
    "name": "ipython",
    "version": 3
   },
   "file_extension": ".py",
   "mimetype": "text/x-python",
   "name": "python",
   "nbconvert_exporter": "python",
   "pygments_lexer": "ipython3",
   "version": "3.9.12"
  }
 },
 "nbformat": 4,
 "nbformat_minor": 5
}
